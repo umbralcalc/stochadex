{
 "cells": [
  {
   "cell_type": "markdown",
   "metadata": {},
   "source": [
    "# Building the stochadex"
   ]
  },
  {
   "cell_type": "markdown",
   "metadata": {},
   "source": [
    "**Mathematical formalism**\n",
    "\n",
    "Ideally, the stochadex sampler should be designed to try and maintain a balance between performance and flexibility of utilisation (it's meant to be a general stochastic modelling tool after all!). But before we dive into the software, we need to define the mathematical approach we're going to take. It seems reasonable to start with writing down the following formula which describes iterating some arbitrary process forward in time (by one finite step) and adding a new row each to some matrices $S' \\rightarrow S$ and $X' \\rightarrow X$\n",
    "\n",
    "$$\n",
    "\\begin{align}\n",
    "& X^i_{t+\\delta t} = F^i_{t+\\delta t}(X', t) + S^i_{t+\\delta t}(X',S',t),\n",
    "\\end{align}\n",
    "$$\n",
    "\n",
    "where to explain things in a bit more detail, let's define\n",
    "\n",
    "- $\\delta t$ as the size of the next timestep\n",
    "- $i$ as an index for the dimensions of the 'state' space\n",
    "- $t$ as the current time which may either correspond to the index for some arbitrary stepping process (where $\\delta t = 1$), or the explicit time variable for a discrete-time process or some discrete approximation to a continuous-time process\n",
    "- $X$ as the next version of $X'$ after one timestep (and hence one new row has been added)\n",
    "- $S$ as the next version of $S'$ (similarly to $X$ and $X'$)\n",
    "- $F^i_{t+\\delta t}(X', t)$ as the latest element of some matrix which very generally can depend on $X'$, $t$ and $\\delta t$\n",
    "- $S^i_{t+\\delta t}(X', S', t)$ as the recorded values of a stochastic process defined over the dimensions of the state space indexed by $i$ which may either vary with continuous sample paths in time or not, and which very generally can depend on $X'$, $S'$, $t$ and $\\delta t$.\n",
    "\n",
    "Let's try to make this visually clearer through this snazzy <img src=\"images/smile.png\" width=\"30\"/> diagram. \n",
    "\n",
    "<img src=\"images/stochadex-formalism-math-diag.png\" alt=\"Drawing\" style=\"width: 700px;\"/>\n",
    "\n",
    "So the idea here is to iterate the matrices $X$ and $S$ forward in time by a row, and use their previous versions ($X'$ and $S'$) as entire matrix inputs into functions which populate the elements of their latest rows. Note that I've avoided using the time variable $t$ and its step size $\\delta t$ (reducing the formalism to that of an arbitrary stepping process) to try and make the diagram above more clear, but, more generally, these values may be present in the calculations of new matrix rows.\n",
    "\n",
    "Why go to all this trouble of storing matrix inputs for previous values of the same process? For a large class of stochastic processes this memory of past values is essential to consistently construct the sample paths moving forward. This is true in particular for _non-Markovian_ phenomena (see, e.g., [Markov chains](https://en.wikipedia.org/wiki/Markov_chain) to get a sense of their antithesis), where the latest values don't just depend on the immediately previous ones but can depend on values which occured much earlier in the process.\n"
   ]
  },
  {
   "cell_type": "code",
   "execution_count": 13,
   "metadata": {
    "tags": [
     "hide-cell"
    ]
   },
   "outputs": [
    {
     "data": {
      "text/html": [
       "        <script type=\"text/javascript\">\n",
       "        window.PlotlyConfig = {MathJaxConfig: 'local'};\n",
       "        if (window.MathJax && window.MathJax.Hub && window.MathJax.Hub.Config) {window.MathJax.Hub.Config({SVG: {font: \"STIX-Web\"}});}\n",
       "        if (typeof require !== 'undefined') {\n",
       "        require.undef(\"plotly\");\n",
       "        requirejs.config({\n",
       "            paths: {\n",
       "                'plotly': ['https://cdn.plot.ly/plotly-2.16.1.min']\n",
       "            }\n",
       "        });\n",
       "        require(['plotly'], function(Plotly) {\n",
       "            window._Plotly = Plotly;\n",
       "        });\n",
       "        }\n",
       "        </script>\n",
       "        "
      ]
     },
     "metadata": {},
     "output_type": "display_data"
    }
   ],
   "source": [
    "from typing import Tuple, List\n",
    "import numpy as np\n",
    "import scipy.special as sps\n",
    "import plotly.graph_objects as go\n",
    "import plotly.offline as po\n",
    "\n",
    "po.init_notebook_mode(connected=True)\n",
    "\n",
    "def get_next_matrix_row(\n",
    "    t: float,\n",
    "    delta_t: float,\n",
    "    X_prime: np.ndarray,\n",
    "    S_prime: np.ndarray,\n",
    "    F: callable,\n",
    "    S: callable,\n",
    ") -> Tuple[np.ndarray, np.ndarray]:\n",
    "    s = S(X_prime, S_prime, t, delta_t)\n",
    "    x = F(X_prime, t, delta_t) + s\n",
    "    return x, s\n",
    "\n",
    "\n",
    "def generate_x_time_series(\n",
    "    t_period: float,\n",
    "    delta_t: float,\n",
    "    X_init: np.ndarray,\n",
    "    S_init: np.ndarray,\n",
    "    F: callable,\n",
    "    S: callable,\n",
    ") -> List[np.ndarray]:\n",
    "    x_time_series = []\n",
    "    X_current, S_current = X_init, S_init\n",
    "    t = 0.0\n",
    "    while t < t_period:\n",
    "        x, s = get_next_matrix_row(t, delta_t, X_current, S_current, F, S)\n",
    "        x_time_series.append(x)\n",
    "        X_current = np.roll(X_current, 1, axis=0)\n",
    "        S_current = np.roll(S_current, 1, axis=0)\n",
    "        X_current[0] = x\n",
    "        S_current[0] = s\n",
    "        t += delta_t\n",
    "    return x_time_series\n",
    "\n",
    "\n",
    "def plot_x_time_series(\n",
    "    t_period: float,\n",
    "    delta_t: float,\n",
    "    X_init: np.ndarray,\n",
    "    S_init: np.ndarray,\n",
    "    F: callable,\n",
    "    S: callable,\n",
    "    filename: str,\n",
    "    trace_names: List[str],\n",
    "):\n",
    "    x_time_series = generate_x_time_series(t_period, delta_t, X_init, S_init, F, S)\n",
    "    fig = go.Figure()\n",
    "    for i in range(len(x_time_series[0])):\n",
    "        fig.add_trace(\n",
    "            go.Scatter(\n",
    "                x=np.arange(0, t_period, delta_t), \n",
    "                y=np.asarray(x_time_series).T[i],\n",
    "                name=trace_names[i],\n",
    "            )\n",
    "        )\n",
    "    fig.update_layout(showlegend=False)\n",
    "    po.iplot(fig, filename=filename)"
   ]
  },
  {
   "cell_type": "markdown",
   "metadata": {},
   "source": [
    "**Flavours of noise with continuous sample paths**\n",
    "\n",
    "For **Wiener process noise**, adopting the [Itô interpretation](https://en.wikipedia.org/wiki/It%C3%B4_calculus) in this section, we can define $W^i_{t}$ is a sample from a Wiener process for each of the state dimensions indexed by $i$ and our formalism becomes\n",
    "\n",
    "$$\n",
    "\\begin{align}\n",
    "& X^i_{t+\\delta t} = F^i_{t+\\delta t}(X', t) + \\textcolor{red}{W^i_{t+\\delta t}-W^i_{t}}.\n",
    "\\end{align}\n",
    "$$"
   ]
  },
  {
   "cell_type": "code",
   "execution_count": 15,
   "metadata": {
    "tags": [
     "hide-cell"
    ]
   },
   "outputs": [
    {
     "data": {
      "application/vnd.plotly.v1+json": {
       "config": {
        "linkText": "Export to plot.ly",
        "plotlyServerURL": "https://plot.ly",
        "showLink": false
       },
       "data": [
        {
         "name": "Ornstein-Uhlenbeck (1.0, 3.0, 0.5)",
         "type": "scatter",
         "x": [
          0,
          0.1,
          0.2,
          0.30000000000000004,
          0.4,
          0.5,
          0.6000000000000001,
          0.7000000000000001,
          0.8,
          0.9,
          1,
          1.1,
          1.2000000000000002,
          1.3,
          1.4000000000000001,
          1.5,
          1.6,
          1.7000000000000002,
          1.8,
          1.9000000000000001,
          2,
          2.1,
          2.2,
          2.3000000000000003,
          2.4000000000000004,
          2.5,
          2.6,
          2.7,
          2.8000000000000003,
          2.9000000000000004,
          3,
          3.1,
          3.2,
          3.3000000000000003,
          3.4000000000000004,
          3.5,
          3.6,
          3.7,
          3.8000000000000003,
          3.9000000000000004,
          4,
          4.1000000000000005,
          4.2,
          4.3,
          4.4,
          4.5,
          4.6000000000000005,
          4.7,
          4.800000000000001,
          4.9,
          5,
          5.1000000000000005,
          5.2,
          5.300000000000001,
          5.4,
          5.5,
          5.6000000000000005,
          5.7,
          5.800000000000001,
          5.9,
          6,
          6.1000000000000005,
          6.2,
          6.300000000000001,
          6.4,
          6.5,
          6.6000000000000005,
          6.7,
          6.800000000000001,
          6.9,
          7,
          7.1000000000000005,
          7.2,
          7.300000000000001,
          7.4,
          7.5,
          7.6000000000000005,
          7.7,
          7.800000000000001,
          7.9,
          8,
          8.1,
          8.200000000000001,
          8.3,
          8.4,
          8.5,
          8.6,
          8.700000000000001,
          8.8,
          8.9,
          9,
          9.1,
          9.200000000000001,
          9.3,
          9.4,
          9.5,
          9.600000000000001,
          9.700000000000001,
          9.8,
          9.9
         ],
         "y": [
          0.3620895700185709,
          0.5360154671767511,
          0.8854618563796932,
          1.177593752358562,
          1.3102494130248032,
          1.3600524668038636,
          1.4210836978595314,
          1.6150119815690154,
          1.8401977250599522,
          1.751330251117498,
          1.7215785238116215,
          1.954326522436471,
          2.0096971749405688,
          1.97368466272149,
          2.1598455745674614,
          2.29518876926333,
          2.2820671473928367,
          2.3941219641919798,
          2.3584261496718635,
          2.2424352253017426,
          2.290240378482023,
          2.0574057635542866,
          2.1618390484599237,
          2.4015445305093888,
          2.689769452844748,
          2.9555204258994787,
          2.7594553414845646,
          2.862498597544006,
          2.7302110263985893,
          2.61584049705822,
          2.517071670913124,
          2.551925985778207,
          2.6339058138846685,
          2.5983392574959097,
          2.604699729479761,
          2.470639160315019,
          2.460537639973921,
          2.6892031649305674,
          2.7663965796676595,
          2.772810514888766,
          2.7577129323952465,
          2.9343315715800706,
          2.889664181605316,
          2.921254207475834,
          3.0221430118349706,
          2.9788353710951534,
          2.903344648673428,
          2.8880717154640365,
          2.8329901915881037,
          3.0033768300211294,
          2.9796941041036358,
          3.0062723357600123,
          3.2421586214801716,
          3.0784031557760674,
          3.1704190411062707,
          2.920353087153509,
          3.054678589927991,
          3.099594555716935,
          3.30771335669548,
          3.4682732220931065,
          3.0592874520412123,
          2.8803595688086863,
          3.0369996527290595,
          3.013215843152813,
          2.751641140479833,
          2.755084149018109,
          3.030392102906184,
          3.1322992404301684,
          3.1499544586114334,
          3.2152273749701465,
          3.069863429670073,
          2.902864360518456,
          2.6366563192241075,
          2.5912183919179137,
          2.8956980822823244,
          2.818460570514953,
          2.537617913270759,
          2.852775659311676,
          2.810787752643736,
          2.9714501161819284,
          2.9170622869138665,
          2.564531280368933,
          2.504315793133756,
          2.4861992764634593,
          2.809848575384651,
          2.4641364016393643,
          2.800128500697299,
          2.894758837830797,
          2.75366993457979,
          2.7138703358125316,
          2.6207068906708804,
          2.741453148721317,
          2.5611135804052867,
          2.5901793030002236,
          2.4903227922307662,
          2.4834804573679854,
          2.565884459052143,
          2.7733496710786225,
          2.6691957445178365,
          2.7031233618243045,
          2.6510932076288403
         ]
        },
        {
         "name": "Ornstein-Uhlenbeck (2.0, 5.0, 1.0)",
         "type": "scatter",
         "x": [
          0,
          0.1,
          0.2,
          0.30000000000000004,
          0.4,
          0.5,
          0.6000000000000001,
          0.7000000000000001,
          0.8,
          0.9,
          1,
          1.1,
          1.2000000000000002,
          1.3,
          1.4000000000000001,
          1.5,
          1.6,
          1.7000000000000002,
          1.8,
          1.9000000000000001,
          2,
          2.1,
          2.2,
          2.3000000000000003,
          2.4000000000000004,
          2.5,
          2.6,
          2.7,
          2.8000000000000003,
          2.9000000000000004,
          3,
          3.1,
          3.2,
          3.3000000000000003,
          3.4000000000000004,
          3.5,
          3.6,
          3.7,
          3.8000000000000003,
          3.9000000000000004,
          4,
          4.1000000000000005,
          4.2,
          4.3,
          4.4,
          4.5,
          4.6000000000000005,
          4.7,
          4.800000000000001,
          4.9,
          5,
          5.1000000000000005,
          5.2,
          5.300000000000001,
          5.4,
          5.5,
          5.6000000000000005,
          5.7,
          5.800000000000001,
          5.9,
          6,
          6.1000000000000005,
          6.2,
          6.300000000000001,
          6.4,
          6.5,
          6.6000000000000005,
          6.7,
          6.800000000000001,
          6.9,
          7,
          7.1000000000000005,
          7.2,
          7.300000000000001,
          7.4,
          7.5,
          7.6000000000000005,
          7.7,
          7.800000000000001,
          7.9,
          8,
          8.1,
          8.200000000000001,
          8.3,
          8.4,
          8.5,
          8.6,
          8.700000000000001,
          8.8,
          8.9,
          9,
          9.1,
          9.200000000000001,
          9.3,
          9.4,
          9.5,
          9.600000000000001,
          9.700000000000001,
          9.8,
          9.9
         ],
         "y": [
          0.5934987172294881,
          1.5453235776532535,
          1.978770176480455,
          2.8253585451368664,
          3.1569341469482683,
          3.0861336660032275,
          3.4712773822152885,
          4.098584942503768,
          4.536838307825357,
          4.679189480009288,
          4.796001711406495,
          4.896749006061992,
          5.310398602590771,
          5.54279234157071,
          5.358013672776972,
          5.432648059202653,
          5.424121233061612,
          5.046519048222749,
          4.411480243652561,
          4.9500043590771385,
          5.574457867020838,
          5.6251677024557285,
          5.402655903023671,
          5.41732842666753,
          5.217624233778637,
          5.130296400224604,
          5.4400106613710095,
          5.403918954540011,
          5.5151158217191325,
          5.269509984570033,
          5.049389823510989,
          4.455397017482966,
          4.4418572019517555,
          4.266318168628527,
          4.300926753977013,
          3.9614364840388694,
          4.47652757140846,
          4.24621282138153,
          4.3405606992927215,
          4.545168986013481,
          4.727591865998093,
          3.9890948727221516,
          4.352573419829217,
          4.311673191616871,
          4.134439179568666,
          4.183009130673835,
          3.9346636925487526,
          4.389503083796632,
          4.444001452725745,
          4.153286883892917,
          4.063943321755346,
          4.1261580741223485,
          3.9793586928081126,
          4.370643269530379,
          4.6965453757612945,
          4.853002912631154,
          4.936018708595038,
          4.880030752548553,
          4.926645394085295,
          4.861873014639024,
          4.926442213691148,
          4.560750407203342,
          4.655543912998241,
          4.330186848564202,
          4.477383416583578,
          4.009158969968643,
          4.987333879668483,
          4.605950299324277,
          4.532049891282305,
          4.945082977372506,
          4.869807534733299,
          4.775446277194978,
          5.036955970435197,
          5.069361255263042,
          4.629989291170145,
          4.26644296282889,
          4.444324922854073,
          4.835556721261151,
          4.600701640205894,
          4.514750230569575,
          4.599652121836076,
          4.723628339272273,
          4.717140995281734,
          4.572852287938149,
          4.41540737873192,
          4.591041202395588,
          4.981034222760103,
          4.83705445625233,
          5.05428079940753,
          5.377808695183105,
          5.0925723324421845,
          5.099151828876213,
          5.179437150036967,
          5.178311070577524,
          5.142536248458882,
          5.546829399467622,
          5.5468219336728835,
          5.442810975332163,
          5.311747354116348,
          5.455567528168409,
          5.702100796442781
         ]
        },
        {
         "name": "Ornstein-Uhlenbeck (3.0, 2.0, 0.5)",
         "type": "scatter",
         "x": [
          0,
          0.1,
          0.2,
          0.30000000000000004,
          0.4,
          0.5,
          0.6000000000000001,
          0.7000000000000001,
          0.8,
          0.9,
          1,
          1.1,
          1.2000000000000002,
          1.3,
          1.4000000000000001,
          1.5,
          1.6,
          1.7000000000000002,
          1.8,
          1.9000000000000001,
          2,
          2.1,
          2.2,
          2.3000000000000003,
          2.4000000000000004,
          2.5,
          2.6,
          2.7,
          2.8000000000000003,
          2.9000000000000004,
          3,
          3.1,
          3.2,
          3.3000000000000003,
          3.4000000000000004,
          3.5,
          3.6,
          3.7,
          3.8000000000000003,
          3.9000000000000004,
          4,
          4.1000000000000005,
          4.2,
          4.3,
          4.4,
          4.5,
          4.6000000000000005,
          4.7,
          4.800000000000001,
          4.9,
          5,
          5.1000000000000005,
          5.2,
          5.300000000000001,
          5.4,
          5.5,
          5.6000000000000005,
          5.7,
          5.800000000000001,
          5.9,
          6,
          6.1000000000000005,
          6.2,
          6.300000000000001,
          6.4,
          6.5,
          6.6000000000000005,
          6.7,
          6.800000000000001,
          6.9,
          7,
          7.1000000000000005,
          7.2,
          7.300000000000001,
          7.4,
          7.5,
          7.6000000000000005,
          7.7,
          7.800000000000001,
          7.9,
          8,
          8.1,
          8.200000000000001,
          8.3,
          8.4,
          8.5,
          8.6,
          8.700000000000001,
          8.8,
          8.9,
          9,
          9.1,
          9.200000000000001,
          9.3,
          9.4,
          9.5,
          9.600000000000001,
          9.700000000000001,
          9.8,
          9.9
         ],
         "y": [
          0.618589442447653,
          1.1770998374480128,
          1.5623038135649758,
          1.6992078016560435,
          1.959472000019705,
          1.8210839706887945,
          1.9202804603617887,
          2.141213648208367,
          2.01129230723857,
          2.076424612985535,
          2.1392517129729423,
          2.193975614851082,
          2.1062268952552494,
          2.0905770976655007,
          1.9030185750377877,
          1.9496685535132423,
          2.0127923520847926,
          1.8831142709920075,
          1.707397356638024,
          1.7647441324077078,
          1.604869934615362,
          1.7340363543453428,
          1.8219017734967249,
          1.9390008278294635,
          2.1009546562690953,
          2.145353557201757,
          2.1072291934028087,
          2.102283825869422,
          1.8099259667755128,
          2.4434444382043754,
          2.2972566281086713,
          2.1181112496000485,
          2.067786752056062,
          1.913865195161488,
          1.6707696331829183,
          1.477186182591612,
          1.462087048571861,
          1.513383864126469,
          1.8155357703579573,
          1.7542673801943958,
          1.8835550025465109,
          1.9473437443389496,
          1.7293086716147616,
          1.8086904009663773,
          2.0475336677418987,
          2.231283171988049,
          2.389463355025424,
          2.5094798735468054,
          2.097764379654466,
          2.3807361420883666,
          2.1403378685453163,
          2.1092346586042776,
          2.229461995327727,
          2.3333713520664756,
          2.195018177253121,
          2.0536428138960576,
          2.02156917441124,
          2.188738869261192,
          2.058677037913159,
          2.1673360017567576,
          2.0748720692393925,
          2.3567677225715453,
          2.4424028745843067,
          2.4107066225419107,
          2.250719075188984,
          2.3683062403002673,
          1.9217598042962085,
          1.8698314001137506,
          1.959740183086854,
          2.1162640724457087,
          2.493974553718704,
          2.4862457345946996,
          2.1750048538080677,
          2.4082601425714363,
          2.349210759171078,
          2.208507164788396,
          2.4529609781382975,
          2.301259302237591,
          2.0754768878281045,
          2.1795734461881993,
          2.068557594511575,
          2.1225660644564743,
          1.878050923705837,
          1.8268760211894963,
          1.9818267410059882,
          2.255659541843945,
          2.2611339582576173,
          2.386505299618757,
          2.015604396209877,
          2.230229121987111,
          2.250954996375218,
          2.314363012276331,
          2.1699467737528835,
          2.1505296571122514,
          2.197843389573232,
          1.9558963986566982,
          1.9160132599293307,
          2.130890183536122,
          2.1770847790784016,
          1.9905203025782476,
          1.8764689803815409
         ]
        }
       ],
       "layout": {
        "showlegend": false,
        "template": {
         "data": {
          "bar": [
           {
            "error_x": {
             "color": "#2a3f5f"
            },
            "error_y": {
             "color": "#2a3f5f"
            },
            "marker": {
             "line": {
              "color": "#E5ECF6",
              "width": 0.5
             },
             "pattern": {
              "fillmode": "overlay",
              "size": 10,
              "solidity": 0.2
             }
            },
            "type": "bar"
           }
          ],
          "barpolar": [
           {
            "marker": {
             "line": {
              "color": "#E5ECF6",
              "width": 0.5
             },
             "pattern": {
              "fillmode": "overlay",
              "size": 10,
              "solidity": 0.2
             }
            },
            "type": "barpolar"
           }
          ],
          "carpet": [
           {
            "aaxis": {
             "endlinecolor": "#2a3f5f",
             "gridcolor": "white",
             "linecolor": "white",
             "minorgridcolor": "white",
             "startlinecolor": "#2a3f5f"
            },
            "baxis": {
             "endlinecolor": "#2a3f5f",
             "gridcolor": "white",
             "linecolor": "white",
             "minorgridcolor": "white",
             "startlinecolor": "#2a3f5f"
            },
            "type": "carpet"
           }
          ],
          "choropleth": [
           {
            "colorbar": {
             "outlinewidth": 0,
             "ticks": ""
            },
            "type": "choropleth"
           }
          ],
          "contour": [
           {
            "colorbar": {
             "outlinewidth": 0,
             "ticks": ""
            },
            "colorscale": [
             [
              0,
              "#0d0887"
             ],
             [
              0.1111111111111111,
              "#46039f"
             ],
             [
              0.2222222222222222,
              "#7201a8"
             ],
             [
              0.3333333333333333,
              "#9c179e"
             ],
             [
              0.4444444444444444,
              "#bd3786"
             ],
             [
              0.5555555555555556,
              "#d8576b"
             ],
             [
              0.6666666666666666,
              "#ed7953"
             ],
             [
              0.7777777777777778,
              "#fb9f3a"
             ],
             [
              0.8888888888888888,
              "#fdca26"
             ],
             [
              1,
              "#f0f921"
             ]
            ],
            "type": "contour"
           }
          ],
          "contourcarpet": [
           {
            "colorbar": {
             "outlinewidth": 0,
             "ticks": ""
            },
            "type": "contourcarpet"
           }
          ],
          "heatmap": [
           {
            "colorbar": {
             "outlinewidth": 0,
             "ticks": ""
            },
            "colorscale": [
             [
              0,
              "#0d0887"
             ],
             [
              0.1111111111111111,
              "#46039f"
             ],
             [
              0.2222222222222222,
              "#7201a8"
             ],
             [
              0.3333333333333333,
              "#9c179e"
             ],
             [
              0.4444444444444444,
              "#bd3786"
             ],
             [
              0.5555555555555556,
              "#d8576b"
             ],
             [
              0.6666666666666666,
              "#ed7953"
             ],
             [
              0.7777777777777778,
              "#fb9f3a"
             ],
             [
              0.8888888888888888,
              "#fdca26"
             ],
             [
              1,
              "#f0f921"
             ]
            ],
            "type": "heatmap"
           }
          ],
          "heatmapgl": [
           {
            "colorbar": {
             "outlinewidth": 0,
             "ticks": ""
            },
            "colorscale": [
             [
              0,
              "#0d0887"
             ],
             [
              0.1111111111111111,
              "#46039f"
             ],
             [
              0.2222222222222222,
              "#7201a8"
             ],
             [
              0.3333333333333333,
              "#9c179e"
             ],
             [
              0.4444444444444444,
              "#bd3786"
             ],
             [
              0.5555555555555556,
              "#d8576b"
             ],
             [
              0.6666666666666666,
              "#ed7953"
             ],
             [
              0.7777777777777778,
              "#fb9f3a"
             ],
             [
              0.8888888888888888,
              "#fdca26"
             ],
             [
              1,
              "#f0f921"
             ]
            ],
            "type": "heatmapgl"
           }
          ],
          "histogram": [
           {
            "marker": {
             "pattern": {
              "fillmode": "overlay",
              "size": 10,
              "solidity": 0.2
             }
            },
            "type": "histogram"
           }
          ],
          "histogram2d": [
           {
            "colorbar": {
             "outlinewidth": 0,
             "ticks": ""
            },
            "colorscale": [
             [
              0,
              "#0d0887"
             ],
             [
              0.1111111111111111,
              "#46039f"
             ],
             [
              0.2222222222222222,
              "#7201a8"
             ],
             [
              0.3333333333333333,
              "#9c179e"
             ],
             [
              0.4444444444444444,
              "#bd3786"
             ],
             [
              0.5555555555555556,
              "#d8576b"
             ],
             [
              0.6666666666666666,
              "#ed7953"
             ],
             [
              0.7777777777777778,
              "#fb9f3a"
             ],
             [
              0.8888888888888888,
              "#fdca26"
             ],
             [
              1,
              "#f0f921"
             ]
            ],
            "type": "histogram2d"
           }
          ],
          "histogram2dcontour": [
           {
            "colorbar": {
             "outlinewidth": 0,
             "ticks": ""
            },
            "colorscale": [
             [
              0,
              "#0d0887"
             ],
             [
              0.1111111111111111,
              "#46039f"
             ],
             [
              0.2222222222222222,
              "#7201a8"
             ],
             [
              0.3333333333333333,
              "#9c179e"
             ],
             [
              0.4444444444444444,
              "#bd3786"
             ],
             [
              0.5555555555555556,
              "#d8576b"
             ],
             [
              0.6666666666666666,
              "#ed7953"
             ],
             [
              0.7777777777777778,
              "#fb9f3a"
             ],
             [
              0.8888888888888888,
              "#fdca26"
             ],
             [
              1,
              "#f0f921"
             ]
            ],
            "type": "histogram2dcontour"
           }
          ],
          "mesh3d": [
           {
            "colorbar": {
             "outlinewidth": 0,
             "ticks": ""
            },
            "type": "mesh3d"
           }
          ],
          "parcoords": [
           {
            "line": {
             "colorbar": {
              "outlinewidth": 0,
              "ticks": ""
             }
            },
            "type": "parcoords"
           }
          ],
          "pie": [
           {
            "automargin": true,
            "type": "pie"
           }
          ],
          "scatter": [
           {
            "fillpattern": {
             "fillmode": "overlay",
             "size": 10,
             "solidity": 0.2
            },
            "type": "scatter"
           }
          ],
          "scatter3d": [
           {
            "line": {
             "colorbar": {
              "outlinewidth": 0,
              "ticks": ""
             }
            },
            "marker": {
             "colorbar": {
              "outlinewidth": 0,
              "ticks": ""
             }
            },
            "type": "scatter3d"
           }
          ],
          "scattercarpet": [
           {
            "marker": {
             "colorbar": {
              "outlinewidth": 0,
              "ticks": ""
             }
            },
            "type": "scattercarpet"
           }
          ],
          "scattergeo": [
           {
            "marker": {
             "colorbar": {
              "outlinewidth": 0,
              "ticks": ""
             }
            },
            "type": "scattergeo"
           }
          ],
          "scattergl": [
           {
            "marker": {
             "colorbar": {
              "outlinewidth": 0,
              "ticks": ""
             }
            },
            "type": "scattergl"
           }
          ],
          "scattermapbox": [
           {
            "marker": {
             "colorbar": {
              "outlinewidth": 0,
              "ticks": ""
             }
            },
            "type": "scattermapbox"
           }
          ],
          "scatterpolar": [
           {
            "marker": {
             "colorbar": {
              "outlinewidth": 0,
              "ticks": ""
             }
            },
            "type": "scatterpolar"
           }
          ],
          "scatterpolargl": [
           {
            "marker": {
             "colorbar": {
              "outlinewidth": 0,
              "ticks": ""
             }
            },
            "type": "scatterpolargl"
           }
          ],
          "scatterternary": [
           {
            "marker": {
             "colorbar": {
              "outlinewidth": 0,
              "ticks": ""
             }
            },
            "type": "scatterternary"
           }
          ],
          "surface": [
           {
            "colorbar": {
             "outlinewidth": 0,
             "ticks": ""
            },
            "colorscale": [
             [
              0,
              "#0d0887"
             ],
             [
              0.1111111111111111,
              "#46039f"
             ],
             [
              0.2222222222222222,
              "#7201a8"
             ],
             [
              0.3333333333333333,
              "#9c179e"
             ],
             [
              0.4444444444444444,
              "#bd3786"
             ],
             [
              0.5555555555555556,
              "#d8576b"
             ],
             [
              0.6666666666666666,
              "#ed7953"
             ],
             [
              0.7777777777777778,
              "#fb9f3a"
             ],
             [
              0.8888888888888888,
              "#fdca26"
             ],
             [
              1,
              "#f0f921"
             ]
            ],
            "type": "surface"
           }
          ],
          "table": [
           {
            "cells": {
             "fill": {
              "color": "#EBF0F8"
             },
             "line": {
              "color": "white"
             }
            },
            "header": {
             "fill": {
              "color": "#C8D4E3"
             },
             "line": {
              "color": "white"
             }
            },
            "type": "table"
           }
          ]
         },
         "layout": {
          "annotationdefaults": {
           "arrowcolor": "#2a3f5f",
           "arrowhead": 0,
           "arrowwidth": 1
          },
          "autotypenumbers": "strict",
          "coloraxis": {
           "colorbar": {
            "outlinewidth": 0,
            "ticks": ""
           }
          },
          "colorscale": {
           "diverging": [
            [
             0,
             "#8e0152"
            ],
            [
             0.1,
             "#c51b7d"
            ],
            [
             0.2,
             "#de77ae"
            ],
            [
             0.3,
             "#f1b6da"
            ],
            [
             0.4,
             "#fde0ef"
            ],
            [
             0.5,
             "#f7f7f7"
            ],
            [
             0.6,
             "#e6f5d0"
            ],
            [
             0.7,
             "#b8e186"
            ],
            [
             0.8,
             "#7fbc41"
            ],
            [
             0.9,
             "#4d9221"
            ],
            [
             1,
             "#276419"
            ]
           ],
           "sequential": [
            [
             0,
             "#0d0887"
            ],
            [
             0.1111111111111111,
             "#46039f"
            ],
            [
             0.2222222222222222,
             "#7201a8"
            ],
            [
             0.3333333333333333,
             "#9c179e"
            ],
            [
             0.4444444444444444,
             "#bd3786"
            ],
            [
             0.5555555555555556,
             "#d8576b"
            ],
            [
             0.6666666666666666,
             "#ed7953"
            ],
            [
             0.7777777777777778,
             "#fb9f3a"
            ],
            [
             0.8888888888888888,
             "#fdca26"
            ],
            [
             1,
             "#f0f921"
            ]
           ],
           "sequentialminus": [
            [
             0,
             "#0d0887"
            ],
            [
             0.1111111111111111,
             "#46039f"
            ],
            [
             0.2222222222222222,
             "#7201a8"
            ],
            [
             0.3333333333333333,
             "#9c179e"
            ],
            [
             0.4444444444444444,
             "#bd3786"
            ],
            [
             0.5555555555555556,
             "#d8576b"
            ],
            [
             0.6666666666666666,
             "#ed7953"
            ],
            [
             0.7777777777777778,
             "#fb9f3a"
            ],
            [
             0.8888888888888888,
             "#fdca26"
            ],
            [
             1,
             "#f0f921"
            ]
           ]
          },
          "colorway": [
           "#636efa",
           "#EF553B",
           "#00cc96",
           "#ab63fa",
           "#FFA15A",
           "#19d3f3",
           "#FF6692",
           "#B6E880",
           "#FF97FF",
           "#FECB52"
          ],
          "font": {
           "color": "#2a3f5f"
          },
          "geo": {
           "bgcolor": "white",
           "lakecolor": "white",
           "landcolor": "#E5ECF6",
           "showlakes": true,
           "showland": true,
           "subunitcolor": "white"
          },
          "hoverlabel": {
           "align": "left"
          },
          "hovermode": "closest",
          "mapbox": {
           "style": "light"
          },
          "paper_bgcolor": "white",
          "plot_bgcolor": "#E5ECF6",
          "polar": {
           "angularaxis": {
            "gridcolor": "white",
            "linecolor": "white",
            "ticks": ""
           },
           "bgcolor": "#E5ECF6",
           "radialaxis": {
            "gridcolor": "white",
            "linecolor": "white",
            "ticks": ""
           }
          },
          "scene": {
           "xaxis": {
            "backgroundcolor": "#E5ECF6",
            "gridcolor": "white",
            "gridwidth": 2,
            "linecolor": "white",
            "showbackground": true,
            "ticks": "",
            "zerolinecolor": "white"
           },
           "yaxis": {
            "backgroundcolor": "#E5ECF6",
            "gridcolor": "white",
            "gridwidth": 2,
            "linecolor": "white",
            "showbackground": true,
            "ticks": "",
            "zerolinecolor": "white"
           },
           "zaxis": {
            "backgroundcolor": "#E5ECF6",
            "gridcolor": "white",
            "gridwidth": 2,
            "linecolor": "white",
            "showbackground": true,
            "ticks": "",
            "zerolinecolor": "white"
           }
          },
          "shapedefaults": {
           "line": {
            "color": "#2a3f5f"
           }
          },
          "ternary": {
           "aaxis": {
            "gridcolor": "white",
            "linecolor": "white",
            "ticks": ""
           },
           "baxis": {
            "gridcolor": "white",
            "linecolor": "white",
            "ticks": ""
           },
           "bgcolor": "#E5ECF6",
           "caxis": {
            "gridcolor": "white",
            "linecolor": "white",
            "ticks": ""
           }
          },
          "title": {
           "x": 0.05
          },
          "xaxis": {
           "automargin": true,
           "gridcolor": "white",
           "linecolor": "white",
           "ticks": "",
           "title": {
            "standoff": 15
           },
           "zerolinecolor": "white",
           "zerolinewidth": 2
          },
          "yaxis": {
           "automargin": true,
           "gridcolor": "white",
           "linecolor": "white",
           "ticks": "",
           "title": {
            "standoff": 15
           },
           "zerolinecolor": "white",
           "zerolinewidth": 2
          }
         }
        }
       }
      },
      "text/html": [
       "<div>                            <div id=\"5269d6da-9697-4a47-a483-1c51eae4c9ef\" class=\"plotly-graph-div\" style=\"height:525px; width:100%;\"></div>            <script type=\"text/javascript\">                require([\"plotly\"], function(Plotly) {                    window.PLOTLYENV=window.PLOTLYENV || {};                                    if (document.getElementById(\"5269d6da-9697-4a47-a483-1c51eae4c9ef\")) {                    Plotly.newPlot(                        \"5269d6da-9697-4a47-a483-1c51eae4c9ef\",                        [{\"name\":\"Ornstein-Uhlenbeck (1.0, 3.0, 0.5)\",\"x\":[0.0,0.1,0.2,0.30000000000000004,0.4,0.5,0.6000000000000001,0.7000000000000001,0.8,0.9,1.0,1.1,1.2000000000000002,1.3,1.4000000000000001,1.5,1.6,1.7000000000000002,1.8,1.9000000000000001,2.0,2.1,2.2,2.3000000000000003,2.4000000000000004,2.5,2.6,2.7,2.8000000000000003,2.9000000000000004,3.0,3.1,3.2,3.3000000000000003,3.4000000000000004,3.5,3.6,3.7,3.8000000000000003,3.9000000000000004,4.0,4.1000000000000005,4.2,4.3,4.4,4.5,4.6000000000000005,4.7,4.800000000000001,4.9,5.0,5.1000000000000005,5.2,5.300000000000001,5.4,5.5,5.6000000000000005,5.7,5.800000000000001,5.9,6.0,6.1000000000000005,6.2,6.300000000000001,6.4,6.5,6.6000000000000005,6.7,6.800000000000001,6.9,7.0,7.1000000000000005,7.2,7.300000000000001,7.4,7.5,7.6000000000000005,7.7,7.800000000000001,7.9,8.0,8.1,8.200000000000001,8.3,8.4,8.5,8.6,8.700000000000001,8.8,8.9,9.0,9.1,9.200000000000001,9.3,9.4,9.5,9.600000000000001,9.700000000000001,9.8,9.9],\"y\":[0.3620895700185709,0.5360154671767511,0.8854618563796932,1.177593752358562,1.3102494130248032,1.3600524668038636,1.4210836978595314,1.6150119815690154,1.8401977250599522,1.751330251117498,1.7215785238116215,1.954326522436471,2.0096971749405688,1.97368466272149,2.1598455745674614,2.29518876926333,2.2820671473928367,2.3941219641919798,2.3584261496718635,2.2424352253017426,2.290240378482023,2.0574057635542866,2.1618390484599237,2.4015445305093888,2.689769452844748,2.9555204258994787,2.7594553414845646,2.862498597544006,2.7302110263985893,2.61584049705822,2.517071670913124,2.551925985778207,2.6339058138846685,2.5983392574959097,2.604699729479761,2.470639160315019,2.460537639973921,2.6892031649305674,2.7663965796676595,2.772810514888766,2.7577129323952465,2.9343315715800706,2.889664181605316,2.921254207475834,3.0221430118349706,2.9788353710951534,2.903344648673428,2.8880717154640365,2.8329901915881037,3.0033768300211294,2.9796941041036358,3.0062723357600123,3.2421586214801716,3.0784031557760674,3.1704190411062707,2.920353087153509,3.054678589927991,3.099594555716935,3.30771335669548,3.4682732220931065,3.0592874520412123,2.8803595688086863,3.0369996527290595,3.013215843152813,2.751641140479833,2.755084149018109,3.030392102906184,3.1322992404301684,3.1499544586114334,3.2152273749701465,3.069863429670073,2.902864360518456,2.6366563192241075,2.5912183919179137,2.8956980822823244,2.818460570514953,2.537617913270759,2.852775659311676,2.810787752643736,2.9714501161819284,2.9170622869138665,2.564531280368933,2.504315793133756,2.4861992764634593,2.809848575384651,2.4641364016393643,2.800128500697299,2.894758837830797,2.75366993457979,2.7138703358125316,2.6207068906708804,2.741453148721317,2.5611135804052867,2.5901793030002236,2.4903227922307662,2.4834804573679854,2.565884459052143,2.7733496710786225,2.6691957445178365,2.7031233618243045,2.6510932076288403],\"type\":\"scatter\"},{\"name\":\"Ornstein-Uhlenbeck (2.0, 5.0, 1.0)\",\"x\":[0.0,0.1,0.2,0.30000000000000004,0.4,0.5,0.6000000000000001,0.7000000000000001,0.8,0.9,1.0,1.1,1.2000000000000002,1.3,1.4000000000000001,1.5,1.6,1.7000000000000002,1.8,1.9000000000000001,2.0,2.1,2.2,2.3000000000000003,2.4000000000000004,2.5,2.6,2.7,2.8000000000000003,2.9000000000000004,3.0,3.1,3.2,3.3000000000000003,3.4000000000000004,3.5,3.6,3.7,3.8000000000000003,3.9000000000000004,4.0,4.1000000000000005,4.2,4.3,4.4,4.5,4.6000000000000005,4.7,4.800000000000001,4.9,5.0,5.1000000000000005,5.2,5.300000000000001,5.4,5.5,5.6000000000000005,5.7,5.800000000000001,5.9,6.0,6.1000000000000005,6.2,6.300000000000001,6.4,6.5,6.6000000000000005,6.7,6.800000000000001,6.9,7.0,7.1000000000000005,7.2,7.300000000000001,7.4,7.5,7.6000000000000005,7.7,7.800000000000001,7.9,8.0,8.1,8.200000000000001,8.3,8.4,8.5,8.6,8.700000000000001,8.8,8.9,9.0,9.1,9.200000000000001,9.3,9.4,9.5,9.600000000000001,9.700000000000001,9.8,9.9],\"y\":[0.5934987172294881,1.5453235776532535,1.978770176480455,2.8253585451368664,3.1569341469482683,3.0861336660032275,3.4712773822152885,4.098584942503768,4.536838307825357,4.679189480009288,4.796001711406495,4.896749006061992,5.310398602590771,5.54279234157071,5.358013672776972,5.432648059202653,5.424121233061612,5.046519048222749,4.411480243652561,4.9500043590771385,5.574457867020838,5.6251677024557285,5.402655903023671,5.41732842666753,5.217624233778637,5.130296400224604,5.4400106613710095,5.403918954540011,5.5151158217191325,5.269509984570033,5.049389823510989,4.455397017482966,4.4418572019517555,4.266318168628527,4.300926753977013,3.9614364840388694,4.47652757140846,4.24621282138153,4.3405606992927215,4.545168986013481,4.727591865998093,3.9890948727221516,4.352573419829217,4.311673191616871,4.134439179568666,4.183009130673835,3.9346636925487526,4.389503083796632,4.444001452725745,4.153286883892917,4.063943321755346,4.1261580741223485,3.9793586928081126,4.370643269530379,4.6965453757612945,4.853002912631154,4.936018708595038,4.880030752548553,4.926645394085295,4.861873014639024,4.926442213691148,4.560750407203342,4.655543912998241,4.330186848564202,4.477383416583578,4.009158969968643,4.987333879668483,4.605950299324277,4.532049891282305,4.945082977372506,4.869807534733299,4.775446277194978,5.036955970435197,5.069361255263042,4.629989291170145,4.26644296282889,4.444324922854073,4.835556721261151,4.600701640205894,4.514750230569575,4.599652121836076,4.723628339272273,4.717140995281734,4.572852287938149,4.41540737873192,4.591041202395588,4.981034222760103,4.83705445625233,5.05428079940753,5.377808695183105,5.0925723324421845,5.099151828876213,5.179437150036967,5.178311070577524,5.142536248458882,5.546829399467622,5.5468219336728835,5.442810975332163,5.311747354116348,5.455567528168409,5.702100796442781],\"type\":\"scatter\"},{\"name\":\"Ornstein-Uhlenbeck (3.0, 2.0, 0.5)\",\"x\":[0.0,0.1,0.2,0.30000000000000004,0.4,0.5,0.6000000000000001,0.7000000000000001,0.8,0.9,1.0,1.1,1.2000000000000002,1.3,1.4000000000000001,1.5,1.6,1.7000000000000002,1.8,1.9000000000000001,2.0,2.1,2.2,2.3000000000000003,2.4000000000000004,2.5,2.6,2.7,2.8000000000000003,2.9000000000000004,3.0,3.1,3.2,3.3000000000000003,3.4000000000000004,3.5,3.6,3.7,3.8000000000000003,3.9000000000000004,4.0,4.1000000000000005,4.2,4.3,4.4,4.5,4.6000000000000005,4.7,4.800000000000001,4.9,5.0,5.1000000000000005,5.2,5.300000000000001,5.4,5.5,5.6000000000000005,5.7,5.800000000000001,5.9,6.0,6.1000000000000005,6.2,6.300000000000001,6.4,6.5,6.6000000000000005,6.7,6.800000000000001,6.9,7.0,7.1000000000000005,7.2,7.300000000000001,7.4,7.5,7.6000000000000005,7.7,7.800000000000001,7.9,8.0,8.1,8.200000000000001,8.3,8.4,8.5,8.6,8.700000000000001,8.8,8.9,9.0,9.1,9.200000000000001,9.3,9.4,9.5,9.600000000000001,9.700000000000001,9.8,9.9],\"y\":[0.618589442447653,1.1770998374480128,1.5623038135649758,1.6992078016560435,1.959472000019705,1.8210839706887945,1.9202804603617887,2.141213648208367,2.01129230723857,2.076424612985535,2.1392517129729423,2.193975614851082,2.1062268952552494,2.0905770976655007,1.9030185750377877,1.9496685535132423,2.0127923520847926,1.8831142709920075,1.707397356638024,1.7647441324077078,1.604869934615362,1.7340363543453428,1.8219017734967249,1.9390008278294635,2.1009546562690953,2.145353557201757,2.1072291934028087,2.102283825869422,1.8099259667755128,2.4434444382043754,2.2972566281086713,2.1181112496000485,2.067786752056062,1.913865195161488,1.6707696331829183,1.477186182591612,1.462087048571861,1.513383864126469,1.8155357703579573,1.7542673801943958,1.8835550025465109,1.9473437443389496,1.7293086716147616,1.8086904009663773,2.0475336677418987,2.231283171988049,2.389463355025424,2.5094798735468054,2.097764379654466,2.3807361420883666,2.1403378685453163,2.1092346586042776,2.229461995327727,2.3333713520664756,2.195018177253121,2.0536428138960576,2.02156917441124,2.188738869261192,2.058677037913159,2.1673360017567576,2.0748720692393925,2.3567677225715453,2.4424028745843067,2.4107066225419107,2.250719075188984,2.3683062403002673,1.9217598042962085,1.8698314001137506,1.959740183086854,2.1162640724457087,2.493974553718704,2.4862457345946996,2.1750048538080677,2.4082601425714363,2.349210759171078,2.208507164788396,2.4529609781382975,2.301259302237591,2.0754768878281045,2.1795734461881993,2.068557594511575,2.1225660644564743,1.878050923705837,1.8268760211894963,1.9818267410059882,2.255659541843945,2.2611339582576173,2.386505299618757,2.015604396209877,2.230229121987111,2.250954996375218,2.314363012276331,2.1699467737528835,2.1505296571122514,2.197843389573232,1.9558963986566982,1.9160132599293307,2.130890183536122,2.1770847790784016,1.9905203025782476,1.8764689803815409],\"type\":\"scatter\"}],                        {\"showlegend\":false,\"template\":{\"data\":{\"barpolar\":[{\"marker\":{\"line\":{\"color\":\"#E5ECF6\",\"width\":0.5},\"pattern\":{\"fillmode\":\"overlay\",\"size\":10,\"solidity\":0.2}},\"type\":\"barpolar\"}],\"bar\":[{\"error_x\":{\"color\":\"#2a3f5f\"},\"error_y\":{\"color\":\"#2a3f5f\"},\"marker\":{\"line\":{\"color\":\"#E5ECF6\",\"width\":0.5},\"pattern\":{\"fillmode\":\"overlay\",\"size\":10,\"solidity\":0.2}},\"type\":\"bar\"}],\"carpet\":[{\"aaxis\":{\"endlinecolor\":\"#2a3f5f\",\"gridcolor\":\"white\",\"linecolor\":\"white\",\"minorgridcolor\":\"white\",\"startlinecolor\":\"#2a3f5f\"},\"baxis\":{\"endlinecolor\":\"#2a3f5f\",\"gridcolor\":\"white\",\"linecolor\":\"white\",\"minorgridcolor\":\"white\",\"startlinecolor\":\"#2a3f5f\"},\"type\":\"carpet\"}],\"choropleth\":[{\"colorbar\":{\"outlinewidth\":0,\"ticks\":\"\"},\"type\":\"choropleth\"}],\"contourcarpet\":[{\"colorbar\":{\"outlinewidth\":0,\"ticks\":\"\"},\"type\":\"contourcarpet\"}],\"contour\":[{\"colorbar\":{\"outlinewidth\":0,\"ticks\":\"\"},\"colorscale\":[[0.0,\"#0d0887\"],[0.1111111111111111,\"#46039f\"],[0.2222222222222222,\"#7201a8\"],[0.3333333333333333,\"#9c179e\"],[0.4444444444444444,\"#bd3786\"],[0.5555555555555556,\"#d8576b\"],[0.6666666666666666,\"#ed7953\"],[0.7777777777777778,\"#fb9f3a\"],[0.8888888888888888,\"#fdca26\"],[1.0,\"#f0f921\"]],\"type\":\"contour\"}],\"heatmapgl\":[{\"colorbar\":{\"outlinewidth\":0,\"ticks\":\"\"},\"colorscale\":[[0.0,\"#0d0887\"],[0.1111111111111111,\"#46039f\"],[0.2222222222222222,\"#7201a8\"],[0.3333333333333333,\"#9c179e\"],[0.4444444444444444,\"#bd3786\"],[0.5555555555555556,\"#d8576b\"],[0.6666666666666666,\"#ed7953\"],[0.7777777777777778,\"#fb9f3a\"],[0.8888888888888888,\"#fdca26\"],[1.0,\"#f0f921\"]],\"type\":\"heatmapgl\"}],\"heatmap\":[{\"colorbar\":{\"outlinewidth\":0,\"ticks\":\"\"},\"colorscale\":[[0.0,\"#0d0887\"],[0.1111111111111111,\"#46039f\"],[0.2222222222222222,\"#7201a8\"],[0.3333333333333333,\"#9c179e\"],[0.4444444444444444,\"#bd3786\"],[0.5555555555555556,\"#d8576b\"],[0.6666666666666666,\"#ed7953\"],[0.7777777777777778,\"#fb9f3a\"],[0.8888888888888888,\"#fdca26\"],[1.0,\"#f0f921\"]],\"type\":\"heatmap\"}],\"histogram2dcontour\":[{\"colorbar\":{\"outlinewidth\":0,\"ticks\":\"\"},\"colorscale\":[[0.0,\"#0d0887\"],[0.1111111111111111,\"#46039f\"],[0.2222222222222222,\"#7201a8\"],[0.3333333333333333,\"#9c179e\"],[0.4444444444444444,\"#bd3786\"],[0.5555555555555556,\"#d8576b\"],[0.6666666666666666,\"#ed7953\"],[0.7777777777777778,\"#fb9f3a\"],[0.8888888888888888,\"#fdca26\"],[1.0,\"#f0f921\"]],\"type\":\"histogram2dcontour\"}],\"histogram2d\":[{\"colorbar\":{\"outlinewidth\":0,\"ticks\":\"\"},\"colorscale\":[[0.0,\"#0d0887\"],[0.1111111111111111,\"#46039f\"],[0.2222222222222222,\"#7201a8\"],[0.3333333333333333,\"#9c179e\"],[0.4444444444444444,\"#bd3786\"],[0.5555555555555556,\"#d8576b\"],[0.6666666666666666,\"#ed7953\"],[0.7777777777777778,\"#fb9f3a\"],[0.8888888888888888,\"#fdca26\"],[1.0,\"#f0f921\"]],\"type\":\"histogram2d\"}],\"histogram\":[{\"marker\":{\"pattern\":{\"fillmode\":\"overlay\",\"size\":10,\"solidity\":0.2}},\"type\":\"histogram\"}],\"mesh3d\":[{\"colorbar\":{\"outlinewidth\":0,\"ticks\":\"\"},\"type\":\"mesh3d\"}],\"parcoords\":[{\"line\":{\"colorbar\":{\"outlinewidth\":0,\"ticks\":\"\"}},\"type\":\"parcoords\"}],\"pie\":[{\"automargin\":true,\"type\":\"pie\"}],\"scatter3d\":[{\"line\":{\"colorbar\":{\"outlinewidth\":0,\"ticks\":\"\"}},\"marker\":{\"colorbar\":{\"outlinewidth\":0,\"ticks\":\"\"}},\"type\":\"scatter3d\"}],\"scattercarpet\":[{\"marker\":{\"colorbar\":{\"outlinewidth\":0,\"ticks\":\"\"}},\"type\":\"scattercarpet\"}],\"scattergeo\":[{\"marker\":{\"colorbar\":{\"outlinewidth\":0,\"ticks\":\"\"}},\"type\":\"scattergeo\"}],\"scattergl\":[{\"marker\":{\"colorbar\":{\"outlinewidth\":0,\"ticks\":\"\"}},\"type\":\"scattergl\"}],\"scattermapbox\":[{\"marker\":{\"colorbar\":{\"outlinewidth\":0,\"ticks\":\"\"}},\"type\":\"scattermapbox\"}],\"scatterpolargl\":[{\"marker\":{\"colorbar\":{\"outlinewidth\":0,\"ticks\":\"\"}},\"type\":\"scatterpolargl\"}],\"scatterpolar\":[{\"marker\":{\"colorbar\":{\"outlinewidth\":0,\"ticks\":\"\"}},\"type\":\"scatterpolar\"}],\"scatter\":[{\"fillpattern\":{\"fillmode\":\"overlay\",\"size\":10,\"solidity\":0.2},\"type\":\"scatter\"}],\"scatterternary\":[{\"marker\":{\"colorbar\":{\"outlinewidth\":0,\"ticks\":\"\"}},\"type\":\"scatterternary\"}],\"surface\":[{\"colorbar\":{\"outlinewidth\":0,\"ticks\":\"\"},\"colorscale\":[[0.0,\"#0d0887\"],[0.1111111111111111,\"#46039f\"],[0.2222222222222222,\"#7201a8\"],[0.3333333333333333,\"#9c179e\"],[0.4444444444444444,\"#bd3786\"],[0.5555555555555556,\"#d8576b\"],[0.6666666666666666,\"#ed7953\"],[0.7777777777777778,\"#fb9f3a\"],[0.8888888888888888,\"#fdca26\"],[1.0,\"#f0f921\"]],\"type\":\"surface\"}],\"table\":[{\"cells\":{\"fill\":{\"color\":\"#EBF0F8\"},\"line\":{\"color\":\"white\"}},\"header\":{\"fill\":{\"color\":\"#C8D4E3\"},\"line\":{\"color\":\"white\"}},\"type\":\"table\"}]},\"layout\":{\"annotationdefaults\":{\"arrowcolor\":\"#2a3f5f\",\"arrowhead\":0,\"arrowwidth\":1},\"autotypenumbers\":\"strict\",\"coloraxis\":{\"colorbar\":{\"outlinewidth\":0,\"ticks\":\"\"}},\"colorscale\":{\"diverging\":[[0,\"#8e0152\"],[0.1,\"#c51b7d\"],[0.2,\"#de77ae\"],[0.3,\"#f1b6da\"],[0.4,\"#fde0ef\"],[0.5,\"#f7f7f7\"],[0.6,\"#e6f5d0\"],[0.7,\"#b8e186\"],[0.8,\"#7fbc41\"],[0.9,\"#4d9221\"],[1,\"#276419\"]],\"sequential\":[[0.0,\"#0d0887\"],[0.1111111111111111,\"#46039f\"],[0.2222222222222222,\"#7201a8\"],[0.3333333333333333,\"#9c179e\"],[0.4444444444444444,\"#bd3786\"],[0.5555555555555556,\"#d8576b\"],[0.6666666666666666,\"#ed7953\"],[0.7777777777777778,\"#fb9f3a\"],[0.8888888888888888,\"#fdca26\"],[1.0,\"#f0f921\"]],\"sequentialminus\":[[0.0,\"#0d0887\"],[0.1111111111111111,\"#46039f\"],[0.2222222222222222,\"#7201a8\"],[0.3333333333333333,\"#9c179e\"],[0.4444444444444444,\"#bd3786\"],[0.5555555555555556,\"#d8576b\"],[0.6666666666666666,\"#ed7953\"],[0.7777777777777778,\"#fb9f3a\"],[0.8888888888888888,\"#fdca26\"],[1.0,\"#f0f921\"]]},\"colorway\":[\"#636efa\",\"#EF553B\",\"#00cc96\",\"#ab63fa\",\"#FFA15A\",\"#19d3f3\",\"#FF6692\",\"#B6E880\",\"#FF97FF\",\"#FECB52\"],\"font\":{\"color\":\"#2a3f5f\"},\"geo\":{\"bgcolor\":\"white\",\"lakecolor\":\"white\",\"landcolor\":\"#E5ECF6\",\"showlakes\":true,\"showland\":true,\"subunitcolor\":\"white\"},\"hoverlabel\":{\"align\":\"left\"},\"hovermode\":\"closest\",\"mapbox\":{\"style\":\"light\"},\"paper_bgcolor\":\"white\",\"plot_bgcolor\":\"#E5ECF6\",\"polar\":{\"angularaxis\":{\"gridcolor\":\"white\",\"linecolor\":\"white\",\"ticks\":\"\"},\"bgcolor\":\"#E5ECF6\",\"radialaxis\":{\"gridcolor\":\"white\",\"linecolor\":\"white\",\"ticks\":\"\"}},\"scene\":{\"xaxis\":{\"backgroundcolor\":\"#E5ECF6\",\"gridcolor\":\"white\",\"gridwidth\":2,\"linecolor\":\"white\",\"showbackground\":true,\"ticks\":\"\",\"zerolinecolor\":\"white\"},\"yaxis\":{\"backgroundcolor\":\"#E5ECF6\",\"gridcolor\":\"white\",\"gridwidth\":2,\"linecolor\":\"white\",\"showbackground\":true,\"ticks\":\"\",\"zerolinecolor\":\"white\"},\"zaxis\":{\"backgroundcolor\":\"#E5ECF6\",\"gridcolor\":\"white\",\"gridwidth\":2,\"linecolor\":\"white\",\"showbackground\":true,\"ticks\":\"\",\"zerolinecolor\":\"white\"}},\"shapedefaults\":{\"line\":{\"color\":\"#2a3f5f\"}},\"ternary\":{\"aaxis\":{\"gridcolor\":\"white\",\"linecolor\":\"white\",\"ticks\":\"\"},\"baxis\":{\"gridcolor\":\"white\",\"linecolor\":\"white\",\"ticks\":\"\"},\"bgcolor\":\"#E5ECF6\",\"caxis\":{\"gridcolor\":\"white\",\"linecolor\":\"white\",\"ticks\":\"\"}},\"title\":{\"x\":0.05},\"xaxis\":{\"automargin\":true,\"gridcolor\":\"white\",\"linecolor\":\"white\",\"ticks\":\"\",\"title\":{\"standoff\":15},\"zerolinecolor\":\"white\",\"zerolinewidth\":2},\"yaxis\":{\"automargin\":true,\"gridcolor\":\"white\",\"linecolor\":\"white\",\"ticks\":\"\",\"title\":{\"standoff\":15},\"zerolinecolor\":\"white\",\"zerolinewidth\":2}}}},                        {\"responsive\": true}                    ).then(function(){\n",
       "                            \n",
       "var gd = document.getElementById('5269d6da-9697-4a47-a483-1c51eae4c9ef');\n",
       "var x = new MutationObserver(function (mutations, observer) {{\n",
       "        var display = window.getComputedStyle(gd).display;\n",
       "        if (!display || display === 'none') {{\n",
       "            console.log([gd, 'removed!']);\n",
       "            Plotly.purge(gd);\n",
       "            observer.disconnect();\n",
       "        }}\n",
       "}});\n",
       "\n",
       "// Listen for the removal of the full notebook cells\n",
       "var notebookContainer = gd.closest('#notebook-container');\n",
       "if (notebookContainer) {{\n",
       "    x.observe(notebookContainer, {childList: true});\n",
       "}}\n",
       "\n",
       "// Listen for the clearing of the current output cell\n",
       "var outputEl = gd.closest('.output');\n",
       "if (outputEl) {{\n",
       "    x.observe(outputEl, {childList: true});\n",
       "}}\n",
       "\n",
       "                        })                };                });            </script>        </div>"
      ]
     },
     "metadata": {},
     "output_type": "display_data"
    }
   ],
   "source": [
    "plot_x_time_series(\n",
    "    10.0,\n",
    "    0.1,\n",
    "    np.zeros((2, 3)),\n",
    "    np.zeros((2, 3)), \n",
    "    lambda X_prime, t, delta_t: (\n",
    "        X_prime[0] - delta_t * np.asarray([1.0, 2.0, 3.0]) * (\n",
    "            X_prime[0] - np.asarray([3.0, 5.0, 2.0])\n",
    "        )\n",
    "    ),\n",
    "    lambda X_prime, S_prime, t, delta_t: (\n",
    "        np.sqrt(delta_t) * np.random.normal(\n",
    "            np.zeros(3),\n",
    "            np.asarray([0.5, 1.0, 0.5]), \n",
    "            size=3,\n",
    "        )\n",
    "    ), \n",
    "    \"images/wiener_noise.html\",\n",
    "    [\n",
    "        \"Ornstein-Uhlenbeck (1.0, 3.0, 0.5)\",\n",
    "        \"Ornstein-Uhlenbeck (2.0, 5.0, 1.0)\",\n",
    "        \"Ornstein-Uhlenbeck (3.0, 2.0, 0.5)\",\n",
    "    ]\n",
    ")"
   ]
  },
  {
   "cell_type": "markdown",
   "metadata": {},
   "source": [
    "Other interpretations of the noise are less immediately compatible with our formalism as it is currently written, e.g., [Stratonovich](https://en.wikipedia.org/wiki/Stratonovich_integral) or others within the $\\alpha$-family, but it seems less necessary to complicate the details of this section further, so we'll just cover these extensions at the software implementation level. Note also that we may also allow for correlations between the noises in different dimensions. \n",
    "\n",
    "For **Geometric Brownian motion noise**, we simply have\n",
    "\n",
    "$$\n",
    "\\begin{align}\n",
    "& X^i_{t+\\delta t} = F^i_{t+\\delta t}(X', t) + \\textcolor{red}{X^i_{t}(W^i_{t+\\delta t}-W^i_{t})}.\n",
    "\\end{align}\n",
    "$$"
   ]
  },
  {
   "cell_type": "code",
   "execution_count": 16,
   "metadata": {
    "tags": [
     "hide-cell"
    ]
   },
   "outputs": [
    {
     "data": {
      "application/vnd.plotly.v1+json": {
       "config": {
        "linkText": "Export to plot.ly",
        "plotlyServerURL": "https://plot.ly",
        "showLink": false
       },
       "data": [
        {
         "name": "GBM with drift (1.0, 3.0, 0.5)",
         "type": "scatter",
         "x": [
          0,
          0.1,
          0.2,
          0.30000000000000004,
          0.4,
          0.5,
          0.6000000000000001,
          0.7000000000000001,
          0.8,
          0.9,
          1,
          1.1,
          1.2000000000000002,
          1.3,
          1.4000000000000001,
          1.5,
          1.6,
          1.7000000000000002,
          1.8,
          1.9000000000000001,
          2,
          2.1,
          2.2,
          2.3000000000000003,
          2.4000000000000004,
          2.5,
          2.6,
          2.7,
          2.8000000000000003,
          2.9000000000000004,
          3,
          3.1,
          3.2,
          3.3000000000000003,
          3.4000000000000004,
          3.5,
          3.6,
          3.7,
          3.8000000000000003,
          3.9000000000000004,
          4,
          4.1000000000000005,
          4.2,
          4.3,
          4.4,
          4.5,
          4.6000000000000005,
          4.7,
          4.800000000000001,
          4.9,
          5,
          5.1000000000000005,
          5.2,
          5.300000000000001,
          5.4,
          5.5,
          5.6000000000000005,
          5.7,
          5.800000000000001,
          5.9,
          6,
          6.1000000000000005,
          6.2,
          6.300000000000001,
          6.4,
          6.5,
          6.6000000000000005,
          6.7,
          6.800000000000001,
          6.9,
          7,
          7.1000000000000005,
          7.2,
          7.300000000000001,
          7.4,
          7.5,
          7.6000000000000005,
          7.7,
          7.800000000000001,
          7.9,
          8,
          8.1,
          8.200000000000001,
          8.3,
          8.4,
          8.5,
          8.6,
          8.700000000000001,
          8.8,
          8.9,
          9,
          9.1,
          9.200000000000001,
          9.3,
          9.4,
          9.5,
          9.600000000000001,
          9.700000000000001,
          9.8,
          9.9
         ],
         "y": [
          0.30000000000000004,
          0.5579450007145802,
          0.7948683323840373,
          1.1755565356338202,
          1.6084463818657726,
          1.351598392972246,
          1.677699342435254,
          1.959459533380082,
          1.8976882765956733,
          1.644187913323602,
          1.786628419406625,
          1.731595128481359,
          2.305564128381756,
          2.085365361388156,
          2.350617579165648,
          2.4321185780092818,
          2.377193762611865,
          2.1335628727004914,
          2.086546027456247,
          1.562365045133652,
          1.602623069400698,
          2.024248861400156,
          2.1394043953416215,
          2.268002926389048,
          2.6696608045181205,
          2.508387154469891,
          3.0229366361143706,
          2.284021095167525,
          1.7200581378373432,
          1.5860476311058016,
          1.5970772760583638,
          1.9774005400778165,
          2.4436227961947505,
          2.611747159609095,
          1.8577126998184723,
          2.280328470196753,
          1.9671896049152642,
          2.4814155682463506,
          2.6007636583073293,
          2.6059723796972953,
          2.9025822463805775,
          2.648298077635257,
          2.160137091444824,
          1.9548390954849266,
          2.2952550486456493,
          2.7287106534300305,
          3.5465111107428062,
          3.605574864323287,
          3.3530794042691054,
          2.8985463552550352,
          3.272253721290508,
          2.994636253617244,
          2.9667630924339905,
          3.6398438216440585,
          4.406688191421554,
          4.04837988034303,
          2.951123484480182,
          3.456553088467708,
          3.449125814414778,
          4.517871705391421,
          5.466257274984063,
          5.802733047431416,
          5.636833254115991,
          6.5047120466262225,
          6.091784485188267,
          6.364664833774431,
          6.396929637952985,
          7.687291079212203,
          9.224604132887425,
          6.260442669095065,
          4.100069401039846,
          2.7620226169609827,
          3.1596033012981475,
          3.146590212949285,
          3.2916284869503687,
          2.542477489040605,
          2.868709358875919,
          2.541129336054264,
          2.064087064311117,
          2.0035793450079944,
          1.9473475617514104,
          1.7699445111260093,
          1.8161095112173282,
          1.6250053175385992,
          1.8937647717081991,
          1.496334418692489,
          1.7283119628133485,
          2.027933999017782,
          2.058658235390511,
          1.7883832734145475,
          1.9491470018187924,
          1.7846910838708183,
          1.7621181519968643,
          1.9252169984723655,
          1.7461403039156012,
          1.9557343754825494,
          1.87601178694873,
          1.305326165991147,
          1.536251413047449,
          2.1043304003967487,
          2.3422945187531825
         ]
        },
        {
         "name": "GBM with drift (2.0, 5.0, 1.0)",
         "type": "scatter",
         "x": [
          0,
          0.1,
          0.2,
          0.30000000000000004,
          0.4,
          0.5,
          0.6000000000000001,
          0.7000000000000001,
          0.8,
          0.9,
          1,
          1.1,
          1.2000000000000002,
          1.3,
          1.4000000000000001,
          1.5,
          1.6,
          1.7000000000000002,
          1.8,
          1.9000000000000001,
          2,
          2.1,
          2.2,
          2.3000000000000003,
          2.4000000000000004,
          2.5,
          2.6,
          2.7,
          2.8000000000000003,
          2.9000000000000004,
          3,
          3.1,
          3.2,
          3.3000000000000003,
          3.4000000000000004,
          3.5,
          3.6,
          3.7,
          3.8000000000000003,
          3.9000000000000004,
          4,
          4.1000000000000005,
          4.2,
          4.3,
          4.4,
          4.5,
          4.6000000000000005,
          4.7,
          4.800000000000001,
          4.9,
          5,
          5.1000000000000005,
          5.2,
          5.300000000000001,
          5.4,
          5.5,
          5.6000000000000005,
          5.7,
          5.800000000000001,
          5.9,
          6,
          6.1000000000000005,
          6.2,
          6.300000000000001,
          6.4,
          6.5,
          6.6000000000000005,
          6.7,
          6.800000000000001,
          6.9,
          7,
          7.1000000000000005,
          7.2,
          7.300000000000001,
          7.4,
          7.5,
          7.6000000000000005,
          7.7,
          7.800000000000001,
          7.9,
          8,
          8.1,
          8.200000000000001,
          8.3,
          8.4,
          8.5,
          8.6,
          8.700000000000001,
          8.8,
          8.9,
          9,
          9.1,
          9.200000000000001,
          9.3,
          9.4,
          9.5,
          9.600000000000001,
          9.700000000000001,
          9.8,
          9.9
         ],
         "y": [
          1,
          1.9633439392516234,
          1.2816470741492514,
          2.1095079341194323,
          2.8222718543128695,
          3.6314464930201016,
          3.4661397504251856,
          3.86406547953058,
          3.571852159068034,
          2.784386607812096,
          4.226047507765315,
          5.157651436945601,
          6.42777032183168,
          6.356184991201329,
          6.382760820290357,
          9.350080047430982,
          5.229115065595017,
          3.393366623821178,
          3.423612650243916,
          4.257833392213012,
          4.089965564897689,
          2.976121712869835,
          2.2823250356867044,
          1.9968493032403112,
          2.116816707368589,
          2.6687405742753185,
          3.344028863425368,
          2.508362230923937,
          1.740880077781378,
          2.8193359038581303,
          3.5468384470459653,
          3.7002077613179374,
          3.000732228173457,
          3.8657920967205954,
          3.1070568583269287,
          4.39773651969812,
          7.001147473584782,
          4.800731128028361,
          4.987029051614667,
          7.290050643763706,
          5.803768426668325,
          7.456808293240822,
          9.694307099499756,
          7.384923451671668,
          7.174808050138776,
          9.2359881601574,
          8.635220812350191,
          6.17894712077635,
          4.264053276689746,
          5.8238485967269025,
          2.765961704878506,
          3.5280115624706196,
          2.8805223942804505,
          2.932460022852315,
          3.6913067773146113,
          2.302289051553088,
          1.9277008524135018,
          1.911392907324461,
          2.884783231833366,
          2.884322610657539,
          3.9346439427126785,
          5.956269340077566,
          7.826936570586722,
          5.6202025469808605,
          4.222851222774916,
          4.200895004761343,
          4.221840217906762,
          3.9321631910144776,
          3.390635452946734,
          6.1100308823909515,
          7.531417725369123,
          6.275941428701765,
          2.9371149242867696,
          3.0960147642816884,
          2.073196262007677,
          2.1672042363036517,
          2.201521023386295,
          2.9807187333612015,
          2.3798831890305667,
          2.5618671651182825,
          2.7998986847669087,
          3.1487186560552036,
          3.065423530618277,
          3.303483803159609,
          4.068634549532645,
          6.480225305049024,
          11.33287585298211,
          12.650399790794774,
          14.598029809034035,
          12.943554589114287,
          12.463712103329307,
          11.800950753492573,
          9.826983657562973,
          4.996816863036238,
          5.7042452329256506,
          3.0309967967694202,
          4.013614013138634,
          3.397423778689565,
          4.324872567665494,
          3.916478428212609,
          4.339490180982877
         ]
        },
        {
         "name": "GBM with drift (3.0, 2.0, 0.5)",
         "type": "scatter",
         "x": [
          0,
          0.1,
          0.2,
          0.30000000000000004,
          0.4,
          0.5,
          0.6000000000000001,
          0.7000000000000001,
          0.8,
          0.9,
          1,
          1.1,
          1.2000000000000002,
          1.3,
          1.4000000000000001,
          1.5,
          1.6,
          1.7000000000000002,
          1.8,
          1.9000000000000001,
          2,
          2.1,
          2.2,
          2.3000000000000003,
          2.4000000000000004,
          2.5,
          2.6,
          2.7,
          2.8000000000000003,
          2.9000000000000004,
          3,
          3.1,
          3.2,
          3.3000000000000003,
          3.4000000000000004,
          3.5,
          3.6,
          3.7,
          3.8000000000000003,
          3.9000000000000004,
          4,
          4.1000000000000005,
          4.2,
          4.3,
          4.4,
          4.5,
          4.6000000000000005,
          4.7,
          4.800000000000001,
          4.9,
          5,
          5.1000000000000005,
          5.2,
          5.300000000000001,
          5.4,
          5.5,
          5.6000000000000005,
          5.7,
          5.800000000000001,
          5.9,
          6,
          6.1000000000000005,
          6.2,
          6.300000000000001,
          6.4,
          6.5,
          6.6000000000000005,
          6.7,
          6.800000000000001,
          6.9,
          7,
          7.1000000000000005,
          7.2,
          7.300000000000001,
          7.4,
          7.5,
          7.6000000000000005,
          7.7,
          7.800000000000001,
          7.9,
          8,
          8.1,
          8.200000000000001,
          8.3,
          8.4,
          8.5,
          8.6,
          8.700000000000001,
          8.8,
          8.9,
          9,
          9.1,
          9.200000000000001,
          9.3,
          9.4,
          9.5,
          9.600000000000001,
          9.700000000000001,
          9.8,
          9.9
         ],
         "y": [
          0.6000000000000001,
          0.9889228493970761,
          1.1765919614747407,
          1.6149401862687918,
          1.8465226809368305,
          1.6126690996854387,
          2.1854253283449037,
          1.9573250831006597,
          2.3493339091309733,
          2.2833264114225327,
          2.2544496788346673,
          1.649827695903395,
          1.760358294174536,
          1.5760998792487668,
          1.2435257584391732,
          0.9844622444380242,
          1.411794637884376,
          1.5308741761486975,
          1.6543420040870558,
          1.7553151080407816,
          1.651321947820224,
          1.5504532994833682,
          1.453344139689577,
          1.77496829441528,
          1.7372979757467624,
          1.874235926451851,
          1.366842409005474,
          1.4834016201121263,
          1.8638372593095547,
          1.9234289961034883,
          1.7073020881887229,
          2.123111700098122,
          2.0462972364479883,
          2.0433479702617228,
          1.2031481675218652,
          1.4550456508137521,
          1.8068992086069018,
          2.2214635100816746,
          2.111756659201533,
          2.611280507706636,
          1.1253813348159092,
          1.6441171377448838,
          2.094449378918879,
          1.5061553743243083,
          1.7391528663997597,
          1.8736456415490819,
          1.8462333577533814,
          2.081709217028955,
          2.212979884164127,
          2.24574912180024,
          2.7157916894511507,
          2.322130733705491,
          1.6694310468621243,
          1.537583013675689,
          1.5689124742060376,
          1.4390960513558515,
          1.4249538438155547,
          1.4249703821201902,
          1.1541347929405181,
          1.4649402017444912,
          1.1415978015606398,
          1.1652341034435598,
          1.443676717235897,
          1.1915540841276604,
          1.2351644668446002,
          1.642300916807454,
          1.7839917539220675,
          2.078378223469598,
          1.1751838684938039,
          1.479501784777543,
          1.486907210661832,
          1.6486777040554765,
          1.8080616977367625,
          2.143806222695126,
          1.7206820654421642,
          1.6215543953306741,
          2.058264602261832,
          1.9136123371438862,
          2.0631767350271812,
          2.3913192003763735,
          3.523705291702639,
          2.9546950849093094,
          2.8907598603121536,
          2.2543030381378304,
          2.0437490574640096,
          2.1596667823332614,
          2.173913402784138,
          2.2772713165457947,
          1.9363265376858045,
          1.7009150187264306,
          1.5452480271314917,
          1.6638688451030104,
          1.9338292053093227,
          2.16632811812091,
          1.9615250715453576,
          2.4039894837968308,
          2.20397219600046,
          3.0443793503161007,
          2.679501674745219,
          2.593065275374164,
          1.3025393920243777
         ]
        }
       ],
       "layout": {
        "showlegend": false,
        "template": {
         "data": {
          "bar": [
           {
            "error_x": {
             "color": "#2a3f5f"
            },
            "error_y": {
             "color": "#2a3f5f"
            },
            "marker": {
             "line": {
              "color": "#E5ECF6",
              "width": 0.5
             },
             "pattern": {
              "fillmode": "overlay",
              "size": 10,
              "solidity": 0.2
             }
            },
            "type": "bar"
           }
          ],
          "barpolar": [
           {
            "marker": {
             "line": {
              "color": "#E5ECF6",
              "width": 0.5
             },
             "pattern": {
              "fillmode": "overlay",
              "size": 10,
              "solidity": 0.2
             }
            },
            "type": "barpolar"
           }
          ],
          "carpet": [
           {
            "aaxis": {
             "endlinecolor": "#2a3f5f",
             "gridcolor": "white",
             "linecolor": "white",
             "minorgridcolor": "white",
             "startlinecolor": "#2a3f5f"
            },
            "baxis": {
             "endlinecolor": "#2a3f5f",
             "gridcolor": "white",
             "linecolor": "white",
             "minorgridcolor": "white",
             "startlinecolor": "#2a3f5f"
            },
            "type": "carpet"
           }
          ],
          "choropleth": [
           {
            "colorbar": {
             "outlinewidth": 0,
             "ticks": ""
            },
            "type": "choropleth"
           }
          ],
          "contour": [
           {
            "colorbar": {
             "outlinewidth": 0,
             "ticks": ""
            },
            "colorscale": [
             [
              0,
              "#0d0887"
             ],
             [
              0.1111111111111111,
              "#46039f"
             ],
             [
              0.2222222222222222,
              "#7201a8"
             ],
             [
              0.3333333333333333,
              "#9c179e"
             ],
             [
              0.4444444444444444,
              "#bd3786"
             ],
             [
              0.5555555555555556,
              "#d8576b"
             ],
             [
              0.6666666666666666,
              "#ed7953"
             ],
             [
              0.7777777777777778,
              "#fb9f3a"
             ],
             [
              0.8888888888888888,
              "#fdca26"
             ],
             [
              1,
              "#f0f921"
             ]
            ],
            "type": "contour"
           }
          ],
          "contourcarpet": [
           {
            "colorbar": {
             "outlinewidth": 0,
             "ticks": ""
            },
            "type": "contourcarpet"
           }
          ],
          "heatmap": [
           {
            "colorbar": {
             "outlinewidth": 0,
             "ticks": ""
            },
            "colorscale": [
             [
              0,
              "#0d0887"
             ],
             [
              0.1111111111111111,
              "#46039f"
             ],
             [
              0.2222222222222222,
              "#7201a8"
             ],
             [
              0.3333333333333333,
              "#9c179e"
             ],
             [
              0.4444444444444444,
              "#bd3786"
             ],
             [
              0.5555555555555556,
              "#d8576b"
             ],
             [
              0.6666666666666666,
              "#ed7953"
             ],
             [
              0.7777777777777778,
              "#fb9f3a"
             ],
             [
              0.8888888888888888,
              "#fdca26"
             ],
             [
              1,
              "#f0f921"
             ]
            ],
            "type": "heatmap"
           }
          ],
          "heatmapgl": [
           {
            "colorbar": {
             "outlinewidth": 0,
             "ticks": ""
            },
            "colorscale": [
             [
              0,
              "#0d0887"
             ],
             [
              0.1111111111111111,
              "#46039f"
             ],
             [
              0.2222222222222222,
              "#7201a8"
             ],
             [
              0.3333333333333333,
              "#9c179e"
             ],
             [
              0.4444444444444444,
              "#bd3786"
             ],
             [
              0.5555555555555556,
              "#d8576b"
             ],
             [
              0.6666666666666666,
              "#ed7953"
             ],
             [
              0.7777777777777778,
              "#fb9f3a"
             ],
             [
              0.8888888888888888,
              "#fdca26"
             ],
             [
              1,
              "#f0f921"
             ]
            ],
            "type": "heatmapgl"
           }
          ],
          "histogram": [
           {
            "marker": {
             "pattern": {
              "fillmode": "overlay",
              "size": 10,
              "solidity": 0.2
             }
            },
            "type": "histogram"
           }
          ],
          "histogram2d": [
           {
            "colorbar": {
             "outlinewidth": 0,
             "ticks": ""
            },
            "colorscale": [
             [
              0,
              "#0d0887"
             ],
             [
              0.1111111111111111,
              "#46039f"
             ],
             [
              0.2222222222222222,
              "#7201a8"
             ],
             [
              0.3333333333333333,
              "#9c179e"
             ],
             [
              0.4444444444444444,
              "#bd3786"
             ],
             [
              0.5555555555555556,
              "#d8576b"
             ],
             [
              0.6666666666666666,
              "#ed7953"
             ],
             [
              0.7777777777777778,
              "#fb9f3a"
             ],
             [
              0.8888888888888888,
              "#fdca26"
             ],
             [
              1,
              "#f0f921"
             ]
            ],
            "type": "histogram2d"
           }
          ],
          "histogram2dcontour": [
           {
            "colorbar": {
             "outlinewidth": 0,
             "ticks": ""
            },
            "colorscale": [
             [
              0,
              "#0d0887"
             ],
             [
              0.1111111111111111,
              "#46039f"
             ],
             [
              0.2222222222222222,
              "#7201a8"
             ],
             [
              0.3333333333333333,
              "#9c179e"
             ],
             [
              0.4444444444444444,
              "#bd3786"
             ],
             [
              0.5555555555555556,
              "#d8576b"
             ],
             [
              0.6666666666666666,
              "#ed7953"
             ],
             [
              0.7777777777777778,
              "#fb9f3a"
             ],
             [
              0.8888888888888888,
              "#fdca26"
             ],
             [
              1,
              "#f0f921"
             ]
            ],
            "type": "histogram2dcontour"
           }
          ],
          "mesh3d": [
           {
            "colorbar": {
             "outlinewidth": 0,
             "ticks": ""
            },
            "type": "mesh3d"
           }
          ],
          "parcoords": [
           {
            "line": {
             "colorbar": {
              "outlinewidth": 0,
              "ticks": ""
             }
            },
            "type": "parcoords"
           }
          ],
          "pie": [
           {
            "automargin": true,
            "type": "pie"
           }
          ],
          "scatter": [
           {
            "fillpattern": {
             "fillmode": "overlay",
             "size": 10,
             "solidity": 0.2
            },
            "type": "scatter"
           }
          ],
          "scatter3d": [
           {
            "line": {
             "colorbar": {
              "outlinewidth": 0,
              "ticks": ""
             }
            },
            "marker": {
             "colorbar": {
              "outlinewidth": 0,
              "ticks": ""
             }
            },
            "type": "scatter3d"
           }
          ],
          "scattercarpet": [
           {
            "marker": {
             "colorbar": {
              "outlinewidth": 0,
              "ticks": ""
             }
            },
            "type": "scattercarpet"
           }
          ],
          "scattergeo": [
           {
            "marker": {
             "colorbar": {
              "outlinewidth": 0,
              "ticks": ""
             }
            },
            "type": "scattergeo"
           }
          ],
          "scattergl": [
           {
            "marker": {
             "colorbar": {
              "outlinewidth": 0,
              "ticks": ""
             }
            },
            "type": "scattergl"
           }
          ],
          "scattermapbox": [
           {
            "marker": {
             "colorbar": {
              "outlinewidth": 0,
              "ticks": ""
             }
            },
            "type": "scattermapbox"
           }
          ],
          "scatterpolar": [
           {
            "marker": {
             "colorbar": {
              "outlinewidth": 0,
              "ticks": ""
             }
            },
            "type": "scatterpolar"
           }
          ],
          "scatterpolargl": [
           {
            "marker": {
             "colorbar": {
              "outlinewidth": 0,
              "ticks": ""
             }
            },
            "type": "scatterpolargl"
           }
          ],
          "scatterternary": [
           {
            "marker": {
             "colorbar": {
              "outlinewidth": 0,
              "ticks": ""
             }
            },
            "type": "scatterternary"
           }
          ],
          "surface": [
           {
            "colorbar": {
             "outlinewidth": 0,
             "ticks": ""
            },
            "colorscale": [
             [
              0,
              "#0d0887"
             ],
             [
              0.1111111111111111,
              "#46039f"
             ],
             [
              0.2222222222222222,
              "#7201a8"
             ],
             [
              0.3333333333333333,
              "#9c179e"
             ],
             [
              0.4444444444444444,
              "#bd3786"
             ],
             [
              0.5555555555555556,
              "#d8576b"
             ],
             [
              0.6666666666666666,
              "#ed7953"
             ],
             [
              0.7777777777777778,
              "#fb9f3a"
             ],
             [
              0.8888888888888888,
              "#fdca26"
             ],
             [
              1,
              "#f0f921"
             ]
            ],
            "type": "surface"
           }
          ],
          "table": [
           {
            "cells": {
             "fill": {
              "color": "#EBF0F8"
             },
             "line": {
              "color": "white"
             }
            },
            "header": {
             "fill": {
              "color": "#C8D4E3"
             },
             "line": {
              "color": "white"
             }
            },
            "type": "table"
           }
          ]
         },
         "layout": {
          "annotationdefaults": {
           "arrowcolor": "#2a3f5f",
           "arrowhead": 0,
           "arrowwidth": 1
          },
          "autotypenumbers": "strict",
          "coloraxis": {
           "colorbar": {
            "outlinewidth": 0,
            "ticks": ""
           }
          },
          "colorscale": {
           "diverging": [
            [
             0,
             "#8e0152"
            ],
            [
             0.1,
             "#c51b7d"
            ],
            [
             0.2,
             "#de77ae"
            ],
            [
             0.3,
             "#f1b6da"
            ],
            [
             0.4,
             "#fde0ef"
            ],
            [
             0.5,
             "#f7f7f7"
            ],
            [
             0.6,
             "#e6f5d0"
            ],
            [
             0.7,
             "#b8e186"
            ],
            [
             0.8,
             "#7fbc41"
            ],
            [
             0.9,
             "#4d9221"
            ],
            [
             1,
             "#276419"
            ]
           ],
           "sequential": [
            [
             0,
             "#0d0887"
            ],
            [
             0.1111111111111111,
             "#46039f"
            ],
            [
             0.2222222222222222,
             "#7201a8"
            ],
            [
             0.3333333333333333,
             "#9c179e"
            ],
            [
             0.4444444444444444,
             "#bd3786"
            ],
            [
             0.5555555555555556,
             "#d8576b"
            ],
            [
             0.6666666666666666,
             "#ed7953"
            ],
            [
             0.7777777777777778,
             "#fb9f3a"
            ],
            [
             0.8888888888888888,
             "#fdca26"
            ],
            [
             1,
             "#f0f921"
            ]
           ],
           "sequentialminus": [
            [
             0,
             "#0d0887"
            ],
            [
             0.1111111111111111,
             "#46039f"
            ],
            [
             0.2222222222222222,
             "#7201a8"
            ],
            [
             0.3333333333333333,
             "#9c179e"
            ],
            [
             0.4444444444444444,
             "#bd3786"
            ],
            [
             0.5555555555555556,
             "#d8576b"
            ],
            [
             0.6666666666666666,
             "#ed7953"
            ],
            [
             0.7777777777777778,
             "#fb9f3a"
            ],
            [
             0.8888888888888888,
             "#fdca26"
            ],
            [
             1,
             "#f0f921"
            ]
           ]
          },
          "colorway": [
           "#636efa",
           "#EF553B",
           "#00cc96",
           "#ab63fa",
           "#FFA15A",
           "#19d3f3",
           "#FF6692",
           "#B6E880",
           "#FF97FF",
           "#FECB52"
          ],
          "font": {
           "color": "#2a3f5f"
          },
          "geo": {
           "bgcolor": "white",
           "lakecolor": "white",
           "landcolor": "#E5ECF6",
           "showlakes": true,
           "showland": true,
           "subunitcolor": "white"
          },
          "hoverlabel": {
           "align": "left"
          },
          "hovermode": "closest",
          "mapbox": {
           "style": "light"
          },
          "paper_bgcolor": "white",
          "plot_bgcolor": "#E5ECF6",
          "polar": {
           "angularaxis": {
            "gridcolor": "white",
            "linecolor": "white",
            "ticks": ""
           },
           "bgcolor": "#E5ECF6",
           "radialaxis": {
            "gridcolor": "white",
            "linecolor": "white",
            "ticks": ""
           }
          },
          "scene": {
           "xaxis": {
            "backgroundcolor": "#E5ECF6",
            "gridcolor": "white",
            "gridwidth": 2,
            "linecolor": "white",
            "showbackground": true,
            "ticks": "",
            "zerolinecolor": "white"
           },
           "yaxis": {
            "backgroundcolor": "#E5ECF6",
            "gridcolor": "white",
            "gridwidth": 2,
            "linecolor": "white",
            "showbackground": true,
            "ticks": "",
            "zerolinecolor": "white"
           },
           "zaxis": {
            "backgroundcolor": "#E5ECF6",
            "gridcolor": "white",
            "gridwidth": 2,
            "linecolor": "white",
            "showbackground": true,
            "ticks": "",
            "zerolinecolor": "white"
           }
          },
          "shapedefaults": {
           "line": {
            "color": "#2a3f5f"
           }
          },
          "ternary": {
           "aaxis": {
            "gridcolor": "white",
            "linecolor": "white",
            "ticks": ""
           },
           "baxis": {
            "gridcolor": "white",
            "linecolor": "white",
            "ticks": ""
           },
           "bgcolor": "#E5ECF6",
           "caxis": {
            "gridcolor": "white",
            "linecolor": "white",
            "ticks": ""
           }
          },
          "title": {
           "x": 0.05
          },
          "xaxis": {
           "automargin": true,
           "gridcolor": "white",
           "linecolor": "white",
           "ticks": "",
           "title": {
            "standoff": 15
           },
           "zerolinecolor": "white",
           "zerolinewidth": 2
          },
          "yaxis": {
           "automargin": true,
           "gridcolor": "white",
           "linecolor": "white",
           "ticks": "",
           "title": {
            "standoff": 15
           },
           "zerolinecolor": "white",
           "zerolinewidth": 2
          }
         }
        }
       }
      },
      "text/html": [
       "<div>                            <div id=\"9e0ea114-4c28-48e4-b6de-e56066da4420\" class=\"plotly-graph-div\" style=\"height:525px; width:100%;\"></div>            <script type=\"text/javascript\">                require([\"plotly\"], function(Plotly) {                    window.PLOTLYENV=window.PLOTLYENV || {};                                    if (document.getElementById(\"9e0ea114-4c28-48e4-b6de-e56066da4420\")) {                    Plotly.newPlot(                        \"9e0ea114-4c28-48e4-b6de-e56066da4420\",                        [{\"name\":\"GBM with drift (1.0, 3.0, 0.5)\",\"x\":[0.0,0.1,0.2,0.30000000000000004,0.4,0.5,0.6000000000000001,0.7000000000000001,0.8,0.9,1.0,1.1,1.2000000000000002,1.3,1.4000000000000001,1.5,1.6,1.7000000000000002,1.8,1.9000000000000001,2.0,2.1,2.2,2.3000000000000003,2.4000000000000004,2.5,2.6,2.7,2.8000000000000003,2.9000000000000004,3.0,3.1,3.2,3.3000000000000003,3.4000000000000004,3.5,3.6,3.7,3.8000000000000003,3.9000000000000004,4.0,4.1000000000000005,4.2,4.3,4.4,4.5,4.6000000000000005,4.7,4.800000000000001,4.9,5.0,5.1000000000000005,5.2,5.300000000000001,5.4,5.5,5.6000000000000005,5.7,5.800000000000001,5.9,6.0,6.1000000000000005,6.2,6.300000000000001,6.4,6.5,6.6000000000000005,6.7,6.800000000000001,6.9,7.0,7.1000000000000005,7.2,7.300000000000001,7.4,7.5,7.6000000000000005,7.7,7.800000000000001,7.9,8.0,8.1,8.200000000000001,8.3,8.4,8.5,8.6,8.700000000000001,8.8,8.9,9.0,9.1,9.200000000000001,9.3,9.4,9.5,9.600000000000001,9.700000000000001,9.8,9.9],\"y\":[0.30000000000000004,0.5579450007145802,0.7948683323840373,1.1755565356338202,1.6084463818657726,1.351598392972246,1.677699342435254,1.959459533380082,1.8976882765956733,1.644187913323602,1.786628419406625,1.731595128481359,2.305564128381756,2.085365361388156,2.350617579165648,2.4321185780092818,2.377193762611865,2.1335628727004914,2.086546027456247,1.562365045133652,1.602623069400698,2.024248861400156,2.1394043953416215,2.268002926389048,2.6696608045181205,2.508387154469891,3.0229366361143706,2.284021095167525,1.7200581378373432,1.5860476311058016,1.5970772760583638,1.9774005400778165,2.4436227961947505,2.611747159609095,1.8577126998184723,2.280328470196753,1.9671896049152642,2.4814155682463506,2.6007636583073293,2.6059723796972953,2.9025822463805775,2.648298077635257,2.160137091444824,1.9548390954849266,2.2952550486456493,2.7287106534300305,3.5465111107428062,3.605574864323287,3.3530794042691054,2.8985463552550352,3.272253721290508,2.994636253617244,2.9667630924339905,3.6398438216440585,4.406688191421554,4.04837988034303,2.951123484480182,3.456553088467708,3.449125814414778,4.517871705391421,5.466257274984063,5.802733047431416,5.636833254115991,6.5047120466262225,6.091784485188267,6.364664833774431,6.396929637952985,7.687291079212203,9.224604132887425,6.260442669095065,4.100069401039846,2.7620226169609827,3.1596033012981475,3.146590212949285,3.2916284869503687,2.542477489040605,2.868709358875919,2.541129336054264,2.064087064311117,2.0035793450079944,1.9473475617514104,1.7699445111260093,1.8161095112173282,1.6250053175385992,1.8937647717081991,1.496334418692489,1.7283119628133485,2.027933999017782,2.058658235390511,1.7883832734145475,1.9491470018187924,1.7846910838708183,1.7621181519968643,1.9252169984723655,1.7461403039156012,1.9557343754825494,1.87601178694873,1.305326165991147,1.536251413047449,2.1043304003967487,2.3422945187531825],\"type\":\"scatter\"},{\"name\":\"GBM with drift (2.0, 5.0, 1.0)\",\"x\":[0.0,0.1,0.2,0.30000000000000004,0.4,0.5,0.6000000000000001,0.7000000000000001,0.8,0.9,1.0,1.1,1.2000000000000002,1.3,1.4000000000000001,1.5,1.6,1.7000000000000002,1.8,1.9000000000000001,2.0,2.1,2.2,2.3000000000000003,2.4000000000000004,2.5,2.6,2.7,2.8000000000000003,2.9000000000000004,3.0,3.1,3.2,3.3000000000000003,3.4000000000000004,3.5,3.6,3.7,3.8000000000000003,3.9000000000000004,4.0,4.1000000000000005,4.2,4.3,4.4,4.5,4.6000000000000005,4.7,4.800000000000001,4.9,5.0,5.1000000000000005,5.2,5.300000000000001,5.4,5.5,5.6000000000000005,5.7,5.800000000000001,5.9,6.0,6.1000000000000005,6.2,6.300000000000001,6.4,6.5,6.6000000000000005,6.7,6.800000000000001,6.9,7.0,7.1000000000000005,7.2,7.300000000000001,7.4,7.5,7.6000000000000005,7.7,7.800000000000001,7.9,8.0,8.1,8.200000000000001,8.3,8.4,8.5,8.6,8.700000000000001,8.8,8.9,9.0,9.1,9.200000000000001,9.3,9.4,9.5,9.600000000000001,9.700000000000001,9.8,9.9],\"y\":[1.0,1.9633439392516234,1.2816470741492514,2.1095079341194323,2.8222718543128695,3.6314464930201016,3.4661397504251856,3.86406547953058,3.571852159068034,2.784386607812096,4.226047507765315,5.157651436945601,6.42777032183168,6.356184991201329,6.382760820290357,9.350080047430982,5.229115065595017,3.393366623821178,3.423612650243916,4.257833392213012,4.089965564897689,2.976121712869835,2.2823250356867044,1.9968493032403112,2.116816707368589,2.6687405742753185,3.344028863425368,2.508362230923937,1.740880077781378,2.8193359038581303,3.5468384470459653,3.7002077613179374,3.000732228173457,3.8657920967205954,3.1070568583269287,4.39773651969812,7.001147473584782,4.800731128028361,4.987029051614667,7.290050643763706,5.803768426668325,7.456808293240822,9.694307099499756,7.384923451671668,7.174808050138776,9.2359881601574,8.635220812350191,6.17894712077635,4.264053276689746,5.8238485967269025,2.765961704878506,3.5280115624706196,2.8805223942804505,2.932460022852315,3.6913067773146113,2.302289051553088,1.9277008524135018,1.911392907324461,2.884783231833366,2.884322610657539,3.9346439427126785,5.956269340077566,7.826936570586722,5.6202025469808605,4.222851222774916,4.200895004761343,4.221840217906762,3.9321631910144776,3.390635452946734,6.1100308823909515,7.531417725369123,6.275941428701765,2.9371149242867696,3.0960147642816884,2.073196262007677,2.1672042363036517,2.201521023386295,2.9807187333612015,2.3798831890305667,2.5618671651182825,2.7998986847669087,3.1487186560552036,3.065423530618277,3.303483803159609,4.068634549532645,6.480225305049024,11.33287585298211,12.650399790794774,14.598029809034035,12.943554589114287,12.463712103329307,11.800950753492573,9.826983657562973,4.996816863036238,5.7042452329256506,3.0309967967694202,4.013614013138634,3.397423778689565,4.324872567665494,3.916478428212609,4.339490180982877],\"type\":\"scatter\"},{\"name\":\"GBM with drift (3.0, 2.0, 0.5)\",\"x\":[0.0,0.1,0.2,0.30000000000000004,0.4,0.5,0.6000000000000001,0.7000000000000001,0.8,0.9,1.0,1.1,1.2000000000000002,1.3,1.4000000000000001,1.5,1.6,1.7000000000000002,1.8,1.9000000000000001,2.0,2.1,2.2,2.3000000000000003,2.4000000000000004,2.5,2.6,2.7,2.8000000000000003,2.9000000000000004,3.0,3.1,3.2,3.3000000000000003,3.4000000000000004,3.5,3.6,3.7,3.8000000000000003,3.9000000000000004,4.0,4.1000000000000005,4.2,4.3,4.4,4.5,4.6000000000000005,4.7,4.800000000000001,4.9,5.0,5.1000000000000005,5.2,5.300000000000001,5.4,5.5,5.6000000000000005,5.7,5.800000000000001,5.9,6.0,6.1000000000000005,6.2,6.300000000000001,6.4,6.5,6.6000000000000005,6.7,6.800000000000001,6.9,7.0,7.1000000000000005,7.2,7.300000000000001,7.4,7.5,7.6000000000000005,7.7,7.800000000000001,7.9,8.0,8.1,8.200000000000001,8.3,8.4,8.5,8.6,8.700000000000001,8.8,8.9,9.0,9.1,9.200000000000001,9.3,9.4,9.5,9.600000000000001,9.700000000000001,9.8,9.9],\"y\":[0.6000000000000001,0.9889228493970761,1.1765919614747407,1.6149401862687918,1.8465226809368305,1.6126690996854387,2.1854253283449037,1.9573250831006597,2.3493339091309733,2.2833264114225327,2.2544496788346673,1.649827695903395,1.760358294174536,1.5760998792487668,1.2435257584391732,0.9844622444380242,1.411794637884376,1.5308741761486975,1.6543420040870558,1.7553151080407816,1.651321947820224,1.5504532994833682,1.453344139689577,1.77496829441528,1.7372979757467624,1.874235926451851,1.366842409005474,1.4834016201121263,1.8638372593095547,1.9234289961034883,1.7073020881887229,2.123111700098122,2.0462972364479883,2.0433479702617228,1.2031481675218652,1.4550456508137521,1.8068992086069018,2.2214635100816746,2.111756659201533,2.611280507706636,1.1253813348159092,1.6441171377448838,2.094449378918879,1.5061553743243083,1.7391528663997597,1.8736456415490819,1.8462333577533814,2.081709217028955,2.212979884164127,2.24574912180024,2.7157916894511507,2.322130733705491,1.6694310468621243,1.537583013675689,1.5689124742060376,1.4390960513558515,1.4249538438155547,1.4249703821201902,1.1541347929405181,1.4649402017444912,1.1415978015606398,1.1652341034435598,1.443676717235897,1.1915540841276604,1.2351644668446002,1.642300916807454,1.7839917539220675,2.078378223469598,1.1751838684938039,1.479501784777543,1.486907210661832,1.6486777040554765,1.8080616977367625,2.143806222695126,1.7206820654421642,1.6215543953306741,2.058264602261832,1.9136123371438862,2.0631767350271812,2.3913192003763735,3.523705291702639,2.9546950849093094,2.8907598603121536,2.2543030381378304,2.0437490574640096,2.1596667823332614,2.173913402784138,2.2772713165457947,1.9363265376858045,1.7009150187264306,1.5452480271314917,1.6638688451030104,1.9338292053093227,2.16632811812091,1.9615250715453576,2.4039894837968308,2.20397219600046,3.0443793503161007,2.679501674745219,2.593065275374164,1.3025393920243777],\"type\":\"scatter\"}],                        {\"showlegend\":false,\"template\":{\"data\":{\"barpolar\":[{\"marker\":{\"line\":{\"color\":\"#E5ECF6\",\"width\":0.5},\"pattern\":{\"fillmode\":\"overlay\",\"size\":10,\"solidity\":0.2}},\"type\":\"barpolar\"}],\"bar\":[{\"error_x\":{\"color\":\"#2a3f5f\"},\"error_y\":{\"color\":\"#2a3f5f\"},\"marker\":{\"line\":{\"color\":\"#E5ECF6\",\"width\":0.5},\"pattern\":{\"fillmode\":\"overlay\",\"size\":10,\"solidity\":0.2}},\"type\":\"bar\"}],\"carpet\":[{\"aaxis\":{\"endlinecolor\":\"#2a3f5f\",\"gridcolor\":\"white\",\"linecolor\":\"white\",\"minorgridcolor\":\"white\",\"startlinecolor\":\"#2a3f5f\"},\"baxis\":{\"endlinecolor\":\"#2a3f5f\",\"gridcolor\":\"white\",\"linecolor\":\"white\",\"minorgridcolor\":\"white\",\"startlinecolor\":\"#2a3f5f\"},\"type\":\"carpet\"}],\"choropleth\":[{\"colorbar\":{\"outlinewidth\":0,\"ticks\":\"\"},\"type\":\"choropleth\"}],\"contourcarpet\":[{\"colorbar\":{\"outlinewidth\":0,\"ticks\":\"\"},\"type\":\"contourcarpet\"}],\"contour\":[{\"colorbar\":{\"outlinewidth\":0,\"ticks\":\"\"},\"colorscale\":[[0.0,\"#0d0887\"],[0.1111111111111111,\"#46039f\"],[0.2222222222222222,\"#7201a8\"],[0.3333333333333333,\"#9c179e\"],[0.4444444444444444,\"#bd3786\"],[0.5555555555555556,\"#d8576b\"],[0.6666666666666666,\"#ed7953\"],[0.7777777777777778,\"#fb9f3a\"],[0.8888888888888888,\"#fdca26\"],[1.0,\"#f0f921\"]],\"type\":\"contour\"}],\"heatmapgl\":[{\"colorbar\":{\"outlinewidth\":0,\"ticks\":\"\"},\"colorscale\":[[0.0,\"#0d0887\"],[0.1111111111111111,\"#46039f\"],[0.2222222222222222,\"#7201a8\"],[0.3333333333333333,\"#9c179e\"],[0.4444444444444444,\"#bd3786\"],[0.5555555555555556,\"#d8576b\"],[0.6666666666666666,\"#ed7953\"],[0.7777777777777778,\"#fb9f3a\"],[0.8888888888888888,\"#fdca26\"],[1.0,\"#f0f921\"]],\"type\":\"heatmapgl\"}],\"heatmap\":[{\"colorbar\":{\"outlinewidth\":0,\"ticks\":\"\"},\"colorscale\":[[0.0,\"#0d0887\"],[0.1111111111111111,\"#46039f\"],[0.2222222222222222,\"#7201a8\"],[0.3333333333333333,\"#9c179e\"],[0.4444444444444444,\"#bd3786\"],[0.5555555555555556,\"#d8576b\"],[0.6666666666666666,\"#ed7953\"],[0.7777777777777778,\"#fb9f3a\"],[0.8888888888888888,\"#fdca26\"],[1.0,\"#f0f921\"]],\"type\":\"heatmap\"}],\"histogram2dcontour\":[{\"colorbar\":{\"outlinewidth\":0,\"ticks\":\"\"},\"colorscale\":[[0.0,\"#0d0887\"],[0.1111111111111111,\"#46039f\"],[0.2222222222222222,\"#7201a8\"],[0.3333333333333333,\"#9c179e\"],[0.4444444444444444,\"#bd3786\"],[0.5555555555555556,\"#d8576b\"],[0.6666666666666666,\"#ed7953\"],[0.7777777777777778,\"#fb9f3a\"],[0.8888888888888888,\"#fdca26\"],[1.0,\"#f0f921\"]],\"type\":\"histogram2dcontour\"}],\"histogram2d\":[{\"colorbar\":{\"outlinewidth\":0,\"ticks\":\"\"},\"colorscale\":[[0.0,\"#0d0887\"],[0.1111111111111111,\"#46039f\"],[0.2222222222222222,\"#7201a8\"],[0.3333333333333333,\"#9c179e\"],[0.4444444444444444,\"#bd3786\"],[0.5555555555555556,\"#d8576b\"],[0.6666666666666666,\"#ed7953\"],[0.7777777777777778,\"#fb9f3a\"],[0.8888888888888888,\"#fdca26\"],[1.0,\"#f0f921\"]],\"type\":\"histogram2d\"}],\"histogram\":[{\"marker\":{\"pattern\":{\"fillmode\":\"overlay\",\"size\":10,\"solidity\":0.2}},\"type\":\"histogram\"}],\"mesh3d\":[{\"colorbar\":{\"outlinewidth\":0,\"ticks\":\"\"},\"type\":\"mesh3d\"}],\"parcoords\":[{\"line\":{\"colorbar\":{\"outlinewidth\":0,\"ticks\":\"\"}},\"type\":\"parcoords\"}],\"pie\":[{\"automargin\":true,\"type\":\"pie\"}],\"scatter3d\":[{\"line\":{\"colorbar\":{\"outlinewidth\":0,\"ticks\":\"\"}},\"marker\":{\"colorbar\":{\"outlinewidth\":0,\"ticks\":\"\"}},\"type\":\"scatter3d\"}],\"scattercarpet\":[{\"marker\":{\"colorbar\":{\"outlinewidth\":0,\"ticks\":\"\"}},\"type\":\"scattercarpet\"}],\"scattergeo\":[{\"marker\":{\"colorbar\":{\"outlinewidth\":0,\"ticks\":\"\"}},\"type\":\"scattergeo\"}],\"scattergl\":[{\"marker\":{\"colorbar\":{\"outlinewidth\":0,\"ticks\":\"\"}},\"type\":\"scattergl\"}],\"scattermapbox\":[{\"marker\":{\"colorbar\":{\"outlinewidth\":0,\"ticks\":\"\"}},\"type\":\"scattermapbox\"}],\"scatterpolargl\":[{\"marker\":{\"colorbar\":{\"outlinewidth\":0,\"ticks\":\"\"}},\"type\":\"scatterpolargl\"}],\"scatterpolar\":[{\"marker\":{\"colorbar\":{\"outlinewidth\":0,\"ticks\":\"\"}},\"type\":\"scatterpolar\"}],\"scatter\":[{\"fillpattern\":{\"fillmode\":\"overlay\",\"size\":10,\"solidity\":0.2},\"type\":\"scatter\"}],\"scatterternary\":[{\"marker\":{\"colorbar\":{\"outlinewidth\":0,\"ticks\":\"\"}},\"type\":\"scatterternary\"}],\"surface\":[{\"colorbar\":{\"outlinewidth\":0,\"ticks\":\"\"},\"colorscale\":[[0.0,\"#0d0887\"],[0.1111111111111111,\"#46039f\"],[0.2222222222222222,\"#7201a8\"],[0.3333333333333333,\"#9c179e\"],[0.4444444444444444,\"#bd3786\"],[0.5555555555555556,\"#d8576b\"],[0.6666666666666666,\"#ed7953\"],[0.7777777777777778,\"#fb9f3a\"],[0.8888888888888888,\"#fdca26\"],[1.0,\"#f0f921\"]],\"type\":\"surface\"}],\"table\":[{\"cells\":{\"fill\":{\"color\":\"#EBF0F8\"},\"line\":{\"color\":\"white\"}},\"header\":{\"fill\":{\"color\":\"#C8D4E3\"},\"line\":{\"color\":\"white\"}},\"type\":\"table\"}]},\"layout\":{\"annotationdefaults\":{\"arrowcolor\":\"#2a3f5f\",\"arrowhead\":0,\"arrowwidth\":1},\"autotypenumbers\":\"strict\",\"coloraxis\":{\"colorbar\":{\"outlinewidth\":0,\"ticks\":\"\"}},\"colorscale\":{\"diverging\":[[0,\"#8e0152\"],[0.1,\"#c51b7d\"],[0.2,\"#de77ae\"],[0.3,\"#f1b6da\"],[0.4,\"#fde0ef\"],[0.5,\"#f7f7f7\"],[0.6,\"#e6f5d0\"],[0.7,\"#b8e186\"],[0.8,\"#7fbc41\"],[0.9,\"#4d9221\"],[1,\"#276419\"]],\"sequential\":[[0.0,\"#0d0887\"],[0.1111111111111111,\"#46039f\"],[0.2222222222222222,\"#7201a8\"],[0.3333333333333333,\"#9c179e\"],[0.4444444444444444,\"#bd3786\"],[0.5555555555555556,\"#d8576b\"],[0.6666666666666666,\"#ed7953\"],[0.7777777777777778,\"#fb9f3a\"],[0.8888888888888888,\"#fdca26\"],[1.0,\"#f0f921\"]],\"sequentialminus\":[[0.0,\"#0d0887\"],[0.1111111111111111,\"#46039f\"],[0.2222222222222222,\"#7201a8\"],[0.3333333333333333,\"#9c179e\"],[0.4444444444444444,\"#bd3786\"],[0.5555555555555556,\"#d8576b\"],[0.6666666666666666,\"#ed7953\"],[0.7777777777777778,\"#fb9f3a\"],[0.8888888888888888,\"#fdca26\"],[1.0,\"#f0f921\"]]},\"colorway\":[\"#636efa\",\"#EF553B\",\"#00cc96\",\"#ab63fa\",\"#FFA15A\",\"#19d3f3\",\"#FF6692\",\"#B6E880\",\"#FF97FF\",\"#FECB52\"],\"font\":{\"color\":\"#2a3f5f\"},\"geo\":{\"bgcolor\":\"white\",\"lakecolor\":\"white\",\"landcolor\":\"#E5ECF6\",\"showlakes\":true,\"showland\":true,\"subunitcolor\":\"white\"},\"hoverlabel\":{\"align\":\"left\"},\"hovermode\":\"closest\",\"mapbox\":{\"style\":\"light\"},\"paper_bgcolor\":\"white\",\"plot_bgcolor\":\"#E5ECF6\",\"polar\":{\"angularaxis\":{\"gridcolor\":\"white\",\"linecolor\":\"white\",\"ticks\":\"\"},\"bgcolor\":\"#E5ECF6\",\"radialaxis\":{\"gridcolor\":\"white\",\"linecolor\":\"white\",\"ticks\":\"\"}},\"scene\":{\"xaxis\":{\"backgroundcolor\":\"#E5ECF6\",\"gridcolor\":\"white\",\"gridwidth\":2,\"linecolor\":\"white\",\"showbackground\":true,\"ticks\":\"\",\"zerolinecolor\":\"white\"},\"yaxis\":{\"backgroundcolor\":\"#E5ECF6\",\"gridcolor\":\"white\",\"gridwidth\":2,\"linecolor\":\"white\",\"showbackground\":true,\"ticks\":\"\",\"zerolinecolor\":\"white\"},\"zaxis\":{\"backgroundcolor\":\"#E5ECF6\",\"gridcolor\":\"white\",\"gridwidth\":2,\"linecolor\":\"white\",\"showbackground\":true,\"ticks\":\"\",\"zerolinecolor\":\"white\"}},\"shapedefaults\":{\"line\":{\"color\":\"#2a3f5f\"}},\"ternary\":{\"aaxis\":{\"gridcolor\":\"white\",\"linecolor\":\"white\",\"ticks\":\"\"},\"baxis\":{\"gridcolor\":\"white\",\"linecolor\":\"white\",\"ticks\":\"\"},\"bgcolor\":\"#E5ECF6\",\"caxis\":{\"gridcolor\":\"white\",\"linecolor\":\"white\",\"ticks\":\"\"}},\"title\":{\"x\":0.05},\"xaxis\":{\"automargin\":true,\"gridcolor\":\"white\",\"linecolor\":\"white\",\"ticks\":\"\",\"title\":{\"standoff\":15},\"zerolinecolor\":\"white\",\"zerolinewidth\":2},\"yaxis\":{\"automargin\":true,\"gridcolor\":\"white\",\"linecolor\":\"white\",\"ticks\":\"\",\"title\":{\"standoff\":15},\"zerolinecolor\":\"white\",\"zerolinewidth\":2}}}},                        {\"responsive\": true}                    ).then(function(){\n",
       "                            \n",
       "var gd = document.getElementById('9e0ea114-4c28-48e4-b6de-e56066da4420');\n",
       "var x = new MutationObserver(function (mutations, observer) {{\n",
       "        var display = window.getComputedStyle(gd).display;\n",
       "        if (!display || display === 'none') {{\n",
       "            console.log([gd, 'removed!']);\n",
       "            Plotly.purge(gd);\n",
       "            observer.disconnect();\n",
       "        }}\n",
       "}});\n",
       "\n",
       "// Listen for the removal of the full notebook cells\n",
       "var notebookContainer = gd.closest('#notebook-container');\n",
       "if (notebookContainer) {{\n",
       "    x.observe(notebookContainer, {childList: true});\n",
       "}}\n",
       "\n",
       "// Listen for the clearing of the current output cell\n",
       "var outputEl = gd.closest('.output');\n",
       "if (outputEl) {{\n",
       "    x.observe(outputEl, {childList: true});\n",
       "}}\n",
       "\n",
       "                        })                };                });            </script>        </div>"
      ]
     },
     "metadata": {},
     "output_type": "display_data"
    }
   ],
   "source": [
    "plot_x_time_series(\n",
    "    10.0,\n",
    "    0.1,\n",
    "    np.zeros((2, 3)), \n",
    "    np.zeros((2, 3)), \n",
    "    lambda X_prime, t, delta_t: (\n",
    "        X_prime[0] - delta_t * np.asarray([1.0, 2.0, 3.0]) * (\n",
    "            X_prime[0] - np.asarray([3.0, 5.0, 2.0])\n",
    "        )\n",
    "    ), \n",
    "    lambda X_prime, S_prime, t, delta_t: (\n",
    "        np.sqrt(delta_t) * X_prime[0] * np.random.normal(\n",
    "            np.zeros(3), \n",
    "            np.asarray([0.5, 1.0, 0.5]), \n",
    "            size=3,\n",
    "        )\n",
    "    ), \n",
    "    \"images/gbm_noise.html\",\n",
    "    [\n",
    "        \"GBM with drift (1.0, 3.0, 0.5)\",\n",
    "        \"GBM with drift (2.0, 5.0, 1.0)\",\n",
    "        \"GBM with drift (3.0, 2.0, 0.5)\",\n",
    "    ]\n",
    ")"
   ]
  },
  {
   "cell_type": "markdown",
   "metadata": {},
   "source": [
    "And say, e.g., **fractional Brownian motion noise**, where $B^i_{t}({H_i})$ is a sample from a fractional Brownian motion process with Hurst exponent $H_i$ for each of the state dimensions indexed by $i$, we simply substitute again\n",
    "\n",
    "$$\n",
    "\\begin{align}\n",
    "& X^i_{t+\\delta t} = F^i_{t+\\delta t}(X', t) + \\textcolor{red}{B^i_{t+\\delta t}({H_i})-B^i_{t}({H_i})}.\n",
    "\\end{align}\n",
    "$$"
   ]
  },
  {
   "cell_type": "code",
   "execution_count": 17,
   "metadata": {
    "tags": [
     "hide-cell"
    ]
   },
   "outputs": [
    {
     "name": "stderr",
     "output_type": "stream",
     "text": [
      "/tmp/ipykernel_10179/3433119913.py:8: RuntimeWarning:\n",
      "\n",
      "divide by zero encountered in true_divide\n",
      "\n"
     ]
    },
    {
     "data": {
      "application/vnd.plotly.v1+json": {
       "config": {
        "linkText": "Export to plot.ly",
        "plotlyServerURL": "https://plot.ly",
        "showLink": false
       },
       "data": [
        {
         "name": "fBM with drift (1.0, 3.0, 0.5, H=0.8)",
         "type": "scatter",
         "x": [
          0,
          0.1,
          0.2,
          0.30000000000000004,
          0.4,
          0.5,
          0.6000000000000001,
          0.7000000000000001,
          0.8,
          0.9,
          1,
          1.1,
          1.2000000000000002,
          1.3,
          1.4000000000000001,
          1.5,
          1.6,
          1.7000000000000002,
          1.8,
          1.9000000000000001,
          2,
          2.1,
          2.2,
          2.3000000000000003,
          2.4000000000000004,
          2.5,
          2.6,
          2.7,
          2.8000000000000003,
          2.9000000000000004,
          3,
          3.1,
          3.2,
          3.3000000000000003,
          3.4000000000000004,
          3.5,
          3.6,
          3.7,
          3.8000000000000003,
          3.9000000000000004,
          4,
          4.1000000000000005,
          4.2,
          4.3,
          4.4,
          4.5,
          4.6000000000000005,
          4.7,
          4.800000000000001,
          4.9,
          5,
          5.1000000000000005,
          5.2,
          5.300000000000001,
          5.4,
          5.5,
          5.6000000000000005,
          5.7,
          5.800000000000001,
          5.9,
          6,
          6.1000000000000005,
          6.2,
          6.300000000000001,
          6.4,
          6.5,
          6.6000000000000005,
          6.7,
          6.800000000000001,
          6.9,
          7,
          7.1000000000000005,
          7.2,
          7.300000000000001,
          7.4,
          7.5,
          7.6000000000000005,
          7.7,
          7.800000000000001,
          7.9,
          8,
          8.1,
          8.200000000000001,
          8.3,
          8.4,
          8.5,
          8.6,
          8.700000000000001,
          8.8,
          8.9,
          9,
          9.1,
          9.200000000000001,
          9.3,
          9.4,
          9.5,
          9.600000000000001,
          9.700000000000001,
          9.8,
          9.9
         ],
         "y": [
          0.35672541918002365,
          0.6281363218309685,
          1.0497698235783404,
          1.440847754955259,
          1.8476136945298047,
          2.094985402769498,
          2.624476809262285,
          2.8138020767293823,
          3.2493675892280742,
          3.288218770906048,
          3.6117908059509314,
          3.5527743141011214,
          3.943845565364443,
          3.999973635711528,
          4.384373917817193,
          4.477099430418121,
          4.800712641393066,
          4.872220536517671,
          5.227841777893599,
          5.395839187394549,
          5.658588160282902,
          5.806636236512853,
          6.170284387868625,
          6.321684318455634,
          6.582369164650153,
          6.700685100715092,
          6.984410291951931,
          7.050827436747324,
          7.212694456884273,
          7.400185804671225,
          7.590186478171131,
          7.739035232539644,
          7.830082158657868,
          7.943237790868008,
          8.100971855401866,
          8.226950361144471,
          8.51541318044089,
          8.56391983080234,
          8.876858835399197,
          8.94608150399136,
          9.246952202176567,
          9.321481739074864,
          9.61116246213018,
          9.675047295091352,
          9.863642220839536,
          9.898590776777752,
          10.116684474661897,
          10.103755167284394,
          10.240732838203405,
          10.103995204025725,
          10.087839663659073,
          10.088707216477701,
          10.114507332237928,
          10.092115922195775,
          10.178310582048697,
          10.049336007790052,
          10.060847708804811,
          9.999601243418171,
          10.0303617117157,
          10.073157678095784,
          10.205415376463904,
          10.286474538160828,
          10.510461657896474,
          10.589584283245816,
          10.827295405708888,
          10.85836989333308,
          11.054295491259934,
          11.000363957076596,
          11.15203706882451,
          11.028540080919901,
          11.088345892720525,
          11.073341455260206,
          11.215198683059498,
          11.260907619640339,
          11.360653507704814,
          11.44490432272806,
          11.697366278636654,
          11.758489547529713,
          12.086711083741145,
          12.262716162957448,
          12.667349590442495,
          12.818422518890944,
          13.311224397633307,
          13.380552461463221,
          13.941358896960134,
          13.868250141046932,
          14.463042696500903,
          14.277481860590015,
          14.80171916184914,
          14.578725135886588,
          15.129085216633197,
          14.947422162282125,
          15.455894077611106,
          15.394979435471795,
          15.8823984674302,
          15.722521369947026,
          16.238338673433436,
          15.978513070647924,
          16.389884189882622,
          16.05280661204984,
          16.529484731758348
         ]
        },
        {
         "name": "fBM with drift (2.0, 5.0, 1.0, H=0.7)",
         "type": "scatter",
         "x": [
          0,
          0.1,
          0.2,
          0.30000000000000004,
          0.4,
          0.5,
          0.6000000000000001,
          0.7000000000000001,
          0.8,
          0.9,
          1,
          1.1,
          1.2000000000000002,
          1.3,
          1.4000000000000001,
          1.5,
          1.6,
          1.7000000000000002,
          1.8,
          1.9000000000000001,
          2,
          2.1,
          2.2,
          2.3000000000000003,
          2.4000000000000004,
          2.5,
          2.6,
          2.7,
          2.8000000000000003,
          2.9000000000000004,
          3,
          3.1,
          3.2,
          3.3000000000000003,
          3.4000000000000004,
          3.5,
          3.6,
          3.7,
          3.8000000000000003,
          3.9000000000000004,
          4,
          4.1000000000000005,
          4.2,
          4.3,
          4.4,
          4.5,
          4.6000000000000005,
          4.7,
          4.800000000000001,
          4.9,
          5,
          5.1000000000000005,
          5.2,
          5.300000000000001,
          5.4,
          5.5,
          5.6000000000000005,
          5.7,
          5.800000000000001,
          5.9,
          6,
          6.1000000000000005,
          6.2,
          6.300000000000001,
          6.4,
          6.5,
          6.6000000000000005,
          6.7,
          6.800000000000001,
          6.9,
          7,
          7.1000000000000005,
          7.2,
          7.300000000000001,
          7.4,
          7.5,
          7.6000000000000005,
          7.7,
          7.800000000000001,
          7.9,
          8,
          8.1,
          8.200000000000001,
          8.3,
          8.4,
          8.5,
          8.6,
          8.700000000000001,
          8.8,
          8.9,
          9,
          9.1,
          9.200000000000001,
          9.3,
          9.4,
          9.5,
          9.600000000000001,
          9.700000000000001,
          9.8,
          9.9
         ],
         "y": [
          1.2909291979963993,
          2.143896726792851,
          3.476758082561367,
          4.198325937229462,
          5.16588877437686,
          5.602292345325376,
          6.3022880012789395,
          6.568845620425976,
          7.511121145467264,
          7.460164657916555,
          8.34708077996322,
          8.078470378248129,
          8.925078652191631,
          8.708725200971694,
          9.584948395219861,
          9.290560636293499,
          9.560990909526648,
          9.542726323469589,
          9.771650169635071,
          9.790248093788609,
          9.883726767002301,
          10.040660362775933,
          10.067276777527274,
          10.141205502028336,
          10.113945361988327,
          9.713883946107323,
          9.413269060048934,
          8.990709695055113,
          8.537257710218283,
          8.34624136628066,
          7.877889766166266,
          7.9452795690685925,
          7.245621657225412,
          7.022660142734078,
          6.128331867238804,
          5.516574691302056,
          4.93542862002578,
          4.813490028805528,
          4.621856245471714,
          4.524579009667442,
          4.085830246903489,
          3.9584256033519813,
          3.498857822874692,
          3.587038090282433,
          2.7695620785307185,
          3.0471507214127795,
          2.3398278450692493,
          2.9662731932568493,
          2.681407207201975,
          3.523225040792314,
          3.0628897979616077,
          3.8141514389874906,
          3.3427186617954043,
          4.256244788705689,
          3.6993773764405997,
          4.174241607372972,
          3.5265531921980813,
          3.395637348447219,
          2.7494234964469264,
          2.9446330605393145,
          1.8169454634191222,
          1.8834620803720923,
          0.9010720492514346,
          0.8088766633638222,
          -0.1271404627396846,
          0.06272643552709467,
          -0.7120175274373408,
          -0.7278165863160095,
          -1.386334819305705,
          -1.5059941915297193,
          -2.0543193738659706,
          -2.2224793283494986,
          -2.6740551016651404,
          -2.9580497150819185,
          -3.4681196865315367,
          -3.189567117419376,
          -3.763553860281675,
          -3.5019995762871527,
          -4.231259734452635,
          -3.7780070733050906,
          -4.222505529347959,
          -3.7885077427628,
          -4.136153673261461,
          -3.7950461051606026,
          -4.2894604300112515,
          -4.071317815176475,
          -4.3992256173205195,
          -4.106642672645914,
          -4.651605124255795,
          -4.200980769420735,
          -4.725237194308887,
          -4.318847374042127,
          -4.8638365212662595,
          -4.188350706022614,
          -4.701010847777319,
          -3.867962881992093,
          -4.206399103205806,
          -3.7211530770783434,
          -4.170387584594309,
          -3.5592648122432538,
          -3.8193429463857482
         ]
        },
        {
         "name": "fBM with drift (3.0, 2.0, 0.5, H=0.3)",
         "type": "scatter",
         "x": [
          0,
          0.1,
          0.2,
          0.30000000000000004,
          0.4,
          0.5,
          0.6000000000000001,
          0.7000000000000001,
          0.8,
          0.9,
          1,
          1.1,
          1.2000000000000002,
          1.3,
          1.4000000000000001,
          1.5,
          1.6,
          1.7000000000000002,
          1.8,
          1.9000000000000001,
          2,
          2.1,
          2.2,
          2.3000000000000003,
          2.4000000000000004,
          2.5,
          2.6,
          2.7,
          2.8000000000000003,
          2.9000000000000004,
          3,
          3.1,
          3.2,
          3.3000000000000003,
          3.4000000000000004,
          3.5,
          3.6,
          3.7,
          3.8000000000000003,
          3.9000000000000004,
          4,
          4.1000000000000005,
          4.2,
          4.3,
          4.4,
          4.5,
          4.6000000000000005,
          4.7,
          4.800000000000001,
          4.9,
          5,
          5.1000000000000005,
          5.2,
          5.300000000000001,
          5.4,
          5.5,
          5.6000000000000005,
          5.7,
          5.800000000000001,
          5.9,
          6,
          6.1000000000000005,
          6.2,
          6.300000000000001,
          6.4,
          6.5,
          6.6000000000000005,
          6.7,
          6.800000000000001,
          6.9,
          7,
          7.1000000000000005,
          7.2,
          7.300000000000001,
          7.4,
          7.5,
          7.6000000000000005,
          7.7,
          7.800000000000001,
          7.9,
          8,
          8.1,
          8.200000000000001,
          8.3,
          8.4,
          8.5,
          8.6,
          8.700000000000001,
          8.8,
          8.9,
          9,
          9.1,
          9.200000000000001,
          9.3,
          9.4,
          9.5,
          9.600000000000001,
          9.700000000000001,
          9.8,
          9.9
         ],
         "y": [
          0.584145311494857,
          1.1457542720368423,
          1.0271686106128328,
          1.3947281146899448,
          1.1295000364007335,
          1.3547541595568084,
          1.2777930528536707,
          1.2485864996984717,
          1.3079302342876415,
          1.383025137563942,
          1.0654954213108723,
          0.9846896485825173,
          0.5403688000298651,
          1.1554567025301115,
          0.686656647788631,
          1.5149606898619854,
          1.050081683360946,
          1.9357573345811958,
          1.4625267597014224,
          2.2860411840729014,
          1.5335620711751854,
          2.007664827609563,
          1.2436268906245576,
          1.765899923446685,
          1.1918530182224942,
          1.1934130985825373,
          0.8196444026705345,
          1.0332755377545797,
          0.8208400178336646,
          0.805710823559936,
          0.9275471611239468,
          1.0102286778217604,
          1.1607574172414705,
          1.2826411786724738,
          1.5115859126152196,
          1.51130355098324,
          1.5675497944783587,
          1.576567450644298,
          1.231292787110812,
          1.4921162063527933,
          0.8975890385428735,
          1.5224374598021833,
          0.6175121496107852,
          1.4750979863240228,
          0.4279391323635733,
          1.4989562952488276,
          0.5579343574254001,
          1.731779662547267,
          1.0618510302810273,
          1.9056468674542997,
          1.1242863650384705,
          1.9059414668350478,
          1.068575771698336,
          1.621116867853632,
          0.9430095206531299,
          1.3489083891405669,
          1.021717434333485,
          1.1787945722287196,
          1.2148824428074758,
          1.3025382086775783,
          1.18832770977096,
          1.1538072608816372,
          0.8486252506659268,
          0.8705667601708986,
          0.5587232142272006,
          0.5006591276902941,
          0.40035627293404763,
          0.48500181654016983,
          0.697687493215573,
          0.5844509695523364,
          0.9095917900169082,
          0.1466288856497835,
          0.2996620534635319,
          0.033066971911822174,
          0.26072212882692436,
          0.25577422838627917,
          0.16585724934735824,
          -0.09697421514022275,
          0.12515992420309485,
          -0.2819528124854034,
          0.46895018037156866,
          0.2403555851632454,
          0.7978456165362271,
          0.7959521171740206,
          1.1522742209876697,
          1.1388961560093764,
          1.1688438275320003,
          1.5360167647158465,
          1.6871280910946629,
          1.6217544534132844,
          1.7492221528034908,
          1.2589459994613839,
          1.6902420065650938,
          1.142948323686195,
          2.122951506714927,
          1.4229889956495807,
          1.8472952536139982,
          0.905245363713022,
          1.5529900257690217,
          0.8690835461068596,
          1.7293378300911044
         ]
        }
       ],
       "layout": {
        "showlegend": false,
        "template": {
         "data": {
          "bar": [
           {
            "error_x": {
             "color": "#2a3f5f"
            },
            "error_y": {
             "color": "#2a3f5f"
            },
            "marker": {
             "line": {
              "color": "#E5ECF6",
              "width": 0.5
             },
             "pattern": {
              "fillmode": "overlay",
              "size": 10,
              "solidity": 0.2
             }
            },
            "type": "bar"
           }
          ],
          "barpolar": [
           {
            "marker": {
             "line": {
              "color": "#E5ECF6",
              "width": 0.5
             },
             "pattern": {
              "fillmode": "overlay",
              "size": 10,
              "solidity": 0.2
             }
            },
            "type": "barpolar"
           }
          ],
          "carpet": [
           {
            "aaxis": {
             "endlinecolor": "#2a3f5f",
             "gridcolor": "white",
             "linecolor": "white",
             "minorgridcolor": "white",
             "startlinecolor": "#2a3f5f"
            },
            "baxis": {
             "endlinecolor": "#2a3f5f",
             "gridcolor": "white",
             "linecolor": "white",
             "minorgridcolor": "white",
             "startlinecolor": "#2a3f5f"
            },
            "type": "carpet"
           }
          ],
          "choropleth": [
           {
            "colorbar": {
             "outlinewidth": 0,
             "ticks": ""
            },
            "type": "choropleth"
           }
          ],
          "contour": [
           {
            "colorbar": {
             "outlinewidth": 0,
             "ticks": ""
            },
            "colorscale": [
             [
              0,
              "#0d0887"
             ],
             [
              0.1111111111111111,
              "#46039f"
             ],
             [
              0.2222222222222222,
              "#7201a8"
             ],
             [
              0.3333333333333333,
              "#9c179e"
             ],
             [
              0.4444444444444444,
              "#bd3786"
             ],
             [
              0.5555555555555556,
              "#d8576b"
             ],
             [
              0.6666666666666666,
              "#ed7953"
             ],
             [
              0.7777777777777778,
              "#fb9f3a"
             ],
             [
              0.8888888888888888,
              "#fdca26"
             ],
             [
              1,
              "#f0f921"
             ]
            ],
            "type": "contour"
           }
          ],
          "contourcarpet": [
           {
            "colorbar": {
             "outlinewidth": 0,
             "ticks": ""
            },
            "type": "contourcarpet"
           }
          ],
          "heatmap": [
           {
            "colorbar": {
             "outlinewidth": 0,
             "ticks": ""
            },
            "colorscale": [
             [
              0,
              "#0d0887"
             ],
             [
              0.1111111111111111,
              "#46039f"
             ],
             [
              0.2222222222222222,
              "#7201a8"
             ],
             [
              0.3333333333333333,
              "#9c179e"
             ],
             [
              0.4444444444444444,
              "#bd3786"
             ],
             [
              0.5555555555555556,
              "#d8576b"
             ],
             [
              0.6666666666666666,
              "#ed7953"
             ],
             [
              0.7777777777777778,
              "#fb9f3a"
             ],
             [
              0.8888888888888888,
              "#fdca26"
             ],
             [
              1,
              "#f0f921"
             ]
            ],
            "type": "heatmap"
           }
          ],
          "heatmapgl": [
           {
            "colorbar": {
             "outlinewidth": 0,
             "ticks": ""
            },
            "colorscale": [
             [
              0,
              "#0d0887"
             ],
             [
              0.1111111111111111,
              "#46039f"
             ],
             [
              0.2222222222222222,
              "#7201a8"
             ],
             [
              0.3333333333333333,
              "#9c179e"
             ],
             [
              0.4444444444444444,
              "#bd3786"
             ],
             [
              0.5555555555555556,
              "#d8576b"
             ],
             [
              0.6666666666666666,
              "#ed7953"
             ],
             [
              0.7777777777777778,
              "#fb9f3a"
             ],
             [
              0.8888888888888888,
              "#fdca26"
             ],
             [
              1,
              "#f0f921"
             ]
            ],
            "type": "heatmapgl"
           }
          ],
          "histogram": [
           {
            "marker": {
             "pattern": {
              "fillmode": "overlay",
              "size": 10,
              "solidity": 0.2
             }
            },
            "type": "histogram"
           }
          ],
          "histogram2d": [
           {
            "colorbar": {
             "outlinewidth": 0,
             "ticks": ""
            },
            "colorscale": [
             [
              0,
              "#0d0887"
             ],
             [
              0.1111111111111111,
              "#46039f"
             ],
             [
              0.2222222222222222,
              "#7201a8"
             ],
             [
              0.3333333333333333,
              "#9c179e"
             ],
             [
              0.4444444444444444,
              "#bd3786"
             ],
             [
              0.5555555555555556,
              "#d8576b"
             ],
             [
              0.6666666666666666,
              "#ed7953"
             ],
             [
              0.7777777777777778,
              "#fb9f3a"
             ],
             [
              0.8888888888888888,
              "#fdca26"
             ],
             [
              1,
              "#f0f921"
             ]
            ],
            "type": "histogram2d"
           }
          ],
          "histogram2dcontour": [
           {
            "colorbar": {
             "outlinewidth": 0,
             "ticks": ""
            },
            "colorscale": [
             [
              0,
              "#0d0887"
             ],
             [
              0.1111111111111111,
              "#46039f"
             ],
             [
              0.2222222222222222,
              "#7201a8"
             ],
             [
              0.3333333333333333,
              "#9c179e"
             ],
             [
              0.4444444444444444,
              "#bd3786"
             ],
             [
              0.5555555555555556,
              "#d8576b"
             ],
             [
              0.6666666666666666,
              "#ed7953"
             ],
             [
              0.7777777777777778,
              "#fb9f3a"
             ],
             [
              0.8888888888888888,
              "#fdca26"
             ],
             [
              1,
              "#f0f921"
             ]
            ],
            "type": "histogram2dcontour"
           }
          ],
          "mesh3d": [
           {
            "colorbar": {
             "outlinewidth": 0,
             "ticks": ""
            },
            "type": "mesh3d"
           }
          ],
          "parcoords": [
           {
            "line": {
             "colorbar": {
              "outlinewidth": 0,
              "ticks": ""
             }
            },
            "type": "parcoords"
           }
          ],
          "pie": [
           {
            "automargin": true,
            "type": "pie"
           }
          ],
          "scatter": [
           {
            "fillpattern": {
             "fillmode": "overlay",
             "size": 10,
             "solidity": 0.2
            },
            "type": "scatter"
           }
          ],
          "scatter3d": [
           {
            "line": {
             "colorbar": {
              "outlinewidth": 0,
              "ticks": ""
             }
            },
            "marker": {
             "colorbar": {
              "outlinewidth": 0,
              "ticks": ""
             }
            },
            "type": "scatter3d"
           }
          ],
          "scattercarpet": [
           {
            "marker": {
             "colorbar": {
              "outlinewidth": 0,
              "ticks": ""
             }
            },
            "type": "scattercarpet"
           }
          ],
          "scattergeo": [
           {
            "marker": {
             "colorbar": {
              "outlinewidth": 0,
              "ticks": ""
             }
            },
            "type": "scattergeo"
           }
          ],
          "scattergl": [
           {
            "marker": {
             "colorbar": {
              "outlinewidth": 0,
              "ticks": ""
             }
            },
            "type": "scattergl"
           }
          ],
          "scattermapbox": [
           {
            "marker": {
             "colorbar": {
              "outlinewidth": 0,
              "ticks": ""
             }
            },
            "type": "scattermapbox"
           }
          ],
          "scatterpolar": [
           {
            "marker": {
             "colorbar": {
              "outlinewidth": 0,
              "ticks": ""
             }
            },
            "type": "scatterpolar"
           }
          ],
          "scatterpolargl": [
           {
            "marker": {
             "colorbar": {
              "outlinewidth": 0,
              "ticks": ""
             }
            },
            "type": "scatterpolargl"
           }
          ],
          "scatterternary": [
           {
            "marker": {
             "colorbar": {
              "outlinewidth": 0,
              "ticks": ""
             }
            },
            "type": "scatterternary"
           }
          ],
          "surface": [
           {
            "colorbar": {
             "outlinewidth": 0,
             "ticks": ""
            },
            "colorscale": [
             [
              0,
              "#0d0887"
             ],
             [
              0.1111111111111111,
              "#46039f"
             ],
             [
              0.2222222222222222,
              "#7201a8"
             ],
             [
              0.3333333333333333,
              "#9c179e"
             ],
             [
              0.4444444444444444,
              "#bd3786"
             ],
             [
              0.5555555555555556,
              "#d8576b"
             ],
             [
              0.6666666666666666,
              "#ed7953"
             ],
             [
              0.7777777777777778,
              "#fb9f3a"
             ],
             [
              0.8888888888888888,
              "#fdca26"
             ],
             [
              1,
              "#f0f921"
             ]
            ],
            "type": "surface"
           }
          ],
          "table": [
           {
            "cells": {
             "fill": {
              "color": "#EBF0F8"
             },
             "line": {
              "color": "white"
             }
            },
            "header": {
             "fill": {
              "color": "#C8D4E3"
             },
             "line": {
              "color": "white"
             }
            },
            "type": "table"
           }
          ]
         },
         "layout": {
          "annotationdefaults": {
           "arrowcolor": "#2a3f5f",
           "arrowhead": 0,
           "arrowwidth": 1
          },
          "autotypenumbers": "strict",
          "coloraxis": {
           "colorbar": {
            "outlinewidth": 0,
            "ticks": ""
           }
          },
          "colorscale": {
           "diverging": [
            [
             0,
             "#8e0152"
            ],
            [
             0.1,
             "#c51b7d"
            ],
            [
             0.2,
             "#de77ae"
            ],
            [
             0.3,
             "#f1b6da"
            ],
            [
             0.4,
             "#fde0ef"
            ],
            [
             0.5,
             "#f7f7f7"
            ],
            [
             0.6,
             "#e6f5d0"
            ],
            [
             0.7,
             "#b8e186"
            ],
            [
             0.8,
             "#7fbc41"
            ],
            [
             0.9,
             "#4d9221"
            ],
            [
             1,
             "#276419"
            ]
           ],
           "sequential": [
            [
             0,
             "#0d0887"
            ],
            [
             0.1111111111111111,
             "#46039f"
            ],
            [
             0.2222222222222222,
             "#7201a8"
            ],
            [
             0.3333333333333333,
             "#9c179e"
            ],
            [
             0.4444444444444444,
             "#bd3786"
            ],
            [
             0.5555555555555556,
             "#d8576b"
            ],
            [
             0.6666666666666666,
             "#ed7953"
            ],
            [
             0.7777777777777778,
             "#fb9f3a"
            ],
            [
             0.8888888888888888,
             "#fdca26"
            ],
            [
             1,
             "#f0f921"
            ]
           ],
           "sequentialminus": [
            [
             0,
             "#0d0887"
            ],
            [
             0.1111111111111111,
             "#46039f"
            ],
            [
             0.2222222222222222,
             "#7201a8"
            ],
            [
             0.3333333333333333,
             "#9c179e"
            ],
            [
             0.4444444444444444,
             "#bd3786"
            ],
            [
             0.5555555555555556,
             "#d8576b"
            ],
            [
             0.6666666666666666,
             "#ed7953"
            ],
            [
             0.7777777777777778,
             "#fb9f3a"
            ],
            [
             0.8888888888888888,
             "#fdca26"
            ],
            [
             1,
             "#f0f921"
            ]
           ]
          },
          "colorway": [
           "#636efa",
           "#EF553B",
           "#00cc96",
           "#ab63fa",
           "#FFA15A",
           "#19d3f3",
           "#FF6692",
           "#B6E880",
           "#FF97FF",
           "#FECB52"
          ],
          "font": {
           "color": "#2a3f5f"
          },
          "geo": {
           "bgcolor": "white",
           "lakecolor": "white",
           "landcolor": "#E5ECF6",
           "showlakes": true,
           "showland": true,
           "subunitcolor": "white"
          },
          "hoverlabel": {
           "align": "left"
          },
          "hovermode": "closest",
          "mapbox": {
           "style": "light"
          },
          "paper_bgcolor": "white",
          "plot_bgcolor": "#E5ECF6",
          "polar": {
           "angularaxis": {
            "gridcolor": "white",
            "linecolor": "white",
            "ticks": ""
           },
           "bgcolor": "#E5ECF6",
           "radialaxis": {
            "gridcolor": "white",
            "linecolor": "white",
            "ticks": ""
           }
          },
          "scene": {
           "xaxis": {
            "backgroundcolor": "#E5ECF6",
            "gridcolor": "white",
            "gridwidth": 2,
            "linecolor": "white",
            "showbackground": true,
            "ticks": "",
            "zerolinecolor": "white"
           },
           "yaxis": {
            "backgroundcolor": "#E5ECF6",
            "gridcolor": "white",
            "gridwidth": 2,
            "linecolor": "white",
            "showbackground": true,
            "ticks": "",
            "zerolinecolor": "white"
           },
           "zaxis": {
            "backgroundcolor": "#E5ECF6",
            "gridcolor": "white",
            "gridwidth": 2,
            "linecolor": "white",
            "showbackground": true,
            "ticks": "",
            "zerolinecolor": "white"
           }
          },
          "shapedefaults": {
           "line": {
            "color": "#2a3f5f"
           }
          },
          "ternary": {
           "aaxis": {
            "gridcolor": "white",
            "linecolor": "white",
            "ticks": ""
           },
           "baxis": {
            "gridcolor": "white",
            "linecolor": "white",
            "ticks": ""
           },
           "bgcolor": "#E5ECF6",
           "caxis": {
            "gridcolor": "white",
            "linecolor": "white",
            "ticks": ""
           }
          },
          "title": {
           "x": 0.05
          },
          "xaxis": {
           "automargin": true,
           "gridcolor": "white",
           "linecolor": "white",
           "ticks": "",
           "title": {
            "standoff": 15
           },
           "zerolinecolor": "white",
           "zerolinewidth": 2
          },
          "yaxis": {
           "automargin": true,
           "gridcolor": "white",
           "linecolor": "white",
           "ticks": "",
           "title": {
            "standoff": 15
           },
           "zerolinecolor": "white",
           "zerolinewidth": 2
          }
         }
        }
       }
      },
      "text/html": [
       "<div>                            <div id=\"a715a44e-f1bb-42f6-abe9-b9e6eb52da44\" class=\"plotly-graph-div\" style=\"height:525px; width:100%;\"></div>            <script type=\"text/javascript\">                require([\"plotly\"], function(Plotly) {                    window.PLOTLYENV=window.PLOTLYENV || {};                                    if (document.getElementById(\"a715a44e-f1bb-42f6-abe9-b9e6eb52da44\")) {                    Plotly.newPlot(                        \"a715a44e-f1bb-42f6-abe9-b9e6eb52da44\",                        [{\"name\":\"fBM with drift (1.0, 3.0, 0.5, H=0.8)\",\"x\":[0.0,0.1,0.2,0.30000000000000004,0.4,0.5,0.6000000000000001,0.7000000000000001,0.8,0.9,1.0,1.1,1.2000000000000002,1.3,1.4000000000000001,1.5,1.6,1.7000000000000002,1.8,1.9000000000000001,2.0,2.1,2.2,2.3000000000000003,2.4000000000000004,2.5,2.6,2.7,2.8000000000000003,2.9000000000000004,3.0,3.1,3.2,3.3000000000000003,3.4000000000000004,3.5,3.6,3.7,3.8000000000000003,3.9000000000000004,4.0,4.1000000000000005,4.2,4.3,4.4,4.5,4.6000000000000005,4.7,4.800000000000001,4.9,5.0,5.1000000000000005,5.2,5.300000000000001,5.4,5.5,5.6000000000000005,5.7,5.800000000000001,5.9,6.0,6.1000000000000005,6.2,6.300000000000001,6.4,6.5,6.6000000000000005,6.7,6.800000000000001,6.9,7.0,7.1000000000000005,7.2,7.300000000000001,7.4,7.5,7.6000000000000005,7.7,7.800000000000001,7.9,8.0,8.1,8.200000000000001,8.3,8.4,8.5,8.6,8.700000000000001,8.8,8.9,9.0,9.1,9.200000000000001,9.3,9.4,9.5,9.600000000000001,9.700000000000001,9.8,9.9],\"y\":[0.35672541918002365,0.6281363218309685,1.0497698235783404,1.440847754955259,1.8476136945298047,2.094985402769498,2.624476809262285,2.8138020767293823,3.2493675892280742,3.288218770906048,3.6117908059509314,3.5527743141011214,3.943845565364443,3.999973635711528,4.384373917817193,4.477099430418121,4.800712641393066,4.872220536517671,5.227841777893599,5.395839187394549,5.658588160282902,5.806636236512853,6.170284387868625,6.321684318455634,6.582369164650153,6.700685100715092,6.984410291951931,7.050827436747324,7.212694456884273,7.400185804671225,7.590186478171131,7.739035232539644,7.830082158657868,7.943237790868008,8.100971855401866,8.226950361144471,8.51541318044089,8.56391983080234,8.876858835399197,8.94608150399136,9.246952202176567,9.321481739074864,9.61116246213018,9.675047295091352,9.863642220839536,9.898590776777752,10.116684474661897,10.103755167284394,10.240732838203405,10.103995204025725,10.087839663659073,10.088707216477701,10.114507332237928,10.092115922195775,10.178310582048697,10.049336007790052,10.060847708804811,9.999601243418171,10.0303617117157,10.073157678095784,10.205415376463904,10.286474538160828,10.510461657896474,10.589584283245816,10.827295405708888,10.85836989333308,11.054295491259934,11.000363957076596,11.15203706882451,11.028540080919901,11.088345892720525,11.073341455260206,11.215198683059498,11.260907619640339,11.360653507704814,11.44490432272806,11.697366278636654,11.758489547529713,12.086711083741145,12.262716162957448,12.667349590442495,12.818422518890944,13.311224397633307,13.380552461463221,13.941358896960134,13.868250141046932,14.463042696500903,14.277481860590015,14.80171916184914,14.578725135886588,15.129085216633197,14.947422162282125,15.455894077611106,15.394979435471795,15.8823984674302,15.722521369947026,16.238338673433436,15.978513070647924,16.389884189882622,16.05280661204984,16.529484731758348],\"type\":\"scatter\"},{\"name\":\"fBM with drift (2.0, 5.0, 1.0, H=0.7)\",\"x\":[0.0,0.1,0.2,0.30000000000000004,0.4,0.5,0.6000000000000001,0.7000000000000001,0.8,0.9,1.0,1.1,1.2000000000000002,1.3,1.4000000000000001,1.5,1.6,1.7000000000000002,1.8,1.9000000000000001,2.0,2.1,2.2,2.3000000000000003,2.4000000000000004,2.5,2.6,2.7,2.8000000000000003,2.9000000000000004,3.0,3.1,3.2,3.3000000000000003,3.4000000000000004,3.5,3.6,3.7,3.8000000000000003,3.9000000000000004,4.0,4.1000000000000005,4.2,4.3,4.4,4.5,4.6000000000000005,4.7,4.800000000000001,4.9,5.0,5.1000000000000005,5.2,5.300000000000001,5.4,5.5,5.6000000000000005,5.7,5.800000000000001,5.9,6.0,6.1000000000000005,6.2,6.300000000000001,6.4,6.5,6.6000000000000005,6.7,6.800000000000001,6.9,7.0,7.1000000000000005,7.2,7.300000000000001,7.4,7.5,7.6000000000000005,7.7,7.800000000000001,7.9,8.0,8.1,8.200000000000001,8.3,8.4,8.5,8.6,8.700000000000001,8.8,8.9,9.0,9.1,9.200000000000001,9.3,9.4,9.5,9.600000000000001,9.700000000000001,9.8,9.9],\"y\":[1.2909291979963993,2.143896726792851,3.476758082561367,4.198325937229462,5.16588877437686,5.602292345325376,6.3022880012789395,6.568845620425976,7.511121145467264,7.460164657916555,8.34708077996322,8.078470378248129,8.925078652191631,8.708725200971694,9.584948395219861,9.290560636293499,9.560990909526648,9.542726323469589,9.771650169635071,9.790248093788609,9.883726767002301,10.040660362775933,10.067276777527274,10.141205502028336,10.113945361988327,9.713883946107323,9.413269060048934,8.990709695055113,8.537257710218283,8.34624136628066,7.877889766166266,7.9452795690685925,7.245621657225412,7.022660142734078,6.128331867238804,5.516574691302056,4.93542862002578,4.813490028805528,4.621856245471714,4.524579009667442,4.085830246903489,3.9584256033519813,3.498857822874692,3.587038090282433,2.7695620785307185,3.0471507214127795,2.3398278450692493,2.9662731932568493,2.681407207201975,3.523225040792314,3.0628897979616077,3.8141514389874906,3.3427186617954043,4.256244788705689,3.6993773764405997,4.174241607372972,3.5265531921980813,3.395637348447219,2.7494234964469264,2.9446330605393145,1.8169454634191222,1.8834620803720923,0.9010720492514346,0.8088766633638222,-0.1271404627396846,0.06272643552709467,-0.7120175274373408,-0.7278165863160095,-1.386334819305705,-1.5059941915297193,-2.0543193738659706,-2.2224793283494986,-2.6740551016651404,-2.9580497150819185,-3.4681196865315367,-3.189567117419376,-3.763553860281675,-3.5019995762871527,-4.231259734452635,-3.7780070733050906,-4.222505529347959,-3.7885077427628,-4.136153673261461,-3.7950461051606026,-4.2894604300112515,-4.071317815176475,-4.3992256173205195,-4.106642672645914,-4.651605124255795,-4.200980769420735,-4.725237194308887,-4.318847374042127,-4.8638365212662595,-4.188350706022614,-4.701010847777319,-3.867962881992093,-4.206399103205806,-3.7211530770783434,-4.170387584594309,-3.5592648122432538,-3.8193429463857482],\"type\":\"scatter\"},{\"name\":\"fBM with drift (3.0, 2.0, 0.5, H=0.3)\",\"x\":[0.0,0.1,0.2,0.30000000000000004,0.4,0.5,0.6000000000000001,0.7000000000000001,0.8,0.9,1.0,1.1,1.2000000000000002,1.3,1.4000000000000001,1.5,1.6,1.7000000000000002,1.8,1.9000000000000001,2.0,2.1,2.2,2.3000000000000003,2.4000000000000004,2.5,2.6,2.7,2.8000000000000003,2.9000000000000004,3.0,3.1,3.2,3.3000000000000003,3.4000000000000004,3.5,3.6,3.7,3.8000000000000003,3.9000000000000004,4.0,4.1000000000000005,4.2,4.3,4.4,4.5,4.6000000000000005,4.7,4.800000000000001,4.9,5.0,5.1000000000000005,5.2,5.300000000000001,5.4,5.5,5.6000000000000005,5.7,5.800000000000001,5.9,6.0,6.1000000000000005,6.2,6.300000000000001,6.4,6.5,6.6000000000000005,6.7,6.800000000000001,6.9,7.0,7.1000000000000005,7.2,7.300000000000001,7.4,7.5,7.6000000000000005,7.7,7.800000000000001,7.9,8.0,8.1,8.200000000000001,8.3,8.4,8.5,8.6,8.700000000000001,8.8,8.9,9.0,9.1,9.200000000000001,9.3,9.4,9.5,9.600000000000001,9.700000000000001,9.8,9.9],\"y\":[0.584145311494857,1.1457542720368423,1.0271686106128328,1.3947281146899448,1.1295000364007335,1.3547541595568084,1.2777930528536707,1.2485864996984717,1.3079302342876415,1.383025137563942,1.0654954213108723,0.9846896485825173,0.5403688000298651,1.1554567025301115,0.686656647788631,1.5149606898619854,1.050081683360946,1.9357573345811958,1.4625267597014224,2.2860411840729014,1.5335620711751854,2.007664827609563,1.2436268906245576,1.765899923446685,1.1918530182224942,1.1934130985825373,0.8196444026705345,1.0332755377545797,0.8208400178336646,0.805710823559936,0.9275471611239468,1.0102286778217604,1.1607574172414705,1.2826411786724738,1.5115859126152196,1.51130355098324,1.5675497944783587,1.576567450644298,1.231292787110812,1.4921162063527933,0.8975890385428735,1.5224374598021833,0.6175121496107852,1.4750979863240228,0.4279391323635733,1.4989562952488276,0.5579343574254001,1.731779662547267,1.0618510302810273,1.9056468674542997,1.1242863650384705,1.9059414668350478,1.068575771698336,1.621116867853632,0.9430095206531299,1.3489083891405669,1.021717434333485,1.1787945722287196,1.2148824428074758,1.3025382086775783,1.18832770977096,1.1538072608816372,0.8486252506659268,0.8705667601708986,0.5587232142272006,0.5006591276902941,0.40035627293404763,0.48500181654016983,0.697687493215573,0.5844509695523364,0.9095917900169082,0.1466288856497835,0.2996620534635319,0.033066971911822174,0.26072212882692436,0.25577422838627917,0.16585724934735824,-0.09697421514022275,0.12515992420309485,-0.2819528124854034,0.46895018037156866,0.2403555851632454,0.7978456165362271,0.7959521171740206,1.1522742209876697,1.1388961560093764,1.1688438275320003,1.5360167647158465,1.6871280910946629,1.6217544534132844,1.7492221528034908,1.2589459994613839,1.6902420065650938,1.142948323686195,2.122951506714927,1.4229889956495807,1.8472952536139982,0.905245363713022,1.5529900257690217,0.8690835461068596,1.7293378300911044],\"type\":\"scatter\"}],                        {\"showlegend\":false,\"template\":{\"data\":{\"barpolar\":[{\"marker\":{\"line\":{\"color\":\"#E5ECF6\",\"width\":0.5},\"pattern\":{\"fillmode\":\"overlay\",\"size\":10,\"solidity\":0.2}},\"type\":\"barpolar\"}],\"bar\":[{\"error_x\":{\"color\":\"#2a3f5f\"},\"error_y\":{\"color\":\"#2a3f5f\"},\"marker\":{\"line\":{\"color\":\"#E5ECF6\",\"width\":0.5},\"pattern\":{\"fillmode\":\"overlay\",\"size\":10,\"solidity\":0.2}},\"type\":\"bar\"}],\"carpet\":[{\"aaxis\":{\"endlinecolor\":\"#2a3f5f\",\"gridcolor\":\"white\",\"linecolor\":\"white\",\"minorgridcolor\":\"white\",\"startlinecolor\":\"#2a3f5f\"},\"baxis\":{\"endlinecolor\":\"#2a3f5f\",\"gridcolor\":\"white\",\"linecolor\":\"white\",\"minorgridcolor\":\"white\",\"startlinecolor\":\"#2a3f5f\"},\"type\":\"carpet\"}],\"choropleth\":[{\"colorbar\":{\"outlinewidth\":0,\"ticks\":\"\"},\"type\":\"choropleth\"}],\"contourcarpet\":[{\"colorbar\":{\"outlinewidth\":0,\"ticks\":\"\"},\"type\":\"contourcarpet\"}],\"contour\":[{\"colorbar\":{\"outlinewidth\":0,\"ticks\":\"\"},\"colorscale\":[[0.0,\"#0d0887\"],[0.1111111111111111,\"#46039f\"],[0.2222222222222222,\"#7201a8\"],[0.3333333333333333,\"#9c179e\"],[0.4444444444444444,\"#bd3786\"],[0.5555555555555556,\"#d8576b\"],[0.6666666666666666,\"#ed7953\"],[0.7777777777777778,\"#fb9f3a\"],[0.8888888888888888,\"#fdca26\"],[1.0,\"#f0f921\"]],\"type\":\"contour\"}],\"heatmapgl\":[{\"colorbar\":{\"outlinewidth\":0,\"ticks\":\"\"},\"colorscale\":[[0.0,\"#0d0887\"],[0.1111111111111111,\"#46039f\"],[0.2222222222222222,\"#7201a8\"],[0.3333333333333333,\"#9c179e\"],[0.4444444444444444,\"#bd3786\"],[0.5555555555555556,\"#d8576b\"],[0.6666666666666666,\"#ed7953\"],[0.7777777777777778,\"#fb9f3a\"],[0.8888888888888888,\"#fdca26\"],[1.0,\"#f0f921\"]],\"type\":\"heatmapgl\"}],\"heatmap\":[{\"colorbar\":{\"outlinewidth\":0,\"ticks\":\"\"},\"colorscale\":[[0.0,\"#0d0887\"],[0.1111111111111111,\"#46039f\"],[0.2222222222222222,\"#7201a8\"],[0.3333333333333333,\"#9c179e\"],[0.4444444444444444,\"#bd3786\"],[0.5555555555555556,\"#d8576b\"],[0.6666666666666666,\"#ed7953\"],[0.7777777777777778,\"#fb9f3a\"],[0.8888888888888888,\"#fdca26\"],[1.0,\"#f0f921\"]],\"type\":\"heatmap\"}],\"histogram2dcontour\":[{\"colorbar\":{\"outlinewidth\":0,\"ticks\":\"\"},\"colorscale\":[[0.0,\"#0d0887\"],[0.1111111111111111,\"#46039f\"],[0.2222222222222222,\"#7201a8\"],[0.3333333333333333,\"#9c179e\"],[0.4444444444444444,\"#bd3786\"],[0.5555555555555556,\"#d8576b\"],[0.6666666666666666,\"#ed7953\"],[0.7777777777777778,\"#fb9f3a\"],[0.8888888888888888,\"#fdca26\"],[1.0,\"#f0f921\"]],\"type\":\"histogram2dcontour\"}],\"histogram2d\":[{\"colorbar\":{\"outlinewidth\":0,\"ticks\":\"\"},\"colorscale\":[[0.0,\"#0d0887\"],[0.1111111111111111,\"#46039f\"],[0.2222222222222222,\"#7201a8\"],[0.3333333333333333,\"#9c179e\"],[0.4444444444444444,\"#bd3786\"],[0.5555555555555556,\"#d8576b\"],[0.6666666666666666,\"#ed7953\"],[0.7777777777777778,\"#fb9f3a\"],[0.8888888888888888,\"#fdca26\"],[1.0,\"#f0f921\"]],\"type\":\"histogram2d\"}],\"histogram\":[{\"marker\":{\"pattern\":{\"fillmode\":\"overlay\",\"size\":10,\"solidity\":0.2}},\"type\":\"histogram\"}],\"mesh3d\":[{\"colorbar\":{\"outlinewidth\":0,\"ticks\":\"\"},\"type\":\"mesh3d\"}],\"parcoords\":[{\"line\":{\"colorbar\":{\"outlinewidth\":0,\"ticks\":\"\"}},\"type\":\"parcoords\"}],\"pie\":[{\"automargin\":true,\"type\":\"pie\"}],\"scatter3d\":[{\"line\":{\"colorbar\":{\"outlinewidth\":0,\"ticks\":\"\"}},\"marker\":{\"colorbar\":{\"outlinewidth\":0,\"ticks\":\"\"}},\"type\":\"scatter3d\"}],\"scattercarpet\":[{\"marker\":{\"colorbar\":{\"outlinewidth\":0,\"ticks\":\"\"}},\"type\":\"scattercarpet\"}],\"scattergeo\":[{\"marker\":{\"colorbar\":{\"outlinewidth\":0,\"ticks\":\"\"}},\"type\":\"scattergeo\"}],\"scattergl\":[{\"marker\":{\"colorbar\":{\"outlinewidth\":0,\"ticks\":\"\"}},\"type\":\"scattergl\"}],\"scattermapbox\":[{\"marker\":{\"colorbar\":{\"outlinewidth\":0,\"ticks\":\"\"}},\"type\":\"scattermapbox\"}],\"scatterpolargl\":[{\"marker\":{\"colorbar\":{\"outlinewidth\":0,\"ticks\":\"\"}},\"type\":\"scatterpolargl\"}],\"scatterpolar\":[{\"marker\":{\"colorbar\":{\"outlinewidth\":0,\"ticks\":\"\"}},\"type\":\"scatterpolar\"}],\"scatter\":[{\"fillpattern\":{\"fillmode\":\"overlay\",\"size\":10,\"solidity\":0.2},\"type\":\"scatter\"}],\"scatterternary\":[{\"marker\":{\"colorbar\":{\"outlinewidth\":0,\"ticks\":\"\"}},\"type\":\"scatterternary\"}],\"surface\":[{\"colorbar\":{\"outlinewidth\":0,\"ticks\":\"\"},\"colorscale\":[[0.0,\"#0d0887\"],[0.1111111111111111,\"#46039f\"],[0.2222222222222222,\"#7201a8\"],[0.3333333333333333,\"#9c179e\"],[0.4444444444444444,\"#bd3786\"],[0.5555555555555556,\"#d8576b\"],[0.6666666666666666,\"#ed7953\"],[0.7777777777777778,\"#fb9f3a\"],[0.8888888888888888,\"#fdca26\"],[1.0,\"#f0f921\"]],\"type\":\"surface\"}],\"table\":[{\"cells\":{\"fill\":{\"color\":\"#EBF0F8\"},\"line\":{\"color\":\"white\"}},\"header\":{\"fill\":{\"color\":\"#C8D4E3\"},\"line\":{\"color\":\"white\"}},\"type\":\"table\"}]},\"layout\":{\"annotationdefaults\":{\"arrowcolor\":\"#2a3f5f\",\"arrowhead\":0,\"arrowwidth\":1},\"autotypenumbers\":\"strict\",\"coloraxis\":{\"colorbar\":{\"outlinewidth\":0,\"ticks\":\"\"}},\"colorscale\":{\"diverging\":[[0,\"#8e0152\"],[0.1,\"#c51b7d\"],[0.2,\"#de77ae\"],[0.3,\"#f1b6da\"],[0.4,\"#fde0ef\"],[0.5,\"#f7f7f7\"],[0.6,\"#e6f5d0\"],[0.7,\"#b8e186\"],[0.8,\"#7fbc41\"],[0.9,\"#4d9221\"],[1,\"#276419\"]],\"sequential\":[[0.0,\"#0d0887\"],[0.1111111111111111,\"#46039f\"],[0.2222222222222222,\"#7201a8\"],[0.3333333333333333,\"#9c179e\"],[0.4444444444444444,\"#bd3786\"],[0.5555555555555556,\"#d8576b\"],[0.6666666666666666,\"#ed7953\"],[0.7777777777777778,\"#fb9f3a\"],[0.8888888888888888,\"#fdca26\"],[1.0,\"#f0f921\"]],\"sequentialminus\":[[0.0,\"#0d0887\"],[0.1111111111111111,\"#46039f\"],[0.2222222222222222,\"#7201a8\"],[0.3333333333333333,\"#9c179e\"],[0.4444444444444444,\"#bd3786\"],[0.5555555555555556,\"#d8576b\"],[0.6666666666666666,\"#ed7953\"],[0.7777777777777778,\"#fb9f3a\"],[0.8888888888888888,\"#fdca26\"],[1.0,\"#f0f921\"]]},\"colorway\":[\"#636efa\",\"#EF553B\",\"#00cc96\",\"#ab63fa\",\"#FFA15A\",\"#19d3f3\",\"#FF6692\",\"#B6E880\",\"#FF97FF\",\"#FECB52\"],\"font\":{\"color\":\"#2a3f5f\"},\"geo\":{\"bgcolor\":\"white\",\"lakecolor\":\"white\",\"landcolor\":\"#E5ECF6\",\"showlakes\":true,\"showland\":true,\"subunitcolor\":\"white\"},\"hoverlabel\":{\"align\":\"left\"},\"hovermode\":\"closest\",\"mapbox\":{\"style\":\"light\"},\"paper_bgcolor\":\"white\",\"plot_bgcolor\":\"#E5ECF6\",\"polar\":{\"angularaxis\":{\"gridcolor\":\"white\",\"linecolor\":\"white\",\"ticks\":\"\"},\"bgcolor\":\"#E5ECF6\",\"radialaxis\":{\"gridcolor\":\"white\",\"linecolor\":\"white\",\"ticks\":\"\"}},\"scene\":{\"xaxis\":{\"backgroundcolor\":\"#E5ECF6\",\"gridcolor\":\"white\",\"gridwidth\":2,\"linecolor\":\"white\",\"showbackground\":true,\"ticks\":\"\",\"zerolinecolor\":\"white\"},\"yaxis\":{\"backgroundcolor\":\"#E5ECF6\",\"gridcolor\":\"white\",\"gridwidth\":2,\"linecolor\":\"white\",\"showbackground\":true,\"ticks\":\"\",\"zerolinecolor\":\"white\"},\"zaxis\":{\"backgroundcolor\":\"#E5ECF6\",\"gridcolor\":\"white\",\"gridwidth\":2,\"linecolor\":\"white\",\"showbackground\":true,\"ticks\":\"\",\"zerolinecolor\":\"white\"}},\"shapedefaults\":{\"line\":{\"color\":\"#2a3f5f\"}},\"ternary\":{\"aaxis\":{\"gridcolor\":\"white\",\"linecolor\":\"white\",\"ticks\":\"\"},\"baxis\":{\"gridcolor\":\"white\",\"linecolor\":\"white\",\"ticks\":\"\"},\"bgcolor\":\"#E5ECF6\",\"caxis\":{\"gridcolor\":\"white\",\"linecolor\":\"white\",\"ticks\":\"\"}},\"title\":{\"x\":0.05},\"xaxis\":{\"automargin\":true,\"gridcolor\":\"white\",\"linecolor\":\"white\",\"ticks\":\"\",\"title\":{\"standoff\":15},\"zerolinecolor\":\"white\",\"zerolinewidth\":2},\"yaxis\":{\"automargin\":true,\"gridcolor\":\"white\",\"linecolor\":\"white\",\"ticks\":\"\",\"title\":{\"standoff\":15},\"zerolinecolor\":\"white\",\"zerolinewidth\":2}}}},                        {\"responsive\": true}                    ).then(function(){\n",
       "                            \n",
       "var gd = document.getElementById('a715a44e-f1bb-42f6-abe9-b9e6eb52da44');\n",
       "var x = new MutationObserver(function (mutations, observer) {{\n",
       "        var display = window.getComputedStyle(gd).display;\n",
       "        if (!display || display === 'none') {{\n",
       "            console.log([gd, 'removed!']);\n",
       "            Plotly.purge(gd);\n",
       "            observer.disconnect();\n",
       "        }}\n",
       "}});\n",
       "\n",
       "// Listen for the removal of the full notebook cells\n",
       "var notebookContainer = gd.closest('#notebook-container');\n",
       "if (notebookContainer) {{\n",
       "    x.observe(notebookContainer, {childList: true});\n",
       "}}\n",
       "\n",
       "// Listen for the clearing of the current output cell\n",
       "var outputEl = gd.closest('.output');\n",
       "if (outputEl) {{\n",
       "    x.observe(outputEl, {childList: true});\n",
       "}}\n",
       "\n",
       "                        })                };                });            </script>        </div>"
      ]
     },
     "metadata": {},
     "output_type": "display_data"
    }
   ],
   "source": [
    "# note method 2 of simulation here: https://en.wikipedia.org/wiki/Fractional_Brownian_motion\n",
    "t_period = 10.0\n",
    "t_step = 0.1\n",
    "\n",
    "def K(H: float, t: np.ndarray, s: np.ndarray) -> np.ndarray:\n",
    "    output = (\n",
    "        ((t-s) ** (H - 0.5)) \n",
    "        * sps.hyp2f1(H - 0.5, 0.5 - H, H + 0.5, 1.0 - t/s)\n",
    "        / sps.gamma(H + 0.5)\n",
    "    )\n",
    "    output[s==0] = 1.0\n",
    "    return output\n",
    "\n",
    "brownian_motion_values = np.sqrt(t_step) * np.random.normal(\n",
    "    np.zeros((int(t_period/t_step), 3)), \n",
    "    np.tensordot(\n",
    "        np.ones(int(t_period/t_step)),\n",
    "        np.asarray([0.5, 1.0, 0.5]),\n",
    "        axes=0,\n",
    "    ), \n",
    "    size=(int(t_period/t_step), 3),\n",
    ")\n",
    "\n",
    "def fractional_brownian_motion( \n",
    "    X_prime: np.ndarray, \n",
    "    S_prime: np.ndarray,\n",
    "    t: float, \n",
    "    delta_t: float,\n",
    ") -> np.ndarray:\n",
    "    fBm_vector = -S_prime[0]\n",
    "    n = int(np.round(t / delta_t, 1))\n",
    "    H_values = [0.8, 0.7, 0.3]\n",
    "    for i in range(3):\n",
    "        if t == 0:\n",
    "            fBm_vector[i] = np.sqrt(t_step) * np.random.normal(\n",
    "                0.0, np.asarray([0.5, 1.0, 0.5])[i]\n",
    "            )\n",
    "            continue\n",
    "        dBm = brownian_motion_values[:n, i]\n",
    "        fBm_vector[i] += np.sum(\n",
    "            (float(n) / t) * K(H_values[i], t, delta_t * np.arange(0, n)) * delta_t * dBm\n",
    "        )\n",
    "    return fBm_vector\n",
    "\n",
    "plot_x_time_series(\n",
    "    t_period,\n",
    "    t_step, \n",
    "    np.zeros((2, 3)),\n",
    "    np.zeros((2, 3)), \n",
    "    lambda X_prime, t, delta_t: (\n",
    "        X_prime[0] - delta_t * np.asarray([1.0, 2.0, 3.0]) * (\n",
    "            X_prime[0] - np.asarray([3.0, 5.0, 2.0])\n",
    "        )\n",
    "    ),\n",
    "    fractional_brownian_motion, \n",
    "    \"images/fbm_noise.html\",\n",
    "    [\n",
    "        \"fBM with drift (1.0, 3.0, 0.5, H=0.8)\",\n",
    "        \"fBM with drift (2.0, 5.0, 1.0, H=0.7)\",\n",
    "        \"fBM with drift (3.0, 2.0, 0.5, H=0.3)\",\n",
    "    ]\n",
    ")"
   ]
  },
  {
   "cell_type": "markdown",
   "metadata": {},
   "source": [
    "**Generalised continuous noises** would take the form\n",
    "\n",
    "$$\n",
    "\\begin{align}\n",
    "& X^i_{t+\\delta t} = F^i_{t+\\delta t}(X', t) + \\textcolor{red}{g^i_{t+\\delta t}(X', W^i_{t+\\delta t}-W^i_t, \\dots)},\n",
    "\\end{align}\n",
    "$$\n",
    "\n",
    "where $g^i_{t+\\delta t}(X', W^i_{t+\\delta t}-W^i_t, \\dots)$ is some continuous function of its arguments which can be expanded out with [Itôs Lemma](https://en.wikipedia.org/wiki/It%C3%B4%27s_lemma)."
   ]
  },
  {
   "cell_type": "code",
   "execution_count": null,
   "metadata": {},
   "outputs": [],
   "source": []
  },
  {
   "cell_type": "markdown",
   "metadata": {},
   "source": [
    "**Flavours of noise with discontinuous sample paths**\n",
    "\n",
    "**Jump process noises** generally could take the form\n",
    "\n",
    "$$\n",
    "\\begin{align}\n",
    "& X^i_{t+\\delta t} = F^i_{t+\\delta t}(X', t) + \\textcolor{red}{J^i_{t+\\delta t}(X', \\dots )},\n",
    "\\end{align}\n",
    "$$\n",
    "\n",
    "where $J^i_{t+\\delta t}(X', \\dots )$ are samples from some arbitrary jump process (e.g., compound Poisson) which could generally depend on a variety of inputs, including $X'$. "
   ]
  },
  {
   "cell_type": "code",
   "execution_count": null,
   "metadata": {},
   "outputs": [],
   "source": []
  },
  {
   "cell_type": "markdown",
   "metadata": {},
   "source": [
    "**Poisson process noises** would generally take the form\n",
    "\n",
    "$$\n",
    "\\begin{align}\n",
    "& X^i_{t+\\delta t} = F^i_{t+\\delta t}(X', t) + \\textcolor{red}{N^i_{t+\\delta t}({\\lambda_i})-N^i_{t}({\\lambda_i})},\n",
    "\\end{align}\n",
    "$$\n",
    "\n",
    "where $N^i_{t}({\\lambda_i})$ is a sample from a Poisson process with rate $\\lambda_i$ for each of the state dimensions indexed by $i$. Note that we may also allow for correlations between the noises in different dimensions."
   ]
  },
  {
   "cell_type": "code",
   "execution_count": null,
   "metadata": {},
   "outputs": [],
   "source": []
  },
  {
   "cell_type": "markdown",
   "metadata": {},
   "source": [
    "**Time-inhomogeneous Poisson process noises** would generally take the form\n",
    "\n",
    "$$\n",
    "\\begin{align}\n",
    "& X^i_{t+\\delta t} = F^i_{t+\\delta t}(X', t) + \\textcolor{red}{N^i_{t+\\delta t}({\\lambda^i_{t+\\delta t}})-N^i_{t}({\\lambda^i_t})},\n",
    "\\end{align}\n",
    "$$\n",
    "\n",
    "where $\\lambda^i_{t}$ is a deterministically-varying rate for each of the state dimensions indexed by $i$."
   ]
  },
  {
   "cell_type": "code",
   "execution_count": null,
   "metadata": {},
   "outputs": [],
   "source": []
  },
  {
   "cell_type": "markdown",
   "metadata": {},
   "source": [
    "**Cox (doubly-stochastic) process noises** would generally take the form\n",
    "\n",
    "$$\n",
    "\\begin{align}\n",
    "& X^i_{t+\\delta t} = F^i_{t+\\delta t}(X', t) + \\textcolor{red}{N^i_{t+\\delta t}({\\Lambda^i_{t+\\delta t}})-N^i_{t}({\\Lambda^i_{t}})},\n",
    "\\end{align}\n",
    "$$\n",
    "\n",
    "where the rate $\\Lambda^i_{t}$ is now a sample from some continuous-time stochastic process (in the positive-only domain) for each of the state dimensions indexed by $i$."
   ]
  },
  {
   "cell_type": "code",
   "execution_count": null,
   "metadata": {},
   "outputs": [],
   "source": []
  },
  {
   "cell_type": "markdown",
   "metadata": {},
   "source": [
    "**Self-exciting process noises** would generally take the form\n",
    "\n",
    "$$\n",
    "\\begin{align}\n",
    "& X^i_{t+\\delta t} = F^i_{t+\\delta t}(X', t) + \\textcolor{red}{N^i_{t+\\delta t}[{\\cal I}^i_{t+\\delta t}(N', \\dots)]-N^i_{t}[{\\cal I}^i_{t}(N'', \\dots)]},\n",
    "\\end{align}\n",
    "$$\n",
    "\n",
    "where the stochastic rate ${\\cal I}^i_{t}(N', \\dots)$ now depends on the history of $N'$ explicitly (amongst other potential inputs - see, e.g., [Hawkes processes](https://en.wikipedia.org/wiki/Hawkes_process)) for each of the state dimensions indexed by $i$."
   ]
  },
  {
   "cell_type": "code",
   "execution_count": null,
   "metadata": {},
   "outputs": [],
   "source": []
  },
  {
   "cell_type": "markdown",
   "metadata": {},
   "source": [
    "**Generalised probabilistic discrete state transitions** would take the form\n",
    "\n",
    "$$\n",
    "\\begin{align}\n",
    "& X^i_{t+\\delta t} = \\cancel{F^i_{t+\\delta t}(X', t)} + \\textcolor{red}{T^i_{t+\\delta t}(X')},\n",
    "\\end{align}\n",
    "$$\n",
    "\n",
    "where $T^i_{t+\\delta t}(X')$ is a generator of the next state to occupy. This generator uses the current state transition probabilities (which are generally conditional on $X'$) at each new step."
   ]
  },
  {
   "cell_type": "code",
   "execution_count": null,
   "metadata": {},
   "outputs": [],
   "source": []
  },
  {
   "cell_type": "markdown",
   "metadata": {},
   "source": [
    "**Summary of desirable features**\n",
    "\n",
    "- using the learnings from the previous sections looking at specific example processes\n",
    "- above formalism is so general that it can do anything - so while it shall serve as a useful guide and reference point, it would be good here to go through more of the specific desirable components we want to have access to in the software itself\n",
    "- it might not always be convenient to have the windowed histories stored as S but some other varying quantity which can be used to construct S? take fractional brownian motion as an example of this!\n",
    "- want the timestep to have either exponentially-sampled lengths or fixed lengths in time\n",
    "- formalism already isn't explicit about the choice of deterministic integrator in time\n",
    "- but also want to be able to choose the stochastic integrator in continuous processes (Itô or Stratonovich?)\n",
    "- enable correlated noise terms at the sample generator level"
   ]
  },
  {
   "cell_type": "markdown",
   "metadata": {},
   "source": [
    "**Design choices for the stochadex**"
   ]
  },
  {
   "cell_type": "markdown",
   "metadata": {},
   "source": []
  }
 ],
 "metadata": {
  "celltoolbar": "Tags",
  "kernelspec": {
   "display_name": "Python 3.10.6 ('venv': venv)",
   "language": "python",
   "name": "python3"
  },
  "language_info": {
   "codemirror_mode": {
    "name": "ipython",
    "version": 3
   },
   "file_extension": ".py",
   "mimetype": "text/x-python",
   "name": "python",
   "nbconvert_exporter": "python",
   "pygments_lexer": "ipython3",
   "version": "3.10.6"
  },
  "vscode": {
   "interpreter": {
    "hash": "9b30f953c95ec07fb8b8ad0e6eca76b4aa32174626ca0c995f823cd3fc2eb87e"
   }
  }
 },
 "nbformat": 4,
 "nbformat_minor": 2
}
