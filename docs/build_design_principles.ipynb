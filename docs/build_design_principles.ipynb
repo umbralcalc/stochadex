{
 "cells": [
  {
   "cell_type": "markdown",
   "metadata": {},
   "source": [
    "# Building the stochadex"
   ]
  },
  {
   "cell_type": "markdown",
   "metadata": {},
   "source": [
    "**Mathematical formalism**\n",
    "\n",
    "Ideally, the stochadex sampler should be designed to try and maintain a balance between performance and flexibility of utilisation (it's meant to be a general stochastic modelling tool after all!). But before we dive into the software, we need to define the mathematical approach we're going to take. It seems reasonable to start with writing down the following formula which describes iterating some arbitrary process forward in time (by one finite step) and adding a new row each to some matrices $S' \\rightarrow S$ and $X' \\rightarrow X$\n",
    "\n",
    "$$\n",
    "\\begin{align}\n",
    "& X^i_{t+\\delta t} = F^i_{t+\\delta t}(X', t) + S^i_{t+\\delta t}(X',S',t),\n",
    "\\end{align}\n",
    "$$\n",
    "\n",
    "where to explain things in a bit more detail, let's define\n",
    "\n",
    "- $\\delta t$ as the size of the next timestep\n",
    "- $i$ as an index for the dimensions of the 'state' space\n",
    "- $t$ as the current time which may either correspond to the index for some arbitrary stepping process (where $\\delta t = 1$), or the explicit time variable for a discrete-time process or some discrete approximation to a continuous-time process\n",
    "- $X$ as the next version of $X'$ after one timestep (and hence one new row has been added)\n",
    "- $S$ as the next version of $S'$ (similarly to $X$ and $X'$)\n",
    "- $F^i_{t+\\delta t}(X', t)$ as the latest element of some matrix which very generally can depend on $X'$, $t$ and $\\delta t$\n",
    "- $S^i_{t+\\delta t}(X', S', t)$ as the recorded values of a stochastic process defined over the dimensions of the state space indexed by $i$ which may either vary with continuous sample paths in time or not, and which very generally can depend on $X'$, $S'$, $t$ and $\\delta t$.\n",
    "\n",
    "<img src=\"images/stochadex-formalism-math-diag.png\" alt=\"Drawing\" style=\"width: 700px;\"/>\n",
    "\n",
    "So the idea here is to iterate the matrices $X$ and $S$ forward in time by a row, and use their previous versions ($X'$ and $S'$) as entire matrix inputs into functions which populate the elements of their latest rows. Note that I've avoided using the time variable $t$ and its step size $\\delta t$ (reducing the formalism to that of an arbitrary stepping process) to try and make the diagram above more clear, but, more generally, these values may be present in the calculations of new matrix rows.\n",
    "\n",
    "Why go to all this trouble of storing matrix inputs for previous values of the same process? For a large class of stochastic processes this memory of past values is essential to consistently construct the sample paths moving forward. This is true in particular for _non-Markovian_ phenomena (see, e.g., [Markov chains](https://en.wikipedia.org/wiki/Markov_chain) to get a sense of their antithesis), where the latest values don't just depend on the immediately previous ones but can depend on values which occured much earlier in the process.\n"
   ]
  },
  {
   "cell_type": "code",
   "execution_count": 36,
   "metadata": {
    "tags": []
   },
   "outputs": [
    {
     "data": {
      "text/html": [
       "        <script type=\"text/javascript\">\n",
       "        window.PlotlyConfig = {MathJaxConfig: 'local'};\n",
       "        if (window.MathJax && window.MathJax.Hub && window.MathJax.Hub.Config) {window.MathJax.Hub.Config({SVG: {font: \"STIX-Web\"}});}\n",
       "        if (typeof require !== 'undefined') {\n",
       "        require.undef(\"plotly\");\n",
       "        requirejs.config({\n",
       "            paths: {\n",
       "                'plotly': ['https://cdn.plot.ly/plotly-2.16.1.min']\n",
       "            }\n",
       "        });\n",
       "        require(['plotly'], function(Plotly) {\n",
       "            window._Plotly = Plotly;\n",
       "        });\n",
       "        }\n",
       "        </script>\n",
       "        "
      ]
     },
     "metadata": {},
     "output_type": "display_data"
    }
   ],
   "source": [
    "from typing import Tuple, List, Optional\n",
    "import numpy as np\n",
    "import scipy.special as sps\n",
    "import plotly.graph_objects as go\n",
    "import plotly.offline as po\n",
    "\n",
    "po.init_notebook_mode(connected=True)\n",
    "\n",
    "def get_next_matrix_row(\n",
    "    t: float,\n",
    "    delta_t: float,\n",
    "    X_prime: np.ndarray,\n",
    "    S_prime: np.ndarray,\n",
    "    F: callable,\n",
    "    S: callable,\n",
    "    other_noise_prime: Optional[np.ndarray] = None,\n",
    "    other_noise_iterate: Optional[callable] = None,\n",
    ") -> Tuple[np.ndarray, np.ndarray]:\n",
    "    if other_noise_prime is not None:\n",
    "        other = other_noise_iterate(other_noise_prime)\n",
    "    else:\n",
    "        other = None\n",
    "    s = S(X_prime, S_prime, t, delta_t, other)\n",
    "    x = F(X_prime, t, delta_t) + s\n",
    "    return x, s\n",
    "\n",
    "\n",
    "def generate_x_time_series(\n",
    "    t_period: float,\n",
    "    delta_t: float,\n",
    "    X_init: np.ndarray,\n",
    "    S_init: np.ndarray,\n",
    "    F: callable,\n",
    "    S: callable,\n",
    "    other_noise_init: Optional[np.ndarray] = None,\n",
    "    other_noise_iterate: Optional[callable] = None,\n",
    ") -> List[np.ndarray]:\n",
    "    x_time_series = []\n",
    "    X_current, S_current, other_noise_current = X_init, S_init, other_noise_init\n",
    "    t = 0.0\n",
    "    while t < t_period:\n",
    "        x, s = get_next_matrix_row(\n",
    "            t=t, \n",
    "            delta_t=delta_t, \n",
    "            X_prime=X_current, \n",
    "            S_prime=S_current, \n",
    "            F=F,\n",
    "            S=S,\n",
    "            other_noise_prime=other_noise_current,\n",
    "            other_noise_iterate=other_noise_iterate,\n",
    "        )\n",
    "        x_time_series.append(x)\n",
    "        X_current = np.roll(X_current, 1, axis=0)\n",
    "        S_current = np.roll(S_current, 1, axis=0)\n",
    "        X_current[0] = x\n",
    "        S_current[0] = s\n",
    "        t += delta_t\n",
    "    return x_time_series\n",
    "\n",
    "\n",
    "def plot_x_time_series(\n",
    "    t_period: float,\n",
    "    delta_t: float,\n",
    "    X_init: np.ndarray,\n",
    "    S_init: np.ndarray,\n",
    "    F: callable,\n",
    "    S: callable,\n",
    "    filename: str,\n",
    "    trace_names: List[str],\n",
    "    other_noise_init: Optional[np.ndarray] = None,\n",
    "    other_noise_iterate: Optional[callable] = None,\n",
    "):\n",
    "    x_time_series = generate_x_time_series(\n",
    "        t_period=t_period, \n",
    "        delta_t=delta_t, \n",
    "        X_init=X_init, \n",
    "        S_init=S_init,\n",
    "        F=F, \n",
    "        S=S,\n",
    "        other_noise_init=other_noise_init,\n",
    "        other_noise_iterate=other_noise_iterate,\n",
    "    )\n",
    "    fig = go.Figure()\n",
    "    for i in range(len(x_time_series[0])):\n",
    "        fig.add_trace(\n",
    "            go.Scatter(\n",
    "                x=np.arange(0, t_period, delta_t), \n",
    "                y=np.asarray(x_time_series).T[i],\n",
    "                name=trace_names[i],\n",
    "            )\n",
    "        )\n",
    "    fig.update_layout(showlegend=False)\n",
    "    po.iplot(fig, filename=filename)"
   ]
  },
  {
   "cell_type": "markdown",
   "metadata": {},
   "source": [
    "**Flavours of noise with continuous sample paths**\n",
    "\n",
    "For **Wiener process noise**, adopting the [Itô interpretation](https://en.wikipedia.org/wiki/It%C3%B4_calculus) in this section, we can define $W^i_{t}$ is a sample from a Wiener process for each of the state dimensions indexed by $i$ and our formalism becomes\n",
    "\n",
    "$$\n",
    "\\begin{align}\n",
    "& X^i_{t+\\delta t} = F^i_{t+\\delta t}(X', t) + \\textcolor{red}{W^i_{t+\\delta t}-W^i_{t}}.\n",
    "\\end{align}\n",
    "$$"
   ]
  },
  {
   "cell_type": "code",
   "execution_count": 23,
   "metadata": {
    "tags": []
   },
   "outputs": [
    {
     "data": {
      "application/vnd.plotly.v1+json": {
       "config": {
        "linkText": "Export to plot.ly",
        "plotlyServerURL": "https://plot.ly",
        "showLink": false
       },
       "data": [
        {
         "name": "Ornstein-Uhlenbeck (1.0, 3.0, 0.5)",
         "type": "scatter",
         "x": [
          0,
          0.1,
          0.2,
          0.30000000000000004,
          0.4,
          0.5,
          0.6000000000000001,
          0.7000000000000001,
          0.8,
          0.9,
          1,
          1.1,
          1.2000000000000002,
          1.3,
          1.4000000000000001,
          1.5,
          1.6,
          1.7000000000000002,
          1.8,
          1.9000000000000001,
          2,
          2.1,
          2.2,
          2.3000000000000003,
          2.4000000000000004,
          2.5,
          2.6,
          2.7,
          2.8000000000000003,
          2.9000000000000004,
          3,
          3.1,
          3.2,
          3.3000000000000003,
          3.4000000000000004,
          3.5,
          3.6,
          3.7,
          3.8000000000000003,
          3.9000000000000004,
          4,
          4.1000000000000005,
          4.2,
          4.3,
          4.4,
          4.5,
          4.6000000000000005,
          4.7,
          4.800000000000001,
          4.9,
          5,
          5.1000000000000005,
          5.2,
          5.300000000000001,
          5.4,
          5.5,
          5.6000000000000005,
          5.7,
          5.800000000000001,
          5.9,
          6,
          6.1000000000000005,
          6.2,
          6.300000000000001,
          6.4,
          6.5,
          6.6000000000000005,
          6.7,
          6.800000000000001,
          6.9,
          7,
          7.1000000000000005,
          7.2,
          7.300000000000001,
          7.4,
          7.5,
          7.6000000000000005,
          7.7,
          7.800000000000001,
          7.9,
          8,
          8.1,
          8.200000000000001,
          8.3,
          8.4,
          8.5,
          8.6,
          8.700000000000001,
          8.8,
          8.9,
          9,
          9.1,
          9.200000000000001,
          9.3,
          9.4,
          9.5,
          9.600000000000001,
          9.700000000000001,
          9.8,
          9.9
         ],
         "y": [
          0.3733836166167233,
          0.5935232091483377,
          0.9410010762307247,
          1.0370326209617515,
          1.3033313858658164,
          1.4755267917844395,
          1.804513142904943,
          2.0482553627838462,
          1.8604729674362899,
          2.1991371089071743,
          2.358278250930754,
          2.451381617716684,
          2.4244075938215754,
          2.491659202693451,
          2.880634277777144,
          2.842673644735281,
          2.8920164752192776,
          3.0372749720083903,
          3.01755181710999,
          3.0858706697548506,
          3.254697519549386,
          3.066799815874092,
          3.0566558309896794,
          3.169201907391536,
          2.9686439797822315,
          3.0429541470095045,
          2.935787427355474,
          2.989060388392763,
          2.861090527522908,
          2.965680379320932,
          2.7976574045054536,
          3.0235551417362188,
          2.8221773870176508,
          2.8475745490227995,
          2.793787468771518,
          3.066778885686649,
          3.0939604442172604,
          3.278398780994243,
          3.3892056288891603,
          3.3039229505529395,
          3.187477922954954,
          3.0320998274102595,
          2.7886373593617937,
          2.7359815904719302,
          2.7007335485626607,
          2.952271377567543,
          2.8128168744796884,
          2.779408748341386,
          3.005781187254311,
          2.929814564321616,
          3.0681275450508196,
          3.1581144540910113,
          3.0302532006012535,
          3.28159636246777,
          2.8310451891786195,
          2.6554591277423683,
          3.0604802266512037,
          3.1128065899060804,
          3.002055503741698,
          2.792868047530735,
          3.0020177700797714,
          3.0625163765425363,
          2.949545689436804,
          2.8120355706755027,
          2.8127444089188405,
          2.8733019189951534,
          3.1182165785742266,
          2.8978021695795313,
          3.0074035175732488,
          2.8510879443819817,
          2.835262987552906,
          2.8358229110629205,
          2.9645153354594505,
          3.01506458226112,
          3.185609364005845,
          3.2707641830770258,
          3.562568935073993,
          3.591967200078875,
          3.4271966764712762,
          3.4267350658584426,
          3.4320935599125084,
          3.2198203407736092,
          3.272740820887555,
          3.1764112979564474,
          3.0184205111633315,
          2.937681146604854,
          3.129546207819763,
          3.133419681991782,
          2.9707263930511454,
          2.7481942786594673,
          2.569308278395188,
          2.517811175381911,
          2.4825413470300717,
          2.6328633306452818,
          2.7973762542990093,
          2.6015342333338096,
          2.5714035815957037,
          2.69694605237109,
          2.718213445637399,
          2.6735334577280305,
          2.6296468982149115
         ]
        },
        {
         "name": "Ornstein-Uhlenbeck (2.0, 5.0, 1.0)",
         "type": "scatter",
         "x": [
          0,
          0.1,
          0.2,
          0.30000000000000004,
          0.4,
          0.5,
          0.6000000000000001,
          0.7000000000000001,
          0.8,
          0.9,
          1,
          1.1,
          1.2000000000000002,
          1.3,
          1.4000000000000001,
          1.5,
          1.6,
          1.7000000000000002,
          1.8,
          1.9000000000000001,
          2,
          2.1,
          2.2,
          2.3000000000000003,
          2.4000000000000004,
          2.5,
          2.6,
          2.7,
          2.8000000000000003,
          2.9000000000000004,
          3,
          3.1,
          3.2,
          3.3000000000000003,
          3.4000000000000004,
          3.5,
          3.6,
          3.7,
          3.8000000000000003,
          3.9000000000000004,
          4,
          4.1000000000000005,
          4.2,
          4.3,
          4.4,
          4.5,
          4.6000000000000005,
          4.7,
          4.800000000000001,
          4.9,
          5,
          5.1000000000000005,
          5.2,
          5.300000000000001,
          5.4,
          5.5,
          5.6000000000000005,
          5.7,
          5.800000000000001,
          5.9,
          6,
          6.1000000000000005,
          6.2,
          6.300000000000001,
          6.4,
          6.5,
          6.6000000000000005,
          6.7,
          6.800000000000001,
          6.9,
          7,
          7.1000000000000005,
          7.2,
          7.300000000000001,
          7.4,
          7.5,
          7.6000000000000005,
          7.7,
          7.800000000000001,
          7.9,
          8,
          8.1,
          8.200000000000001,
          8.3,
          8.4,
          8.5,
          8.6,
          8.700000000000001,
          8.8,
          8.9,
          9,
          9.1,
          9.200000000000001,
          9.3,
          9.4,
          9.5,
          9.600000000000001,
          9.700000000000001,
          9.8,
          9.9
         ],
         "y": [
          1.1074401754798235,
          2.1643872322622784,
          2.508906456017551,
          3.1503464709780906,
          3.531964216398372,
          4.0514684995509205,
          3.921176741450011,
          4.1577264373602585,
          4.438034568644132,
          4.308663943202003,
          4.574053759835329,
          5.105683099888536,
          4.839859119607176,
          4.99036784645145,
          5.0481479475890465,
          4.722250176716873,
          5.056536942937964,
          4.863903362269248,
          5.323278315176508,
          5.608831490078619,
          5.4369381582713485,
          5.550545877973166,
          5.234271525577665,
          5.338977761833642,
          5.2418029414802705,
          5.066485741462771,
          4.7749545802686875,
          4.611661461238339,
          4.882871529188918,
          5.125532121803908,
          4.900230443526296,
          4.633801569502601,
          4.58834700363712,
          4.309643920935668,
          4.157056431945894,
          4.3168058880425395,
          5.3133978010013365,
          5.278774052948502,
          5.660849014970169,
          5.708804070769666,
          5.7234748140569405,
          5.6142033968680485,
          5.473343906905131,
          5.040995008619752,
          5.420844305030755,
          5.619036672939907,
          5.879313468275406,
          5.434131054741215,
          5.363485537430634,
          5.291912708569944,
          5.701901120674944,
          5.8293086211077725,
          6.035041335793749,
          5.745973489005871,
          5.2595061385803925,
          5.526396560968226,
          5.585308356132398,
          5.690061087281014,
          5.77466556275749,
          5.335434957069125,
          5.128840045256108,
          4.950593984713762,
          4.537965566059598,
          4.325992353510267,
          4.822939385117546,
          5.215902631834787,
          4.910129482679898,
          5.242830330540238,
          5.182217860443442,
          5.286489280716672,
          5.242806758709936,
          5.447380596080718,
          4.953047930971321,
          4.763032076959924,
          4.295018673779337,
          4.35028776639335,
          4.560432031447583,
          4.812081559435845,
          4.552874437928175,
          4.477315867780505,
          4.617691179265946,
          4.546136095465862,
          4.656541324845296,
          4.334603934343137,
          4.437133524096182,
          4.221092350173309,
          4.816725338130302,
          4.98795760998256,
          5.333677339186571,
          4.913508640597737,
          4.814139890068934,
          4.664549278205783,
          4.990457224135375,
          5.319659336798252,
          5.354596288401824,
          5.239067483497661,
          5.081333383015114,
          4.856279074089941,
          4.151874065124946,
          4.929234619732256,
          4.924637018817523
         ]
        },
        {
         "name": "Ornstein-Uhlenbeck (3.0, 2.0, 0.5)",
         "type": "scatter",
         "x": [
          0,
          0.1,
          0.2,
          0.30000000000000004,
          0.4,
          0.5,
          0.6000000000000001,
          0.7000000000000001,
          0.8,
          0.9,
          1,
          1.1,
          1.2000000000000002,
          1.3,
          1.4000000000000001,
          1.5,
          1.6,
          1.7000000000000002,
          1.8,
          1.9000000000000001,
          2,
          2.1,
          2.2,
          2.3000000000000003,
          2.4000000000000004,
          2.5,
          2.6,
          2.7,
          2.8000000000000003,
          2.9000000000000004,
          3,
          3.1,
          3.2,
          3.3000000000000003,
          3.4000000000000004,
          3.5,
          3.6,
          3.7,
          3.8000000000000003,
          3.9000000000000004,
          4,
          4.1000000000000005,
          4.2,
          4.3,
          4.4,
          4.5,
          4.6000000000000005,
          4.7,
          4.800000000000001,
          4.9,
          5,
          5.1000000000000005,
          5.2,
          5.300000000000001,
          5.4,
          5.5,
          5.6000000000000005,
          5.7,
          5.800000000000001,
          5.9,
          6,
          6.1000000000000005,
          6.2,
          6.300000000000001,
          6.4,
          6.5,
          6.6000000000000005,
          6.7,
          6.800000000000001,
          6.9,
          7,
          7.1000000000000005,
          7.2,
          7.300000000000001,
          7.4,
          7.5,
          7.6000000000000005,
          7.7,
          7.800000000000001,
          7.9,
          8,
          8.1,
          8.200000000000001,
          8.3,
          8.4,
          8.5,
          8.6,
          8.700000000000001,
          8.8,
          8.9,
          9,
          9.1,
          9.200000000000001,
          9.3,
          9.4,
          9.5,
          9.600000000000001,
          9.700000000000001,
          9.8,
          9.9
         ],
         "y": [
          0.5944172918783458,
          1.0880769665280077,
          1.2850218454392832,
          1.3590659918081889,
          1.4263726038279254,
          1.863986156083361,
          2.0834648698483735,
          2.3432257719394265,
          2.092718548709226,
          2.0160988390645573,
          1.9117017913682737,
          2.1101681324847705,
          1.9920413732787277,
          2.2311453237062486,
          1.9875362829264174,
          2.256539562143818,
          2.386261859327332,
          2.369918924006706,
          2.021356919427614,
          1.9764627210974357,
          2.021676635276667,
          2.1467712469725164,
          2.1982057584533843,
          1.965655902222615,
          1.7979718417029076,
          1.9264511146576966,
          2.116888998981174,
          2.3511084905666833,
          2.311753572994567,
          1.9471346418395283,
          1.954786903181152,
          1.9310824290506106,
          1.8556555237086918,
          1.9995665174528547,
          2.053242610256478,
          1.968480427916885,
          1.9650505057796577,
          2.3934216767782797,
          2.2014218046473695,
          2.152866057621494,
          2.294690848853685,
          2.279921333746158,
          2.2764306898457725,
          2.161749733435169,
          1.96767712292907,
          1.9641701985016025,
          1.7885682295212741,
          1.8999503935714663,
          1.6956881335108158,
          1.3954620522290824,
          1.8769050012247703,
          1.9523072874550742,
          1.9070076624853132,
          1.759645516732332,
          1.7779608441634513,
          1.9749423639472101,
          1.7722052280842442,
          1.863089133963687,
          1.7714268607552317,
          1.8331508371158425,
          1.9425061197957463,
          1.839490437251338,
          1.4819222263994283,
          1.7174679970139524,
          2.017102663724062,
          2.0514442079306137,
          2.2096930290339323,
          2.180963319249199,
          2.051454228847572,
          1.7532202581216456,
          2.0161037009248264,
          2.1893262833363085,
          2.0275295584570228,
          2.191166004867417,
          2.135022663855134,
          1.928317307745425,
          1.9624635541938706,
          2.127508323226024,
          1.852465551127948,
          1.8779343618490512,
          1.9180846343768887,
          2.065450540897437,
          1.881984671284769,
          1.8072511357007603,
          2.093893450748776,
          2.431613984025377,
          2.3319014415686694,
          2.0790794780321606,
          2.3830893273596203,
          2.0521210062370074,
          1.9945282258047974,
          1.8283552082021102,
          2.115590369954705,
          1.9642189407555015,
          2.325569728209669,
          2.1255958281224,
          2.299084723453745,
          2.3282053750031606,
          2.160773263390776,
          2.185826846528706,
          2.056045499655356
         ]
        }
       ],
       "layout": {
        "showlegend": false,
        "template": {
         "data": {
          "bar": [
           {
            "error_x": {
             "color": "#2a3f5f"
            },
            "error_y": {
             "color": "#2a3f5f"
            },
            "marker": {
             "line": {
              "color": "#E5ECF6",
              "width": 0.5
             },
             "pattern": {
              "fillmode": "overlay",
              "size": 10,
              "solidity": 0.2
             }
            },
            "type": "bar"
           }
          ],
          "barpolar": [
           {
            "marker": {
             "line": {
              "color": "#E5ECF6",
              "width": 0.5
             },
             "pattern": {
              "fillmode": "overlay",
              "size": 10,
              "solidity": 0.2
             }
            },
            "type": "barpolar"
           }
          ],
          "carpet": [
           {
            "aaxis": {
             "endlinecolor": "#2a3f5f",
             "gridcolor": "white",
             "linecolor": "white",
             "minorgridcolor": "white",
             "startlinecolor": "#2a3f5f"
            },
            "baxis": {
             "endlinecolor": "#2a3f5f",
             "gridcolor": "white",
             "linecolor": "white",
             "minorgridcolor": "white",
             "startlinecolor": "#2a3f5f"
            },
            "type": "carpet"
           }
          ],
          "choropleth": [
           {
            "colorbar": {
             "outlinewidth": 0,
             "ticks": ""
            },
            "type": "choropleth"
           }
          ],
          "contour": [
           {
            "colorbar": {
             "outlinewidth": 0,
             "ticks": ""
            },
            "colorscale": [
             [
              0,
              "#0d0887"
             ],
             [
              0.1111111111111111,
              "#46039f"
             ],
             [
              0.2222222222222222,
              "#7201a8"
             ],
             [
              0.3333333333333333,
              "#9c179e"
             ],
             [
              0.4444444444444444,
              "#bd3786"
             ],
             [
              0.5555555555555556,
              "#d8576b"
             ],
             [
              0.6666666666666666,
              "#ed7953"
             ],
             [
              0.7777777777777778,
              "#fb9f3a"
             ],
             [
              0.8888888888888888,
              "#fdca26"
             ],
             [
              1,
              "#f0f921"
             ]
            ],
            "type": "contour"
           }
          ],
          "contourcarpet": [
           {
            "colorbar": {
             "outlinewidth": 0,
             "ticks": ""
            },
            "type": "contourcarpet"
           }
          ],
          "heatmap": [
           {
            "colorbar": {
             "outlinewidth": 0,
             "ticks": ""
            },
            "colorscale": [
             [
              0,
              "#0d0887"
             ],
             [
              0.1111111111111111,
              "#46039f"
             ],
             [
              0.2222222222222222,
              "#7201a8"
             ],
             [
              0.3333333333333333,
              "#9c179e"
             ],
             [
              0.4444444444444444,
              "#bd3786"
             ],
             [
              0.5555555555555556,
              "#d8576b"
             ],
             [
              0.6666666666666666,
              "#ed7953"
             ],
             [
              0.7777777777777778,
              "#fb9f3a"
             ],
             [
              0.8888888888888888,
              "#fdca26"
             ],
             [
              1,
              "#f0f921"
             ]
            ],
            "type": "heatmap"
           }
          ],
          "heatmapgl": [
           {
            "colorbar": {
             "outlinewidth": 0,
             "ticks": ""
            },
            "colorscale": [
             [
              0,
              "#0d0887"
             ],
             [
              0.1111111111111111,
              "#46039f"
             ],
             [
              0.2222222222222222,
              "#7201a8"
             ],
             [
              0.3333333333333333,
              "#9c179e"
             ],
             [
              0.4444444444444444,
              "#bd3786"
             ],
             [
              0.5555555555555556,
              "#d8576b"
             ],
             [
              0.6666666666666666,
              "#ed7953"
             ],
             [
              0.7777777777777778,
              "#fb9f3a"
             ],
             [
              0.8888888888888888,
              "#fdca26"
             ],
             [
              1,
              "#f0f921"
             ]
            ],
            "type": "heatmapgl"
           }
          ],
          "histogram": [
           {
            "marker": {
             "pattern": {
              "fillmode": "overlay",
              "size": 10,
              "solidity": 0.2
             }
            },
            "type": "histogram"
           }
          ],
          "histogram2d": [
           {
            "colorbar": {
             "outlinewidth": 0,
             "ticks": ""
            },
            "colorscale": [
             [
              0,
              "#0d0887"
             ],
             [
              0.1111111111111111,
              "#46039f"
             ],
             [
              0.2222222222222222,
              "#7201a8"
             ],
             [
              0.3333333333333333,
              "#9c179e"
             ],
             [
              0.4444444444444444,
              "#bd3786"
             ],
             [
              0.5555555555555556,
              "#d8576b"
             ],
             [
              0.6666666666666666,
              "#ed7953"
             ],
             [
              0.7777777777777778,
              "#fb9f3a"
             ],
             [
              0.8888888888888888,
              "#fdca26"
             ],
             [
              1,
              "#f0f921"
             ]
            ],
            "type": "histogram2d"
           }
          ],
          "histogram2dcontour": [
           {
            "colorbar": {
             "outlinewidth": 0,
             "ticks": ""
            },
            "colorscale": [
             [
              0,
              "#0d0887"
             ],
             [
              0.1111111111111111,
              "#46039f"
             ],
             [
              0.2222222222222222,
              "#7201a8"
             ],
             [
              0.3333333333333333,
              "#9c179e"
             ],
             [
              0.4444444444444444,
              "#bd3786"
             ],
             [
              0.5555555555555556,
              "#d8576b"
             ],
             [
              0.6666666666666666,
              "#ed7953"
             ],
             [
              0.7777777777777778,
              "#fb9f3a"
             ],
             [
              0.8888888888888888,
              "#fdca26"
             ],
             [
              1,
              "#f0f921"
             ]
            ],
            "type": "histogram2dcontour"
           }
          ],
          "mesh3d": [
           {
            "colorbar": {
             "outlinewidth": 0,
             "ticks": ""
            },
            "type": "mesh3d"
           }
          ],
          "parcoords": [
           {
            "line": {
             "colorbar": {
              "outlinewidth": 0,
              "ticks": ""
             }
            },
            "type": "parcoords"
           }
          ],
          "pie": [
           {
            "automargin": true,
            "type": "pie"
           }
          ],
          "scatter": [
           {
            "fillpattern": {
             "fillmode": "overlay",
             "size": 10,
             "solidity": 0.2
            },
            "type": "scatter"
           }
          ],
          "scatter3d": [
           {
            "line": {
             "colorbar": {
              "outlinewidth": 0,
              "ticks": ""
             }
            },
            "marker": {
             "colorbar": {
              "outlinewidth": 0,
              "ticks": ""
             }
            },
            "type": "scatter3d"
           }
          ],
          "scattercarpet": [
           {
            "marker": {
             "colorbar": {
              "outlinewidth": 0,
              "ticks": ""
             }
            },
            "type": "scattercarpet"
           }
          ],
          "scattergeo": [
           {
            "marker": {
             "colorbar": {
              "outlinewidth": 0,
              "ticks": ""
             }
            },
            "type": "scattergeo"
           }
          ],
          "scattergl": [
           {
            "marker": {
             "colorbar": {
              "outlinewidth": 0,
              "ticks": ""
             }
            },
            "type": "scattergl"
           }
          ],
          "scattermapbox": [
           {
            "marker": {
             "colorbar": {
              "outlinewidth": 0,
              "ticks": ""
             }
            },
            "type": "scattermapbox"
           }
          ],
          "scatterpolar": [
           {
            "marker": {
             "colorbar": {
              "outlinewidth": 0,
              "ticks": ""
             }
            },
            "type": "scatterpolar"
           }
          ],
          "scatterpolargl": [
           {
            "marker": {
             "colorbar": {
              "outlinewidth": 0,
              "ticks": ""
             }
            },
            "type": "scatterpolargl"
           }
          ],
          "scatterternary": [
           {
            "marker": {
             "colorbar": {
              "outlinewidth": 0,
              "ticks": ""
             }
            },
            "type": "scatterternary"
           }
          ],
          "surface": [
           {
            "colorbar": {
             "outlinewidth": 0,
             "ticks": ""
            },
            "colorscale": [
             [
              0,
              "#0d0887"
             ],
             [
              0.1111111111111111,
              "#46039f"
             ],
             [
              0.2222222222222222,
              "#7201a8"
             ],
             [
              0.3333333333333333,
              "#9c179e"
             ],
             [
              0.4444444444444444,
              "#bd3786"
             ],
             [
              0.5555555555555556,
              "#d8576b"
             ],
             [
              0.6666666666666666,
              "#ed7953"
             ],
             [
              0.7777777777777778,
              "#fb9f3a"
             ],
             [
              0.8888888888888888,
              "#fdca26"
             ],
             [
              1,
              "#f0f921"
             ]
            ],
            "type": "surface"
           }
          ],
          "table": [
           {
            "cells": {
             "fill": {
              "color": "#EBF0F8"
             },
             "line": {
              "color": "white"
             }
            },
            "header": {
             "fill": {
              "color": "#C8D4E3"
             },
             "line": {
              "color": "white"
             }
            },
            "type": "table"
           }
          ]
         },
         "layout": {
          "annotationdefaults": {
           "arrowcolor": "#2a3f5f",
           "arrowhead": 0,
           "arrowwidth": 1
          },
          "autotypenumbers": "strict",
          "coloraxis": {
           "colorbar": {
            "outlinewidth": 0,
            "ticks": ""
           }
          },
          "colorscale": {
           "diverging": [
            [
             0,
             "#8e0152"
            ],
            [
             0.1,
             "#c51b7d"
            ],
            [
             0.2,
             "#de77ae"
            ],
            [
             0.3,
             "#f1b6da"
            ],
            [
             0.4,
             "#fde0ef"
            ],
            [
             0.5,
             "#f7f7f7"
            ],
            [
             0.6,
             "#e6f5d0"
            ],
            [
             0.7,
             "#b8e186"
            ],
            [
             0.8,
             "#7fbc41"
            ],
            [
             0.9,
             "#4d9221"
            ],
            [
             1,
             "#276419"
            ]
           ],
           "sequential": [
            [
             0,
             "#0d0887"
            ],
            [
             0.1111111111111111,
             "#46039f"
            ],
            [
             0.2222222222222222,
             "#7201a8"
            ],
            [
             0.3333333333333333,
             "#9c179e"
            ],
            [
             0.4444444444444444,
             "#bd3786"
            ],
            [
             0.5555555555555556,
             "#d8576b"
            ],
            [
             0.6666666666666666,
             "#ed7953"
            ],
            [
             0.7777777777777778,
             "#fb9f3a"
            ],
            [
             0.8888888888888888,
             "#fdca26"
            ],
            [
             1,
             "#f0f921"
            ]
           ],
           "sequentialminus": [
            [
             0,
             "#0d0887"
            ],
            [
             0.1111111111111111,
             "#46039f"
            ],
            [
             0.2222222222222222,
             "#7201a8"
            ],
            [
             0.3333333333333333,
             "#9c179e"
            ],
            [
             0.4444444444444444,
             "#bd3786"
            ],
            [
             0.5555555555555556,
             "#d8576b"
            ],
            [
             0.6666666666666666,
             "#ed7953"
            ],
            [
             0.7777777777777778,
             "#fb9f3a"
            ],
            [
             0.8888888888888888,
             "#fdca26"
            ],
            [
             1,
             "#f0f921"
            ]
           ]
          },
          "colorway": [
           "#636efa",
           "#EF553B",
           "#00cc96",
           "#ab63fa",
           "#FFA15A",
           "#19d3f3",
           "#FF6692",
           "#B6E880",
           "#FF97FF",
           "#FECB52"
          ],
          "font": {
           "color": "#2a3f5f"
          },
          "geo": {
           "bgcolor": "white",
           "lakecolor": "white",
           "landcolor": "#E5ECF6",
           "showlakes": true,
           "showland": true,
           "subunitcolor": "white"
          },
          "hoverlabel": {
           "align": "left"
          },
          "hovermode": "closest",
          "mapbox": {
           "style": "light"
          },
          "paper_bgcolor": "white",
          "plot_bgcolor": "#E5ECF6",
          "polar": {
           "angularaxis": {
            "gridcolor": "white",
            "linecolor": "white",
            "ticks": ""
           },
           "bgcolor": "#E5ECF6",
           "radialaxis": {
            "gridcolor": "white",
            "linecolor": "white",
            "ticks": ""
           }
          },
          "scene": {
           "xaxis": {
            "backgroundcolor": "#E5ECF6",
            "gridcolor": "white",
            "gridwidth": 2,
            "linecolor": "white",
            "showbackground": true,
            "ticks": "",
            "zerolinecolor": "white"
           },
           "yaxis": {
            "backgroundcolor": "#E5ECF6",
            "gridcolor": "white",
            "gridwidth": 2,
            "linecolor": "white",
            "showbackground": true,
            "ticks": "",
            "zerolinecolor": "white"
           },
           "zaxis": {
            "backgroundcolor": "#E5ECF6",
            "gridcolor": "white",
            "gridwidth": 2,
            "linecolor": "white",
            "showbackground": true,
            "ticks": "",
            "zerolinecolor": "white"
           }
          },
          "shapedefaults": {
           "line": {
            "color": "#2a3f5f"
           }
          },
          "ternary": {
           "aaxis": {
            "gridcolor": "white",
            "linecolor": "white",
            "ticks": ""
           },
           "baxis": {
            "gridcolor": "white",
            "linecolor": "white",
            "ticks": ""
           },
           "bgcolor": "#E5ECF6",
           "caxis": {
            "gridcolor": "white",
            "linecolor": "white",
            "ticks": ""
           }
          },
          "title": {
           "x": 0.05
          },
          "xaxis": {
           "automargin": true,
           "gridcolor": "white",
           "linecolor": "white",
           "ticks": "",
           "title": {
            "standoff": 15
           },
           "zerolinecolor": "white",
           "zerolinewidth": 2
          },
          "yaxis": {
           "automargin": true,
           "gridcolor": "white",
           "linecolor": "white",
           "ticks": "",
           "title": {
            "standoff": 15
           },
           "zerolinecolor": "white",
           "zerolinewidth": 2
          }
         }
        }
       }
      },
      "text/html": [
       "<div>                            <div id=\"dbd6ff4a-3e58-46f1-99a1-5aac103d0705\" class=\"plotly-graph-div\" style=\"height:525px; width:100%;\"></div>            <script type=\"text/javascript\">                require([\"plotly\"], function(Plotly) {                    window.PLOTLYENV=window.PLOTLYENV || {};                                    if (document.getElementById(\"dbd6ff4a-3e58-46f1-99a1-5aac103d0705\")) {                    Plotly.newPlot(                        \"dbd6ff4a-3e58-46f1-99a1-5aac103d0705\",                        [{\"name\":\"Ornstein-Uhlenbeck (1.0, 3.0, 0.5)\",\"x\":[0.0,0.1,0.2,0.30000000000000004,0.4,0.5,0.6000000000000001,0.7000000000000001,0.8,0.9,1.0,1.1,1.2000000000000002,1.3,1.4000000000000001,1.5,1.6,1.7000000000000002,1.8,1.9000000000000001,2.0,2.1,2.2,2.3000000000000003,2.4000000000000004,2.5,2.6,2.7,2.8000000000000003,2.9000000000000004,3.0,3.1,3.2,3.3000000000000003,3.4000000000000004,3.5,3.6,3.7,3.8000000000000003,3.9000000000000004,4.0,4.1000000000000005,4.2,4.3,4.4,4.5,4.6000000000000005,4.7,4.800000000000001,4.9,5.0,5.1000000000000005,5.2,5.300000000000001,5.4,5.5,5.6000000000000005,5.7,5.800000000000001,5.9,6.0,6.1000000000000005,6.2,6.300000000000001,6.4,6.5,6.6000000000000005,6.7,6.800000000000001,6.9,7.0,7.1000000000000005,7.2,7.300000000000001,7.4,7.5,7.6000000000000005,7.7,7.800000000000001,7.9,8.0,8.1,8.200000000000001,8.3,8.4,8.5,8.6,8.700000000000001,8.8,8.9,9.0,9.1,9.200000000000001,9.3,9.4,9.5,9.600000000000001,9.700000000000001,9.8,9.9],\"y\":[0.3733836166167233,0.5935232091483377,0.9410010762307247,1.0370326209617515,1.3033313858658164,1.4755267917844395,1.804513142904943,2.0482553627838462,1.8604729674362899,2.1991371089071743,2.358278250930754,2.451381617716684,2.4244075938215754,2.491659202693451,2.880634277777144,2.842673644735281,2.8920164752192776,3.0372749720083903,3.01755181710999,3.0858706697548506,3.254697519549386,3.066799815874092,3.0566558309896794,3.169201907391536,2.9686439797822315,3.0429541470095045,2.935787427355474,2.989060388392763,2.861090527522908,2.965680379320932,2.7976574045054536,3.0235551417362188,2.8221773870176508,2.8475745490227995,2.793787468771518,3.066778885686649,3.0939604442172604,3.278398780994243,3.3892056288891603,3.3039229505529395,3.187477922954954,3.0320998274102595,2.7886373593617937,2.7359815904719302,2.7007335485626607,2.952271377567543,2.8128168744796884,2.779408748341386,3.005781187254311,2.929814564321616,3.0681275450508196,3.1581144540910113,3.0302532006012535,3.28159636246777,2.8310451891786195,2.6554591277423683,3.0604802266512037,3.1128065899060804,3.002055503741698,2.792868047530735,3.0020177700797714,3.0625163765425363,2.949545689436804,2.8120355706755027,2.8127444089188405,2.8733019189951534,3.1182165785742266,2.8978021695795313,3.0074035175732488,2.8510879443819817,2.835262987552906,2.8358229110629205,2.9645153354594505,3.01506458226112,3.185609364005845,3.2707641830770258,3.562568935073993,3.591967200078875,3.4271966764712762,3.4267350658584426,3.4320935599125084,3.2198203407736092,3.272740820887555,3.1764112979564474,3.0184205111633315,2.937681146604854,3.129546207819763,3.133419681991782,2.9707263930511454,2.7481942786594673,2.569308278395188,2.517811175381911,2.4825413470300717,2.6328633306452818,2.7973762542990093,2.6015342333338096,2.5714035815957037,2.69694605237109,2.718213445637399,2.6735334577280305,2.6296468982149115],\"type\":\"scatter\"},{\"name\":\"Ornstein-Uhlenbeck (2.0, 5.0, 1.0)\",\"x\":[0.0,0.1,0.2,0.30000000000000004,0.4,0.5,0.6000000000000001,0.7000000000000001,0.8,0.9,1.0,1.1,1.2000000000000002,1.3,1.4000000000000001,1.5,1.6,1.7000000000000002,1.8,1.9000000000000001,2.0,2.1,2.2,2.3000000000000003,2.4000000000000004,2.5,2.6,2.7,2.8000000000000003,2.9000000000000004,3.0,3.1,3.2,3.3000000000000003,3.4000000000000004,3.5,3.6,3.7,3.8000000000000003,3.9000000000000004,4.0,4.1000000000000005,4.2,4.3,4.4,4.5,4.6000000000000005,4.7,4.800000000000001,4.9,5.0,5.1000000000000005,5.2,5.300000000000001,5.4,5.5,5.6000000000000005,5.7,5.800000000000001,5.9,6.0,6.1000000000000005,6.2,6.300000000000001,6.4,6.5,6.6000000000000005,6.7,6.800000000000001,6.9,7.0,7.1000000000000005,7.2,7.300000000000001,7.4,7.5,7.6000000000000005,7.7,7.800000000000001,7.9,8.0,8.1,8.200000000000001,8.3,8.4,8.5,8.6,8.700000000000001,8.8,8.9,9.0,9.1,9.200000000000001,9.3,9.4,9.5,9.600000000000001,9.700000000000001,9.8,9.9],\"y\":[1.1074401754798235,2.1643872322622784,2.508906456017551,3.1503464709780906,3.531964216398372,4.0514684995509205,3.921176741450011,4.1577264373602585,4.438034568644132,4.308663943202003,4.574053759835329,5.105683099888536,4.839859119607176,4.99036784645145,5.0481479475890465,4.722250176716873,5.056536942937964,4.863903362269248,5.323278315176508,5.608831490078619,5.4369381582713485,5.550545877973166,5.234271525577665,5.338977761833642,5.2418029414802705,5.066485741462771,4.7749545802686875,4.611661461238339,4.882871529188918,5.125532121803908,4.900230443526296,4.633801569502601,4.58834700363712,4.309643920935668,4.157056431945894,4.3168058880425395,5.3133978010013365,5.278774052948502,5.660849014970169,5.708804070769666,5.7234748140569405,5.6142033968680485,5.473343906905131,5.040995008619752,5.420844305030755,5.619036672939907,5.879313468275406,5.434131054741215,5.363485537430634,5.291912708569944,5.701901120674944,5.8293086211077725,6.035041335793749,5.745973489005871,5.2595061385803925,5.526396560968226,5.585308356132398,5.690061087281014,5.77466556275749,5.335434957069125,5.128840045256108,4.950593984713762,4.537965566059598,4.325992353510267,4.822939385117546,5.215902631834787,4.910129482679898,5.242830330540238,5.182217860443442,5.286489280716672,5.242806758709936,5.447380596080718,4.953047930971321,4.763032076959924,4.295018673779337,4.35028776639335,4.560432031447583,4.812081559435845,4.552874437928175,4.477315867780505,4.617691179265946,4.546136095465862,4.656541324845296,4.334603934343137,4.437133524096182,4.221092350173309,4.816725338130302,4.98795760998256,5.333677339186571,4.913508640597737,4.814139890068934,4.664549278205783,4.990457224135375,5.319659336798252,5.354596288401824,5.239067483497661,5.081333383015114,4.856279074089941,4.151874065124946,4.929234619732256,4.924637018817523],\"type\":\"scatter\"},{\"name\":\"Ornstein-Uhlenbeck (3.0, 2.0, 0.5)\",\"x\":[0.0,0.1,0.2,0.30000000000000004,0.4,0.5,0.6000000000000001,0.7000000000000001,0.8,0.9,1.0,1.1,1.2000000000000002,1.3,1.4000000000000001,1.5,1.6,1.7000000000000002,1.8,1.9000000000000001,2.0,2.1,2.2,2.3000000000000003,2.4000000000000004,2.5,2.6,2.7,2.8000000000000003,2.9000000000000004,3.0,3.1,3.2,3.3000000000000003,3.4000000000000004,3.5,3.6,3.7,3.8000000000000003,3.9000000000000004,4.0,4.1000000000000005,4.2,4.3,4.4,4.5,4.6000000000000005,4.7,4.800000000000001,4.9,5.0,5.1000000000000005,5.2,5.300000000000001,5.4,5.5,5.6000000000000005,5.7,5.800000000000001,5.9,6.0,6.1000000000000005,6.2,6.300000000000001,6.4,6.5,6.6000000000000005,6.7,6.800000000000001,6.9,7.0,7.1000000000000005,7.2,7.300000000000001,7.4,7.5,7.6000000000000005,7.7,7.800000000000001,7.9,8.0,8.1,8.200000000000001,8.3,8.4,8.5,8.6,8.700000000000001,8.8,8.9,9.0,9.1,9.200000000000001,9.3,9.4,9.5,9.600000000000001,9.700000000000001,9.8,9.9],\"y\":[0.5944172918783458,1.0880769665280077,1.2850218454392832,1.3590659918081889,1.4263726038279254,1.863986156083361,2.0834648698483735,2.3432257719394265,2.092718548709226,2.0160988390645573,1.9117017913682737,2.1101681324847705,1.9920413732787277,2.2311453237062486,1.9875362829264174,2.256539562143818,2.386261859327332,2.369918924006706,2.021356919427614,1.9764627210974357,2.021676635276667,2.1467712469725164,2.1982057584533843,1.965655902222615,1.7979718417029076,1.9264511146576966,2.116888998981174,2.3511084905666833,2.311753572994567,1.9471346418395283,1.954786903181152,1.9310824290506106,1.8556555237086918,1.9995665174528547,2.053242610256478,1.968480427916885,1.9650505057796577,2.3934216767782797,2.2014218046473695,2.152866057621494,2.294690848853685,2.279921333746158,2.2764306898457725,2.161749733435169,1.96767712292907,1.9641701985016025,1.7885682295212741,1.8999503935714663,1.6956881335108158,1.3954620522290824,1.8769050012247703,1.9523072874550742,1.9070076624853132,1.759645516732332,1.7779608441634513,1.9749423639472101,1.7722052280842442,1.863089133963687,1.7714268607552317,1.8331508371158425,1.9425061197957463,1.839490437251338,1.4819222263994283,1.7174679970139524,2.017102663724062,2.0514442079306137,2.2096930290339323,2.180963319249199,2.051454228847572,1.7532202581216456,2.0161037009248264,2.1893262833363085,2.0275295584570228,2.191166004867417,2.135022663855134,1.928317307745425,1.9624635541938706,2.127508323226024,1.852465551127948,1.8779343618490512,1.9180846343768887,2.065450540897437,1.881984671284769,1.8072511357007603,2.093893450748776,2.431613984025377,2.3319014415686694,2.0790794780321606,2.3830893273596203,2.0521210062370074,1.9945282258047974,1.8283552082021102,2.115590369954705,1.9642189407555015,2.325569728209669,2.1255958281224,2.299084723453745,2.3282053750031606,2.160773263390776,2.185826846528706,2.056045499655356],\"type\":\"scatter\"}],                        {\"showlegend\":false,\"template\":{\"data\":{\"barpolar\":[{\"marker\":{\"line\":{\"color\":\"#E5ECF6\",\"width\":0.5},\"pattern\":{\"fillmode\":\"overlay\",\"size\":10,\"solidity\":0.2}},\"type\":\"barpolar\"}],\"bar\":[{\"error_x\":{\"color\":\"#2a3f5f\"},\"error_y\":{\"color\":\"#2a3f5f\"},\"marker\":{\"line\":{\"color\":\"#E5ECF6\",\"width\":0.5},\"pattern\":{\"fillmode\":\"overlay\",\"size\":10,\"solidity\":0.2}},\"type\":\"bar\"}],\"carpet\":[{\"aaxis\":{\"endlinecolor\":\"#2a3f5f\",\"gridcolor\":\"white\",\"linecolor\":\"white\",\"minorgridcolor\":\"white\",\"startlinecolor\":\"#2a3f5f\"},\"baxis\":{\"endlinecolor\":\"#2a3f5f\",\"gridcolor\":\"white\",\"linecolor\":\"white\",\"minorgridcolor\":\"white\",\"startlinecolor\":\"#2a3f5f\"},\"type\":\"carpet\"}],\"choropleth\":[{\"colorbar\":{\"outlinewidth\":0,\"ticks\":\"\"},\"type\":\"choropleth\"}],\"contourcarpet\":[{\"colorbar\":{\"outlinewidth\":0,\"ticks\":\"\"},\"type\":\"contourcarpet\"}],\"contour\":[{\"colorbar\":{\"outlinewidth\":0,\"ticks\":\"\"},\"colorscale\":[[0.0,\"#0d0887\"],[0.1111111111111111,\"#46039f\"],[0.2222222222222222,\"#7201a8\"],[0.3333333333333333,\"#9c179e\"],[0.4444444444444444,\"#bd3786\"],[0.5555555555555556,\"#d8576b\"],[0.6666666666666666,\"#ed7953\"],[0.7777777777777778,\"#fb9f3a\"],[0.8888888888888888,\"#fdca26\"],[1.0,\"#f0f921\"]],\"type\":\"contour\"}],\"heatmapgl\":[{\"colorbar\":{\"outlinewidth\":0,\"ticks\":\"\"},\"colorscale\":[[0.0,\"#0d0887\"],[0.1111111111111111,\"#46039f\"],[0.2222222222222222,\"#7201a8\"],[0.3333333333333333,\"#9c179e\"],[0.4444444444444444,\"#bd3786\"],[0.5555555555555556,\"#d8576b\"],[0.6666666666666666,\"#ed7953\"],[0.7777777777777778,\"#fb9f3a\"],[0.8888888888888888,\"#fdca26\"],[1.0,\"#f0f921\"]],\"type\":\"heatmapgl\"}],\"heatmap\":[{\"colorbar\":{\"outlinewidth\":0,\"ticks\":\"\"},\"colorscale\":[[0.0,\"#0d0887\"],[0.1111111111111111,\"#46039f\"],[0.2222222222222222,\"#7201a8\"],[0.3333333333333333,\"#9c179e\"],[0.4444444444444444,\"#bd3786\"],[0.5555555555555556,\"#d8576b\"],[0.6666666666666666,\"#ed7953\"],[0.7777777777777778,\"#fb9f3a\"],[0.8888888888888888,\"#fdca26\"],[1.0,\"#f0f921\"]],\"type\":\"heatmap\"}],\"histogram2dcontour\":[{\"colorbar\":{\"outlinewidth\":0,\"ticks\":\"\"},\"colorscale\":[[0.0,\"#0d0887\"],[0.1111111111111111,\"#46039f\"],[0.2222222222222222,\"#7201a8\"],[0.3333333333333333,\"#9c179e\"],[0.4444444444444444,\"#bd3786\"],[0.5555555555555556,\"#d8576b\"],[0.6666666666666666,\"#ed7953\"],[0.7777777777777778,\"#fb9f3a\"],[0.8888888888888888,\"#fdca26\"],[1.0,\"#f0f921\"]],\"type\":\"histogram2dcontour\"}],\"histogram2d\":[{\"colorbar\":{\"outlinewidth\":0,\"ticks\":\"\"},\"colorscale\":[[0.0,\"#0d0887\"],[0.1111111111111111,\"#46039f\"],[0.2222222222222222,\"#7201a8\"],[0.3333333333333333,\"#9c179e\"],[0.4444444444444444,\"#bd3786\"],[0.5555555555555556,\"#d8576b\"],[0.6666666666666666,\"#ed7953\"],[0.7777777777777778,\"#fb9f3a\"],[0.8888888888888888,\"#fdca26\"],[1.0,\"#f0f921\"]],\"type\":\"histogram2d\"}],\"histogram\":[{\"marker\":{\"pattern\":{\"fillmode\":\"overlay\",\"size\":10,\"solidity\":0.2}},\"type\":\"histogram\"}],\"mesh3d\":[{\"colorbar\":{\"outlinewidth\":0,\"ticks\":\"\"},\"type\":\"mesh3d\"}],\"parcoords\":[{\"line\":{\"colorbar\":{\"outlinewidth\":0,\"ticks\":\"\"}},\"type\":\"parcoords\"}],\"pie\":[{\"automargin\":true,\"type\":\"pie\"}],\"scatter3d\":[{\"line\":{\"colorbar\":{\"outlinewidth\":0,\"ticks\":\"\"}},\"marker\":{\"colorbar\":{\"outlinewidth\":0,\"ticks\":\"\"}},\"type\":\"scatter3d\"}],\"scattercarpet\":[{\"marker\":{\"colorbar\":{\"outlinewidth\":0,\"ticks\":\"\"}},\"type\":\"scattercarpet\"}],\"scattergeo\":[{\"marker\":{\"colorbar\":{\"outlinewidth\":0,\"ticks\":\"\"}},\"type\":\"scattergeo\"}],\"scattergl\":[{\"marker\":{\"colorbar\":{\"outlinewidth\":0,\"ticks\":\"\"}},\"type\":\"scattergl\"}],\"scattermapbox\":[{\"marker\":{\"colorbar\":{\"outlinewidth\":0,\"ticks\":\"\"}},\"type\":\"scattermapbox\"}],\"scatterpolargl\":[{\"marker\":{\"colorbar\":{\"outlinewidth\":0,\"ticks\":\"\"}},\"type\":\"scatterpolargl\"}],\"scatterpolar\":[{\"marker\":{\"colorbar\":{\"outlinewidth\":0,\"ticks\":\"\"}},\"type\":\"scatterpolar\"}],\"scatter\":[{\"fillpattern\":{\"fillmode\":\"overlay\",\"size\":10,\"solidity\":0.2},\"type\":\"scatter\"}],\"scatterternary\":[{\"marker\":{\"colorbar\":{\"outlinewidth\":0,\"ticks\":\"\"}},\"type\":\"scatterternary\"}],\"surface\":[{\"colorbar\":{\"outlinewidth\":0,\"ticks\":\"\"},\"colorscale\":[[0.0,\"#0d0887\"],[0.1111111111111111,\"#46039f\"],[0.2222222222222222,\"#7201a8\"],[0.3333333333333333,\"#9c179e\"],[0.4444444444444444,\"#bd3786\"],[0.5555555555555556,\"#d8576b\"],[0.6666666666666666,\"#ed7953\"],[0.7777777777777778,\"#fb9f3a\"],[0.8888888888888888,\"#fdca26\"],[1.0,\"#f0f921\"]],\"type\":\"surface\"}],\"table\":[{\"cells\":{\"fill\":{\"color\":\"#EBF0F8\"},\"line\":{\"color\":\"white\"}},\"header\":{\"fill\":{\"color\":\"#C8D4E3\"},\"line\":{\"color\":\"white\"}},\"type\":\"table\"}]},\"layout\":{\"annotationdefaults\":{\"arrowcolor\":\"#2a3f5f\",\"arrowhead\":0,\"arrowwidth\":1},\"autotypenumbers\":\"strict\",\"coloraxis\":{\"colorbar\":{\"outlinewidth\":0,\"ticks\":\"\"}},\"colorscale\":{\"diverging\":[[0,\"#8e0152\"],[0.1,\"#c51b7d\"],[0.2,\"#de77ae\"],[0.3,\"#f1b6da\"],[0.4,\"#fde0ef\"],[0.5,\"#f7f7f7\"],[0.6,\"#e6f5d0\"],[0.7,\"#b8e186\"],[0.8,\"#7fbc41\"],[0.9,\"#4d9221\"],[1,\"#276419\"]],\"sequential\":[[0.0,\"#0d0887\"],[0.1111111111111111,\"#46039f\"],[0.2222222222222222,\"#7201a8\"],[0.3333333333333333,\"#9c179e\"],[0.4444444444444444,\"#bd3786\"],[0.5555555555555556,\"#d8576b\"],[0.6666666666666666,\"#ed7953\"],[0.7777777777777778,\"#fb9f3a\"],[0.8888888888888888,\"#fdca26\"],[1.0,\"#f0f921\"]],\"sequentialminus\":[[0.0,\"#0d0887\"],[0.1111111111111111,\"#46039f\"],[0.2222222222222222,\"#7201a8\"],[0.3333333333333333,\"#9c179e\"],[0.4444444444444444,\"#bd3786\"],[0.5555555555555556,\"#d8576b\"],[0.6666666666666666,\"#ed7953\"],[0.7777777777777778,\"#fb9f3a\"],[0.8888888888888888,\"#fdca26\"],[1.0,\"#f0f921\"]]},\"colorway\":[\"#636efa\",\"#EF553B\",\"#00cc96\",\"#ab63fa\",\"#FFA15A\",\"#19d3f3\",\"#FF6692\",\"#B6E880\",\"#FF97FF\",\"#FECB52\"],\"font\":{\"color\":\"#2a3f5f\"},\"geo\":{\"bgcolor\":\"white\",\"lakecolor\":\"white\",\"landcolor\":\"#E5ECF6\",\"showlakes\":true,\"showland\":true,\"subunitcolor\":\"white\"},\"hoverlabel\":{\"align\":\"left\"},\"hovermode\":\"closest\",\"mapbox\":{\"style\":\"light\"},\"paper_bgcolor\":\"white\",\"plot_bgcolor\":\"#E5ECF6\",\"polar\":{\"angularaxis\":{\"gridcolor\":\"white\",\"linecolor\":\"white\",\"ticks\":\"\"},\"bgcolor\":\"#E5ECF6\",\"radialaxis\":{\"gridcolor\":\"white\",\"linecolor\":\"white\",\"ticks\":\"\"}},\"scene\":{\"xaxis\":{\"backgroundcolor\":\"#E5ECF6\",\"gridcolor\":\"white\",\"gridwidth\":2,\"linecolor\":\"white\",\"showbackground\":true,\"ticks\":\"\",\"zerolinecolor\":\"white\"},\"yaxis\":{\"backgroundcolor\":\"#E5ECF6\",\"gridcolor\":\"white\",\"gridwidth\":2,\"linecolor\":\"white\",\"showbackground\":true,\"ticks\":\"\",\"zerolinecolor\":\"white\"},\"zaxis\":{\"backgroundcolor\":\"#E5ECF6\",\"gridcolor\":\"white\",\"gridwidth\":2,\"linecolor\":\"white\",\"showbackground\":true,\"ticks\":\"\",\"zerolinecolor\":\"white\"}},\"shapedefaults\":{\"line\":{\"color\":\"#2a3f5f\"}},\"ternary\":{\"aaxis\":{\"gridcolor\":\"white\",\"linecolor\":\"white\",\"ticks\":\"\"},\"baxis\":{\"gridcolor\":\"white\",\"linecolor\":\"white\",\"ticks\":\"\"},\"bgcolor\":\"#E5ECF6\",\"caxis\":{\"gridcolor\":\"white\",\"linecolor\":\"white\",\"ticks\":\"\"}},\"title\":{\"x\":0.05},\"xaxis\":{\"automargin\":true,\"gridcolor\":\"white\",\"linecolor\":\"white\",\"ticks\":\"\",\"title\":{\"standoff\":15},\"zerolinecolor\":\"white\",\"zerolinewidth\":2},\"yaxis\":{\"automargin\":true,\"gridcolor\":\"white\",\"linecolor\":\"white\",\"ticks\":\"\",\"title\":{\"standoff\":15},\"zerolinecolor\":\"white\",\"zerolinewidth\":2}}}},                        {\"responsive\": true}                    ).then(function(){\n",
       "                            \n",
       "var gd = document.getElementById('dbd6ff4a-3e58-46f1-99a1-5aac103d0705');\n",
       "var x = new MutationObserver(function (mutations, observer) {{\n",
       "        var display = window.getComputedStyle(gd).display;\n",
       "        if (!display || display === 'none') {{\n",
       "            console.log([gd, 'removed!']);\n",
       "            Plotly.purge(gd);\n",
       "            observer.disconnect();\n",
       "        }}\n",
       "}});\n",
       "\n",
       "// Listen for the removal of the full notebook cells\n",
       "var notebookContainer = gd.closest('#notebook-container');\n",
       "if (notebookContainer) {{\n",
       "    x.observe(notebookContainer, {childList: true});\n",
       "}}\n",
       "\n",
       "// Listen for the clearing of the current output cell\n",
       "var outputEl = gd.closest('.output');\n",
       "if (outputEl) {{\n",
       "    x.observe(outputEl, {childList: true});\n",
       "}}\n",
       "\n",
       "                        })                };                });            </script>        </div>"
      ]
     },
     "metadata": {},
     "output_type": "display_data"
    }
   ],
   "source": [
    "plot_x_time_series(\n",
    "    10.0,\n",
    "    0.1,\n",
    "    np.zeros((2, 3)),\n",
    "    np.zeros((2, 3)), \n",
    "    lambda X_prime, t, delta_t: (\n",
    "        X_prime[0] - delta_t * np.asarray([1.0, 2.0, 3.0]) * (\n",
    "            X_prime[0] - np.asarray([3.0, 5.0, 2.0])\n",
    "        )\n",
    "    ),\n",
    "    lambda X_prime, S_prime, t, delta_t, other: (\n",
    "        np.sqrt(delta_t) * np.random.normal(\n",
    "            np.zeros(3),\n",
    "            np.asarray([0.5, 1.0, 0.5]), \n",
    "            size=3,\n",
    "        )\n",
    "    ), \n",
    "    \"images/wiener_noise.html\",\n",
    "    [\n",
    "        \"Ornstein-Uhlenbeck (1.0, 3.0, 0.5)\",\n",
    "        \"Ornstein-Uhlenbeck (2.0, 5.0, 1.0)\",\n",
    "        \"Ornstein-Uhlenbeck (3.0, 2.0, 0.5)\",\n",
    "    ]\n",
    ")"
   ]
  },
  {
   "cell_type": "markdown",
   "metadata": {},
   "source": [
    "Other interpretations of the noise are less immediately compatible with our formalism as it is currently written, e.g., [Stratonovich](https://en.wikipedia.org/wiki/Stratonovich_integral) or others within the $\\alpha$-family, but it seems less necessary to complicate the details of this section further, so we'll just cover these extensions at the software implementation level. Note also that we may also allow for correlations between the noises in different dimensions. \n",
    "\n",
    "For **Geometric Brownian motion noise**, we simply have\n",
    "\n",
    "$$\n",
    "\\begin{align}\n",
    "& X^i_{t+\\delta t} = F^i_{t+\\delta t}(X', t) + \\textcolor{red}{X^i_{t}(W^i_{t+\\delta t}-W^i_{t})}.\n",
    "\\end{align}\n",
    "$$"
   ]
  },
  {
   "cell_type": "code",
   "execution_count": 25,
   "metadata": {
    "tags": []
   },
   "outputs": [
    {
     "data": {
      "application/vnd.plotly.v1+json": {
       "config": {
        "linkText": "Export to plot.ly",
        "plotlyServerURL": "https://plot.ly",
        "showLink": false
       },
       "data": [
        {
         "name": "GBM with drift (1.0, 3.0, 0.5)",
         "type": "scatter",
         "x": [
          0,
          0.1,
          0.2,
          0.30000000000000004,
          0.4,
          0.5,
          0.6000000000000001,
          0.7000000000000001,
          0.8,
          0.9,
          1,
          1.1,
          1.2000000000000002,
          1.3,
          1.4000000000000001,
          1.5,
          1.6,
          1.7000000000000002,
          1.8,
          1.9000000000000001,
          2,
          2.1,
          2.2,
          2.3000000000000003,
          2.4000000000000004,
          2.5,
          2.6,
          2.7,
          2.8000000000000003,
          2.9000000000000004,
          3,
          3.1,
          3.2,
          3.3000000000000003,
          3.4000000000000004,
          3.5,
          3.6,
          3.7,
          3.8000000000000003,
          3.9000000000000004,
          4,
          4.1000000000000005,
          4.2,
          4.3,
          4.4,
          4.5,
          4.6000000000000005,
          4.7,
          4.800000000000001,
          4.9,
          5,
          5.1000000000000005,
          5.2,
          5.300000000000001,
          5.4,
          5.5,
          5.6000000000000005,
          5.7,
          5.800000000000001,
          5.9,
          6,
          6.1000000000000005,
          6.2,
          6.300000000000001,
          6.4,
          6.5,
          6.6000000000000005,
          6.7,
          6.800000000000001,
          6.9,
          7,
          7.1000000000000005,
          7.2,
          7.300000000000001,
          7.4,
          7.5,
          7.6000000000000005,
          7.7,
          7.800000000000001,
          7.9,
          8,
          8.1,
          8.200000000000001,
          8.3,
          8.4,
          8.5,
          8.6,
          8.700000000000001,
          8.8,
          8.9,
          9,
          9.1,
          9.200000000000001,
          9.3,
          9.4,
          9.5,
          9.600000000000001,
          9.700000000000001,
          9.8,
          9.9
         ],
         "y": [
          0.30000000000000004,
          0.5671818205702597,
          0.7239010076675042,
          0.8978536855944526,
          1.0343643845515735,
          1.4892083073034272,
          1.6105526752452353,
          1.8976083633690695,
          1.6906444855854539,
          1.56976149011381,
          1.804555824331193,
          1.9547918106463842,
          1.9340355682994614,
          2.337503598727096,
          2.5192814047848877,
          2.74519720580249,
          2.6062529508603127,
          2.9191049988121893,
          2.964698410299796,
          3.4539333776408885,
          4.045273104309936,
          3.5137896575940015,
          5.019633096949467,
          5.345826967605803,
          6.082277698787108,
          4.129720413547046,
          5.092371789459977,
          5.404581964211142,
          5.516437679787484,
          4.810406938389547,
          4.477313494458782,
          3.5927112545499527,
          4.0817580650429,
          4.049833767752294,
          4.103791020977602,
          2.369404581567522,
          3.038203912499458,
          3.015595999845079,
          3.229263456592134,
          3.330354279787071,
          3.670493606804195,
          3.6696053814072336,
          4.342983491227516,
          3.1270586113362375,
          2.448226967758959,
          2.2356700391948463,
          2.5369075686477682,
          2.761843958020386,
          3.2719209878494846,
          2.770292647801228,
          2.99600960332089,
          2.6559538148017614,
          2.4984820899372955,
          2.2347724899454064,
          2.1837415309336166,
          2.11038424667047,
          2.350351406953259,
          1.1848271335668827,
          1.4742543798443135,
          1.8520840299786256,
          2.087750142089157,
          1.7312753825646268,
          1.8642072219087873,
          1.6263093865806248,
          2.0750399220920546,
          1.6644277094541864,
          1.5090079169414798,
          1.7215103101150597,
          1.8520210727801079,
          1.8829532054899474,
          2.203172296854633,
          2.365327085456715,
          2.8680568443443755,
          2.9741206032026835,
          3.2317669692822335,
          2.435135589675172,
          2.875673658748366,
          2.5159696596104637,
          1.6107676002103197,
          1.8780054404541349,
          2.5109815248346363,
          2.7034326045724164,
          2.703590998477645,
          3.8269705384186485,
          3.7606786601720437,
          3.730375395828959,
          3.449855524073733,
          3.7943069659473947,
          4.710544207709312,
          3.9215108258755897,
          2.65356427332562,
          2.887215529091729,
          2.808898954832412,
          2.7497608813813708,
          3.1220946042719917,
          3.8071439671098224,
          3.57273080468935,
          3.271374750522752,
          2.72838864637505,
          3.50893482649745,
          4.352820758741311
         ]
        },
        {
         "name": "GBM with drift (2.0, 5.0, 1.0)",
         "type": "scatter",
         "x": [
          0,
          0.1,
          0.2,
          0.30000000000000004,
          0.4,
          0.5,
          0.6000000000000001,
          0.7000000000000001,
          0.8,
          0.9,
          1,
          1.1,
          1.2000000000000002,
          1.3,
          1.4000000000000001,
          1.5,
          1.6,
          1.7000000000000002,
          1.8,
          1.9000000000000001,
          2,
          2.1,
          2.2,
          2.3000000000000003,
          2.4000000000000004,
          2.5,
          2.6,
          2.7,
          2.8000000000000003,
          2.9000000000000004,
          3,
          3.1,
          3.2,
          3.3000000000000003,
          3.4000000000000004,
          3.5,
          3.6,
          3.7,
          3.8000000000000003,
          3.9000000000000004,
          4,
          4.1000000000000005,
          4.2,
          4.3,
          4.4,
          4.5,
          4.6000000000000005,
          4.7,
          4.800000000000001,
          4.9,
          5,
          5.1000000000000005,
          5.2,
          5.300000000000001,
          5.4,
          5.5,
          5.6000000000000005,
          5.7,
          5.800000000000001,
          5.9,
          6,
          6.1000000000000005,
          6.2,
          6.300000000000001,
          6.4,
          6.5,
          6.6000000000000005,
          6.7,
          6.800000000000001,
          6.9,
          7,
          7.1000000000000005,
          7.2,
          7.300000000000001,
          7.4,
          7.5,
          7.6000000000000005,
          7.7,
          7.800000000000001,
          7.9,
          8,
          8.1,
          8.200000000000001,
          8.3,
          8.4,
          8.5,
          8.6,
          8.700000000000001,
          8.8,
          8.9,
          9,
          9.1,
          9.200000000000001,
          9.3,
          9.4,
          9.5,
          9.600000000000001,
          9.700000000000001,
          9.8,
          9.9
         ],
         "y": [
          1,
          1.7698301311487965,
          3.8461146309218854,
          3.2073067023086335,
          2.838235644297427,
          4.491006105383811,
          8.279232946694101,
          9.732559771779172,
          9.425006182540507,
          5.1134318753695025,
          4.817267550958791,
          5.109258119913232,
          4.127533429445379,
          3.669885384529684,
          3.07649888062448,
          3.415233873777036,
          1.2405176410624859,
          2.541027499811189,
          3.26111194536422,
          2.6419865203068458,
          3.974101556746485,
          4.539266163443043,
          2.7624024297425187,
          3.4672137763455733,
          2.959183323395989,
          3.0819895674692175,
          3.9363447841723542,
          6.762697501518554,
          5.110818500809356,
          5.3678817556924106,
          4.557884945285018,
          3.6526181469707857,
          2.8768957986716646,
          4.742724757992107,
          3.9792601174155773,
          2.960156581677784,
          3.13319801322296,
          3.22703224787642,
          4.86429584749211,
          2.8620260218193923,
          3.185365580958684,
          3.053652685193521,
          5.277851196145007,
          3.1011680447854517,
          1.4808436972333627,
          1.9683585918070872,
          1.6942312036647929,
          2.116249087590187,
          2.5832242633389138,
          2.170347333488249,
          3.34228873849202,
          2.9830225405261475,
          4.046719528604905,
          3.9616545224375272,
          6.098387794165681,
          7.195319733947212,
          7.75980028685349,
          4.730072398027408,
          5.699748610115818,
          3.441077166621099,
          1.6165612600491879,
          2.2500288403731594,
          2.6291510368088664,
          4.593862982945221,
          5.519804711510848,
          5.349045759235536,
          6.639881969191922,
          7.103673398606045,
          2.6210010052080834,
          4.043052758580185,
          3.599925986669732,
          3.908390383422371,
          4.8003823472743745,
          5.252085363969854,
          4.719236261420825,
          3.257422880262077,
          5.622231828154012,
          3.1936499682395674,
          3.932622976247617,
          4.061989363934814,
          4.067684732296859,
          2.1710776997143975,
          3.7305288790321876,
          1.8989766106040884,
          3.0371260701967135,
          4.0975893535956525,
          4.074806099331089,
          4.76835336414832,
          2.8684639732766577,
          5.362997889352891,
          10.529201350320445,
          4.399410554161186,
          4.187310966231639,
          6.326385666997444,
          5.4582461673845994,
          6.808236599347901,
          6.932213008826788,
          5.368368331188201,
          6.457086067470054,
          4.774276080605293,
          5.961906920142368
         ]
        },
        {
         "name": "GBM with drift (3.0, 2.0, 0.5)",
         "type": "scatter",
         "x": [
          0,
          0.1,
          0.2,
          0.30000000000000004,
          0.4,
          0.5,
          0.6000000000000001,
          0.7000000000000001,
          0.8,
          0.9,
          1,
          1.1,
          1.2000000000000002,
          1.3,
          1.4000000000000001,
          1.5,
          1.6,
          1.7000000000000002,
          1.8,
          1.9000000000000001,
          2,
          2.1,
          2.2,
          2.3000000000000003,
          2.4000000000000004,
          2.5,
          2.6,
          2.7,
          2.8000000000000003,
          2.9000000000000004,
          3,
          3.1,
          3.2,
          3.3000000000000003,
          3.4000000000000004,
          3.5,
          3.6,
          3.7,
          3.8000000000000003,
          3.9000000000000004,
          4,
          4.1000000000000005,
          4.2,
          4.3,
          4.4,
          4.5,
          4.6000000000000005,
          4.7,
          4.800000000000001,
          4.9,
          5,
          5.1000000000000005,
          5.2,
          5.300000000000001,
          5.4,
          5.5,
          5.6000000000000005,
          5.7,
          5.800000000000001,
          5.9,
          6,
          6.1000000000000005,
          6.2,
          6.300000000000001,
          6.4,
          6.5,
          6.6000000000000005,
          6.7,
          6.800000000000001,
          6.9,
          7,
          7.1000000000000005,
          7.2,
          7.300000000000001,
          7.4,
          7.5,
          7.6000000000000005,
          7.7,
          7.800000000000001,
          7.9,
          8,
          8.1,
          8.200000000000001,
          8.3,
          8.4,
          8.5,
          8.6,
          8.700000000000001,
          8.8,
          8.9,
          9,
          9.1,
          9.200000000000001,
          9.3,
          9.4,
          9.5,
          9.600000000000001,
          9.700000000000001,
          9.8,
          9.9
         ],
         "y": [
          0.6000000000000001,
          0.9359436585114254,
          1.2479226587162564,
          1.4276416337520932,
          1.8843833883712193,
          1.5417238482621491,
          1.8498806693326926,
          1.976327686434796,
          1.7356719457377359,
          1.8839849901662493,
          1.9978248312887892,
          1.242404751022928,
          1.35470104738358,
          1.4627096566365976,
          1.6812709783464304,
          1.5058584699004816,
          1.7431356662213071,
          1.884646098964735,
          1.8267582198638308,
          1.456518478637687,
          1.6357244029865963,
          2.0404008684636046,
          1.899465046348308,
          1.6633348445201592,
          1.7372031003447688,
          2.0024272809789014,
          1.8911216279503247,
          1.9062348862312364,
          1.5339502650870618,
          1.746424367358601,
          1.667784461778554,
          1.7140787155116899,
          1.6377656845267687,
          1.944979895774111,
          1.9664207334763546,
          2.150020785270676,
          2.654232242273157,
          2.671244833990611,
          1.718244245054594,
          1.8500369052226528,
          1.451964770852957,
          1.1415110340615064,
          1.3831950289318886,
          1.2748618698105374,
          1.9193962246003236,
          1.8104512569936484,
          1.4098387952814935,
          1.7140446898225168,
          1.662876460138379,
          2.100772322253337,
          2.0477479946305386,
          2.348366325170943,
          2.800948564220346,
          2.3372043985321906,
          2.168501743765756,
          2.1955184885643426,
          2.2330505861800796,
          2.411823035570562,
          2.415594031187288,
          2.303527160350047,
          2.5780652823340753,
          2.779372315946045,
          2.987211976513318,
          2.4127948598073377,
          1.746741274745798,
          1.820714658947169,
          1.5828750667066105,
          1.6008924187819937,
          1.6597837851324158,
          1.869117099451903,
          2.091865684064054,
          2.1345305402365677,
          2.068285607280282,
          1.5377286402322814,
          1.9307816563097193,
          1.6596521750950535,
          2.0657184167983886,
          1.6284272104900483,
          1.5863450775075678,
          1.7364575741015023,
          1.763327751125827,
          1.921106954585253,
          1.9234079194970266,
          1.814245149379214,
          1.7969992505427743,
          2.029789091536319,
          1.985398060859163,
          1.538553859437986,
          1.5692829258469576,
          1.3993238609864969,
          1.6589363032166087,
          1.8203978972297976,
          1.2082877659780555,
          1.534099855178887,
          1.6973557544793387,
          1.9518098828370198,
          1.6184437853254017,
          1.681398994198783,
          2.1522320735835603,
          2.0233817209122478,
          1.7119699195494165
         ]
        }
       ],
       "layout": {
        "showlegend": false,
        "template": {
         "data": {
          "bar": [
           {
            "error_x": {
             "color": "#2a3f5f"
            },
            "error_y": {
             "color": "#2a3f5f"
            },
            "marker": {
             "line": {
              "color": "#E5ECF6",
              "width": 0.5
             },
             "pattern": {
              "fillmode": "overlay",
              "size": 10,
              "solidity": 0.2
             }
            },
            "type": "bar"
           }
          ],
          "barpolar": [
           {
            "marker": {
             "line": {
              "color": "#E5ECF6",
              "width": 0.5
             },
             "pattern": {
              "fillmode": "overlay",
              "size": 10,
              "solidity": 0.2
             }
            },
            "type": "barpolar"
           }
          ],
          "carpet": [
           {
            "aaxis": {
             "endlinecolor": "#2a3f5f",
             "gridcolor": "white",
             "linecolor": "white",
             "minorgridcolor": "white",
             "startlinecolor": "#2a3f5f"
            },
            "baxis": {
             "endlinecolor": "#2a3f5f",
             "gridcolor": "white",
             "linecolor": "white",
             "minorgridcolor": "white",
             "startlinecolor": "#2a3f5f"
            },
            "type": "carpet"
           }
          ],
          "choropleth": [
           {
            "colorbar": {
             "outlinewidth": 0,
             "ticks": ""
            },
            "type": "choropleth"
           }
          ],
          "contour": [
           {
            "colorbar": {
             "outlinewidth": 0,
             "ticks": ""
            },
            "colorscale": [
             [
              0,
              "#0d0887"
             ],
             [
              0.1111111111111111,
              "#46039f"
             ],
             [
              0.2222222222222222,
              "#7201a8"
             ],
             [
              0.3333333333333333,
              "#9c179e"
             ],
             [
              0.4444444444444444,
              "#bd3786"
             ],
             [
              0.5555555555555556,
              "#d8576b"
             ],
             [
              0.6666666666666666,
              "#ed7953"
             ],
             [
              0.7777777777777778,
              "#fb9f3a"
             ],
             [
              0.8888888888888888,
              "#fdca26"
             ],
             [
              1,
              "#f0f921"
             ]
            ],
            "type": "contour"
           }
          ],
          "contourcarpet": [
           {
            "colorbar": {
             "outlinewidth": 0,
             "ticks": ""
            },
            "type": "contourcarpet"
           }
          ],
          "heatmap": [
           {
            "colorbar": {
             "outlinewidth": 0,
             "ticks": ""
            },
            "colorscale": [
             [
              0,
              "#0d0887"
             ],
             [
              0.1111111111111111,
              "#46039f"
             ],
             [
              0.2222222222222222,
              "#7201a8"
             ],
             [
              0.3333333333333333,
              "#9c179e"
             ],
             [
              0.4444444444444444,
              "#bd3786"
             ],
             [
              0.5555555555555556,
              "#d8576b"
             ],
             [
              0.6666666666666666,
              "#ed7953"
             ],
             [
              0.7777777777777778,
              "#fb9f3a"
             ],
             [
              0.8888888888888888,
              "#fdca26"
             ],
             [
              1,
              "#f0f921"
             ]
            ],
            "type": "heatmap"
           }
          ],
          "heatmapgl": [
           {
            "colorbar": {
             "outlinewidth": 0,
             "ticks": ""
            },
            "colorscale": [
             [
              0,
              "#0d0887"
             ],
             [
              0.1111111111111111,
              "#46039f"
             ],
             [
              0.2222222222222222,
              "#7201a8"
             ],
             [
              0.3333333333333333,
              "#9c179e"
             ],
             [
              0.4444444444444444,
              "#bd3786"
             ],
             [
              0.5555555555555556,
              "#d8576b"
             ],
             [
              0.6666666666666666,
              "#ed7953"
             ],
             [
              0.7777777777777778,
              "#fb9f3a"
             ],
             [
              0.8888888888888888,
              "#fdca26"
             ],
             [
              1,
              "#f0f921"
             ]
            ],
            "type": "heatmapgl"
           }
          ],
          "histogram": [
           {
            "marker": {
             "pattern": {
              "fillmode": "overlay",
              "size": 10,
              "solidity": 0.2
             }
            },
            "type": "histogram"
           }
          ],
          "histogram2d": [
           {
            "colorbar": {
             "outlinewidth": 0,
             "ticks": ""
            },
            "colorscale": [
             [
              0,
              "#0d0887"
             ],
             [
              0.1111111111111111,
              "#46039f"
             ],
             [
              0.2222222222222222,
              "#7201a8"
             ],
             [
              0.3333333333333333,
              "#9c179e"
             ],
             [
              0.4444444444444444,
              "#bd3786"
             ],
             [
              0.5555555555555556,
              "#d8576b"
             ],
             [
              0.6666666666666666,
              "#ed7953"
             ],
             [
              0.7777777777777778,
              "#fb9f3a"
             ],
             [
              0.8888888888888888,
              "#fdca26"
             ],
             [
              1,
              "#f0f921"
             ]
            ],
            "type": "histogram2d"
           }
          ],
          "histogram2dcontour": [
           {
            "colorbar": {
             "outlinewidth": 0,
             "ticks": ""
            },
            "colorscale": [
             [
              0,
              "#0d0887"
             ],
             [
              0.1111111111111111,
              "#46039f"
             ],
             [
              0.2222222222222222,
              "#7201a8"
             ],
             [
              0.3333333333333333,
              "#9c179e"
             ],
             [
              0.4444444444444444,
              "#bd3786"
             ],
             [
              0.5555555555555556,
              "#d8576b"
             ],
             [
              0.6666666666666666,
              "#ed7953"
             ],
             [
              0.7777777777777778,
              "#fb9f3a"
             ],
             [
              0.8888888888888888,
              "#fdca26"
             ],
             [
              1,
              "#f0f921"
             ]
            ],
            "type": "histogram2dcontour"
           }
          ],
          "mesh3d": [
           {
            "colorbar": {
             "outlinewidth": 0,
             "ticks": ""
            },
            "type": "mesh3d"
           }
          ],
          "parcoords": [
           {
            "line": {
             "colorbar": {
              "outlinewidth": 0,
              "ticks": ""
             }
            },
            "type": "parcoords"
           }
          ],
          "pie": [
           {
            "automargin": true,
            "type": "pie"
           }
          ],
          "scatter": [
           {
            "fillpattern": {
             "fillmode": "overlay",
             "size": 10,
             "solidity": 0.2
            },
            "type": "scatter"
           }
          ],
          "scatter3d": [
           {
            "line": {
             "colorbar": {
              "outlinewidth": 0,
              "ticks": ""
             }
            },
            "marker": {
             "colorbar": {
              "outlinewidth": 0,
              "ticks": ""
             }
            },
            "type": "scatter3d"
           }
          ],
          "scattercarpet": [
           {
            "marker": {
             "colorbar": {
              "outlinewidth": 0,
              "ticks": ""
             }
            },
            "type": "scattercarpet"
           }
          ],
          "scattergeo": [
           {
            "marker": {
             "colorbar": {
              "outlinewidth": 0,
              "ticks": ""
             }
            },
            "type": "scattergeo"
           }
          ],
          "scattergl": [
           {
            "marker": {
             "colorbar": {
              "outlinewidth": 0,
              "ticks": ""
             }
            },
            "type": "scattergl"
           }
          ],
          "scattermapbox": [
           {
            "marker": {
             "colorbar": {
              "outlinewidth": 0,
              "ticks": ""
             }
            },
            "type": "scattermapbox"
           }
          ],
          "scatterpolar": [
           {
            "marker": {
             "colorbar": {
              "outlinewidth": 0,
              "ticks": ""
             }
            },
            "type": "scatterpolar"
           }
          ],
          "scatterpolargl": [
           {
            "marker": {
             "colorbar": {
              "outlinewidth": 0,
              "ticks": ""
             }
            },
            "type": "scatterpolargl"
           }
          ],
          "scatterternary": [
           {
            "marker": {
             "colorbar": {
              "outlinewidth": 0,
              "ticks": ""
             }
            },
            "type": "scatterternary"
           }
          ],
          "surface": [
           {
            "colorbar": {
             "outlinewidth": 0,
             "ticks": ""
            },
            "colorscale": [
             [
              0,
              "#0d0887"
             ],
             [
              0.1111111111111111,
              "#46039f"
             ],
             [
              0.2222222222222222,
              "#7201a8"
             ],
             [
              0.3333333333333333,
              "#9c179e"
             ],
             [
              0.4444444444444444,
              "#bd3786"
             ],
             [
              0.5555555555555556,
              "#d8576b"
             ],
             [
              0.6666666666666666,
              "#ed7953"
             ],
             [
              0.7777777777777778,
              "#fb9f3a"
             ],
             [
              0.8888888888888888,
              "#fdca26"
             ],
             [
              1,
              "#f0f921"
             ]
            ],
            "type": "surface"
           }
          ],
          "table": [
           {
            "cells": {
             "fill": {
              "color": "#EBF0F8"
             },
             "line": {
              "color": "white"
             }
            },
            "header": {
             "fill": {
              "color": "#C8D4E3"
             },
             "line": {
              "color": "white"
             }
            },
            "type": "table"
           }
          ]
         },
         "layout": {
          "annotationdefaults": {
           "arrowcolor": "#2a3f5f",
           "arrowhead": 0,
           "arrowwidth": 1
          },
          "autotypenumbers": "strict",
          "coloraxis": {
           "colorbar": {
            "outlinewidth": 0,
            "ticks": ""
           }
          },
          "colorscale": {
           "diverging": [
            [
             0,
             "#8e0152"
            ],
            [
             0.1,
             "#c51b7d"
            ],
            [
             0.2,
             "#de77ae"
            ],
            [
             0.3,
             "#f1b6da"
            ],
            [
             0.4,
             "#fde0ef"
            ],
            [
             0.5,
             "#f7f7f7"
            ],
            [
             0.6,
             "#e6f5d0"
            ],
            [
             0.7,
             "#b8e186"
            ],
            [
             0.8,
             "#7fbc41"
            ],
            [
             0.9,
             "#4d9221"
            ],
            [
             1,
             "#276419"
            ]
           ],
           "sequential": [
            [
             0,
             "#0d0887"
            ],
            [
             0.1111111111111111,
             "#46039f"
            ],
            [
             0.2222222222222222,
             "#7201a8"
            ],
            [
             0.3333333333333333,
             "#9c179e"
            ],
            [
             0.4444444444444444,
             "#bd3786"
            ],
            [
             0.5555555555555556,
             "#d8576b"
            ],
            [
             0.6666666666666666,
             "#ed7953"
            ],
            [
             0.7777777777777778,
             "#fb9f3a"
            ],
            [
             0.8888888888888888,
             "#fdca26"
            ],
            [
             1,
             "#f0f921"
            ]
           ],
           "sequentialminus": [
            [
             0,
             "#0d0887"
            ],
            [
             0.1111111111111111,
             "#46039f"
            ],
            [
             0.2222222222222222,
             "#7201a8"
            ],
            [
             0.3333333333333333,
             "#9c179e"
            ],
            [
             0.4444444444444444,
             "#bd3786"
            ],
            [
             0.5555555555555556,
             "#d8576b"
            ],
            [
             0.6666666666666666,
             "#ed7953"
            ],
            [
             0.7777777777777778,
             "#fb9f3a"
            ],
            [
             0.8888888888888888,
             "#fdca26"
            ],
            [
             1,
             "#f0f921"
            ]
           ]
          },
          "colorway": [
           "#636efa",
           "#EF553B",
           "#00cc96",
           "#ab63fa",
           "#FFA15A",
           "#19d3f3",
           "#FF6692",
           "#B6E880",
           "#FF97FF",
           "#FECB52"
          ],
          "font": {
           "color": "#2a3f5f"
          },
          "geo": {
           "bgcolor": "white",
           "lakecolor": "white",
           "landcolor": "#E5ECF6",
           "showlakes": true,
           "showland": true,
           "subunitcolor": "white"
          },
          "hoverlabel": {
           "align": "left"
          },
          "hovermode": "closest",
          "mapbox": {
           "style": "light"
          },
          "paper_bgcolor": "white",
          "plot_bgcolor": "#E5ECF6",
          "polar": {
           "angularaxis": {
            "gridcolor": "white",
            "linecolor": "white",
            "ticks": ""
           },
           "bgcolor": "#E5ECF6",
           "radialaxis": {
            "gridcolor": "white",
            "linecolor": "white",
            "ticks": ""
           }
          },
          "scene": {
           "xaxis": {
            "backgroundcolor": "#E5ECF6",
            "gridcolor": "white",
            "gridwidth": 2,
            "linecolor": "white",
            "showbackground": true,
            "ticks": "",
            "zerolinecolor": "white"
           },
           "yaxis": {
            "backgroundcolor": "#E5ECF6",
            "gridcolor": "white",
            "gridwidth": 2,
            "linecolor": "white",
            "showbackground": true,
            "ticks": "",
            "zerolinecolor": "white"
           },
           "zaxis": {
            "backgroundcolor": "#E5ECF6",
            "gridcolor": "white",
            "gridwidth": 2,
            "linecolor": "white",
            "showbackground": true,
            "ticks": "",
            "zerolinecolor": "white"
           }
          },
          "shapedefaults": {
           "line": {
            "color": "#2a3f5f"
           }
          },
          "ternary": {
           "aaxis": {
            "gridcolor": "white",
            "linecolor": "white",
            "ticks": ""
           },
           "baxis": {
            "gridcolor": "white",
            "linecolor": "white",
            "ticks": ""
           },
           "bgcolor": "#E5ECF6",
           "caxis": {
            "gridcolor": "white",
            "linecolor": "white",
            "ticks": ""
           }
          },
          "title": {
           "x": 0.05
          },
          "xaxis": {
           "automargin": true,
           "gridcolor": "white",
           "linecolor": "white",
           "ticks": "",
           "title": {
            "standoff": 15
           },
           "zerolinecolor": "white",
           "zerolinewidth": 2
          },
          "yaxis": {
           "automargin": true,
           "gridcolor": "white",
           "linecolor": "white",
           "ticks": "",
           "title": {
            "standoff": 15
           },
           "zerolinecolor": "white",
           "zerolinewidth": 2
          }
         }
        }
       }
      },
      "text/html": [
       "<div>                            <div id=\"1869e625-79df-401f-853b-92ffe400dd2e\" class=\"plotly-graph-div\" style=\"height:525px; width:100%;\"></div>            <script type=\"text/javascript\">                require([\"plotly\"], function(Plotly) {                    window.PLOTLYENV=window.PLOTLYENV || {};                                    if (document.getElementById(\"1869e625-79df-401f-853b-92ffe400dd2e\")) {                    Plotly.newPlot(                        \"1869e625-79df-401f-853b-92ffe400dd2e\",                        [{\"name\":\"GBM with drift (1.0, 3.0, 0.5)\",\"x\":[0.0,0.1,0.2,0.30000000000000004,0.4,0.5,0.6000000000000001,0.7000000000000001,0.8,0.9,1.0,1.1,1.2000000000000002,1.3,1.4000000000000001,1.5,1.6,1.7000000000000002,1.8,1.9000000000000001,2.0,2.1,2.2,2.3000000000000003,2.4000000000000004,2.5,2.6,2.7,2.8000000000000003,2.9000000000000004,3.0,3.1,3.2,3.3000000000000003,3.4000000000000004,3.5,3.6,3.7,3.8000000000000003,3.9000000000000004,4.0,4.1000000000000005,4.2,4.3,4.4,4.5,4.6000000000000005,4.7,4.800000000000001,4.9,5.0,5.1000000000000005,5.2,5.300000000000001,5.4,5.5,5.6000000000000005,5.7,5.800000000000001,5.9,6.0,6.1000000000000005,6.2,6.300000000000001,6.4,6.5,6.6000000000000005,6.7,6.800000000000001,6.9,7.0,7.1000000000000005,7.2,7.300000000000001,7.4,7.5,7.6000000000000005,7.7,7.800000000000001,7.9,8.0,8.1,8.200000000000001,8.3,8.4,8.5,8.6,8.700000000000001,8.8,8.9,9.0,9.1,9.200000000000001,9.3,9.4,9.5,9.600000000000001,9.700000000000001,9.8,9.9],\"y\":[0.30000000000000004,0.5671818205702597,0.7239010076675042,0.8978536855944526,1.0343643845515735,1.4892083073034272,1.6105526752452353,1.8976083633690695,1.6906444855854539,1.56976149011381,1.804555824331193,1.9547918106463842,1.9340355682994614,2.337503598727096,2.5192814047848877,2.74519720580249,2.6062529508603127,2.9191049988121893,2.964698410299796,3.4539333776408885,4.045273104309936,3.5137896575940015,5.019633096949467,5.345826967605803,6.082277698787108,4.129720413547046,5.092371789459977,5.404581964211142,5.516437679787484,4.810406938389547,4.477313494458782,3.5927112545499527,4.0817580650429,4.049833767752294,4.103791020977602,2.369404581567522,3.038203912499458,3.015595999845079,3.229263456592134,3.330354279787071,3.670493606804195,3.6696053814072336,4.342983491227516,3.1270586113362375,2.448226967758959,2.2356700391948463,2.5369075686477682,2.761843958020386,3.2719209878494846,2.770292647801228,2.99600960332089,2.6559538148017614,2.4984820899372955,2.2347724899454064,2.1837415309336166,2.11038424667047,2.350351406953259,1.1848271335668827,1.4742543798443135,1.8520840299786256,2.087750142089157,1.7312753825646268,1.8642072219087873,1.6263093865806248,2.0750399220920546,1.6644277094541864,1.5090079169414798,1.7215103101150597,1.8520210727801079,1.8829532054899474,2.203172296854633,2.365327085456715,2.8680568443443755,2.9741206032026835,3.2317669692822335,2.435135589675172,2.875673658748366,2.5159696596104637,1.6107676002103197,1.8780054404541349,2.5109815248346363,2.7034326045724164,2.703590998477645,3.8269705384186485,3.7606786601720437,3.730375395828959,3.449855524073733,3.7943069659473947,4.710544207709312,3.9215108258755897,2.65356427332562,2.887215529091729,2.808898954832412,2.7497608813813708,3.1220946042719917,3.8071439671098224,3.57273080468935,3.271374750522752,2.72838864637505,3.50893482649745,4.352820758741311],\"type\":\"scatter\"},{\"name\":\"GBM with drift (2.0, 5.0, 1.0)\",\"x\":[0.0,0.1,0.2,0.30000000000000004,0.4,0.5,0.6000000000000001,0.7000000000000001,0.8,0.9,1.0,1.1,1.2000000000000002,1.3,1.4000000000000001,1.5,1.6,1.7000000000000002,1.8,1.9000000000000001,2.0,2.1,2.2,2.3000000000000003,2.4000000000000004,2.5,2.6,2.7,2.8000000000000003,2.9000000000000004,3.0,3.1,3.2,3.3000000000000003,3.4000000000000004,3.5,3.6,3.7,3.8000000000000003,3.9000000000000004,4.0,4.1000000000000005,4.2,4.3,4.4,4.5,4.6000000000000005,4.7,4.800000000000001,4.9,5.0,5.1000000000000005,5.2,5.300000000000001,5.4,5.5,5.6000000000000005,5.7,5.800000000000001,5.9,6.0,6.1000000000000005,6.2,6.300000000000001,6.4,6.5,6.6000000000000005,6.7,6.800000000000001,6.9,7.0,7.1000000000000005,7.2,7.300000000000001,7.4,7.5,7.6000000000000005,7.7,7.800000000000001,7.9,8.0,8.1,8.200000000000001,8.3,8.4,8.5,8.6,8.700000000000001,8.8,8.9,9.0,9.1,9.200000000000001,9.3,9.4,9.5,9.600000000000001,9.700000000000001,9.8,9.9],\"y\":[1.0,1.7698301311487965,3.8461146309218854,3.2073067023086335,2.838235644297427,4.491006105383811,8.279232946694101,9.732559771779172,9.425006182540507,5.1134318753695025,4.817267550958791,5.109258119913232,4.127533429445379,3.669885384529684,3.07649888062448,3.415233873777036,1.2405176410624859,2.541027499811189,3.26111194536422,2.6419865203068458,3.974101556746485,4.539266163443043,2.7624024297425187,3.4672137763455733,2.959183323395989,3.0819895674692175,3.9363447841723542,6.762697501518554,5.110818500809356,5.3678817556924106,4.557884945285018,3.6526181469707857,2.8768957986716646,4.742724757992107,3.9792601174155773,2.960156581677784,3.13319801322296,3.22703224787642,4.86429584749211,2.8620260218193923,3.185365580958684,3.053652685193521,5.277851196145007,3.1011680447854517,1.4808436972333627,1.9683585918070872,1.6942312036647929,2.116249087590187,2.5832242633389138,2.170347333488249,3.34228873849202,2.9830225405261475,4.046719528604905,3.9616545224375272,6.098387794165681,7.195319733947212,7.75980028685349,4.730072398027408,5.699748610115818,3.441077166621099,1.6165612600491879,2.2500288403731594,2.6291510368088664,4.593862982945221,5.519804711510848,5.349045759235536,6.639881969191922,7.103673398606045,2.6210010052080834,4.043052758580185,3.599925986669732,3.908390383422371,4.8003823472743745,5.252085363969854,4.719236261420825,3.257422880262077,5.622231828154012,3.1936499682395674,3.932622976247617,4.061989363934814,4.067684732296859,2.1710776997143975,3.7305288790321876,1.8989766106040884,3.0371260701967135,4.0975893535956525,4.074806099331089,4.76835336414832,2.8684639732766577,5.362997889352891,10.529201350320445,4.399410554161186,4.187310966231639,6.326385666997444,5.4582461673845994,6.808236599347901,6.932213008826788,5.368368331188201,6.457086067470054,4.774276080605293,5.961906920142368],\"type\":\"scatter\"},{\"name\":\"GBM with drift (3.0, 2.0, 0.5)\",\"x\":[0.0,0.1,0.2,0.30000000000000004,0.4,0.5,0.6000000000000001,0.7000000000000001,0.8,0.9,1.0,1.1,1.2000000000000002,1.3,1.4000000000000001,1.5,1.6,1.7000000000000002,1.8,1.9000000000000001,2.0,2.1,2.2,2.3000000000000003,2.4000000000000004,2.5,2.6,2.7,2.8000000000000003,2.9000000000000004,3.0,3.1,3.2,3.3000000000000003,3.4000000000000004,3.5,3.6,3.7,3.8000000000000003,3.9000000000000004,4.0,4.1000000000000005,4.2,4.3,4.4,4.5,4.6000000000000005,4.7,4.800000000000001,4.9,5.0,5.1000000000000005,5.2,5.300000000000001,5.4,5.5,5.6000000000000005,5.7,5.800000000000001,5.9,6.0,6.1000000000000005,6.2,6.300000000000001,6.4,6.5,6.6000000000000005,6.7,6.800000000000001,6.9,7.0,7.1000000000000005,7.2,7.300000000000001,7.4,7.5,7.6000000000000005,7.7,7.800000000000001,7.9,8.0,8.1,8.200000000000001,8.3,8.4,8.5,8.6,8.700000000000001,8.8,8.9,9.0,9.1,9.200000000000001,9.3,9.4,9.5,9.600000000000001,9.700000000000001,9.8,9.9],\"y\":[0.6000000000000001,0.9359436585114254,1.2479226587162564,1.4276416337520932,1.8843833883712193,1.5417238482621491,1.8498806693326926,1.976327686434796,1.7356719457377359,1.8839849901662493,1.9978248312887892,1.242404751022928,1.35470104738358,1.4627096566365976,1.6812709783464304,1.5058584699004816,1.7431356662213071,1.884646098964735,1.8267582198638308,1.456518478637687,1.6357244029865963,2.0404008684636046,1.899465046348308,1.6633348445201592,1.7372031003447688,2.0024272809789014,1.8911216279503247,1.9062348862312364,1.5339502650870618,1.746424367358601,1.667784461778554,1.7140787155116899,1.6377656845267687,1.944979895774111,1.9664207334763546,2.150020785270676,2.654232242273157,2.671244833990611,1.718244245054594,1.8500369052226528,1.451964770852957,1.1415110340615064,1.3831950289318886,1.2748618698105374,1.9193962246003236,1.8104512569936484,1.4098387952814935,1.7140446898225168,1.662876460138379,2.100772322253337,2.0477479946305386,2.348366325170943,2.800948564220346,2.3372043985321906,2.168501743765756,2.1955184885643426,2.2330505861800796,2.411823035570562,2.415594031187288,2.303527160350047,2.5780652823340753,2.779372315946045,2.987211976513318,2.4127948598073377,1.746741274745798,1.820714658947169,1.5828750667066105,1.6008924187819937,1.6597837851324158,1.869117099451903,2.091865684064054,2.1345305402365677,2.068285607280282,1.5377286402322814,1.9307816563097193,1.6596521750950535,2.0657184167983886,1.6284272104900483,1.5863450775075678,1.7364575741015023,1.763327751125827,1.921106954585253,1.9234079194970266,1.814245149379214,1.7969992505427743,2.029789091536319,1.985398060859163,1.538553859437986,1.5692829258469576,1.3993238609864969,1.6589363032166087,1.8203978972297976,1.2082877659780555,1.534099855178887,1.6973557544793387,1.9518098828370198,1.6184437853254017,1.681398994198783,2.1522320735835603,2.0233817209122478,1.7119699195494165],\"type\":\"scatter\"}],                        {\"showlegend\":false,\"template\":{\"data\":{\"barpolar\":[{\"marker\":{\"line\":{\"color\":\"#E5ECF6\",\"width\":0.5},\"pattern\":{\"fillmode\":\"overlay\",\"size\":10,\"solidity\":0.2}},\"type\":\"barpolar\"}],\"bar\":[{\"error_x\":{\"color\":\"#2a3f5f\"},\"error_y\":{\"color\":\"#2a3f5f\"},\"marker\":{\"line\":{\"color\":\"#E5ECF6\",\"width\":0.5},\"pattern\":{\"fillmode\":\"overlay\",\"size\":10,\"solidity\":0.2}},\"type\":\"bar\"}],\"carpet\":[{\"aaxis\":{\"endlinecolor\":\"#2a3f5f\",\"gridcolor\":\"white\",\"linecolor\":\"white\",\"minorgridcolor\":\"white\",\"startlinecolor\":\"#2a3f5f\"},\"baxis\":{\"endlinecolor\":\"#2a3f5f\",\"gridcolor\":\"white\",\"linecolor\":\"white\",\"minorgridcolor\":\"white\",\"startlinecolor\":\"#2a3f5f\"},\"type\":\"carpet\"}],\"choropleth\":[{\"colorbar\":{\"outlinewidth\":0,\"ticks\":\"\"},\"type\":\"choropleth\"}],\"contourcarpet\":[{\"colorbar\":{\"outlinewidth\":0,\"ticks\":\"\"},\"type\":\"contourcarpet\"}],\"contour\":[{\"colorbar\":{\"outlinewidth\":0,\"ticks\":\"\"},\"colorscale\":[[0.0,\"#0d0887\"],[0.1111111111111111,\"#46039f\"],[0.2222222222222222,\"#7201a8\"],[0.3333333333333333,\"#9c179e\"],[0.4444444444444444,\"#bd3786\"],[0.5555555555555556,\"#d8576b\"],[0.6666666666666666,\"#ed7953\"],[0.7777777777777778,\"#fb9f3a\"],[0.8888888888888888,\"#fdca26\"],[1.0,\"#f0f921\"]],\"type\":\"contour\"}],\"heatmapgl\":[{\"colorbar\":{\"outlinewidth\":0,\"ticks\":\"\"},\"colorscale\":[[0.0,\"#0d0887\"],[0.1111111111111111,\"#46039f\"],[0.2222222222222222,\"#7201a8\"],[0.3333333333333333,\"#9c179e\"],[0.4444444444444444,\"#bd3786\"],[0.5555555555555556,\"#d8576b\"],[0.6666666666666666,\"#ed7953\"],[0.7777777777777778,\"#fb9f3a\"],[0.8888888888888888,\"#fdca26\"],[1.0,\"#f0f921\"]],\"type\":\"heatmapgl\"}],\"heatmap\":[{\"colorbar\":{\"outlinewidth\":0,\"ticks\":\"\"},\"colorscale\":[[0.0,\"#0d0887\"],[0.1111111111111111,\"#46039f\"],[0.2222222222222222,\"#7201a8\"],[0.3333333333333333,\"#9c179e\"],[0.4444444444444444,\"#bd3786\"],[0.5555555555555556,\"#d8576b\"],[0.6666666666666666,\"#ed7953\"],[0.7777777777777778,\"#fb9f3a\"],[0.8888888888888888,\"#fdca26\"],[1.0,\"#f0f921\"]],\"type\":\"heatmap\"}],\"histogram2dcontour\":[{\"colorbar\":{\"outlinewidth\":0,\"ticks\":\"\"},\"colorscale\":[[0.0,\"#0d0887\"],[0.1111111111111111,\"#46039f\"],[0.2222222222222222,\"#7201a8\"],[0.3333333333333333,\"#9c179e\"],[0.4444444444444444,\"#bd3786\"],[0.5555555555555556,\"#d8576b\"],[0.6666666666666666,\"#ed7953\"],[0.7777777777777778,\"#fb9f3a\"],[0.8888888888888888,\"#fdca26\"],[1.0,\"#f0f921\"]],\"type\":\"histogram2dcontour\"}],\"histogram2d\":[{\"colorbar\":{\"outlinewidth\":0,\"ticks\":\"\"},\"colorscale\":[[0.0,\"#0d0887\"],[0.1111111111111111,\"#46039f\"],[0.2222222222222222,\"#7201a8\"],[0.3333333333333333,\"#9c179e\"],[0.4444444444444444,\"#bd3786\"],[0.5555555555555556,\"#d8576b\"],[0.6666666666666666,\"#ed7953\"],[0.7777777777777778,\"#fb9f3a\"],[0.8888888888888888,\"#fdca26\"],[1.0,\"#f0f921\"]],\"type\":\"histogram2d\"}],\"histogram\":[{\"marker\":{\"pattern\":{\"fillmode\":\"overlay\",\"size\":10,\"solidity\":0.2}},\"type\":\"histogram\"}],\"mesh3d\":[{\"colorbar\":{\"outlinewidth\":0,\"ticks\":\"\"},\"type\":\"mesh3d\"}],\"parcoords\":[{\"line\":{\"colorbar\":{\"outlinewidth\":0,\"ticks\":\"\"}},\"type\":\"parcoords\"}],\"pie\":[{\"automargin\":true,\"type\":\"pie\"}],\"scatter3d\":[{\"line\":{\"colorbar\":{\"outlinewidth\":0,\"ticks\":\"\"}},\"marker\":{\"colorbar\":{\"outlinewidth\":0,\"ticks\":\"\"}},\"type\":\"scatter3d\"}],\"scattercarpet\":[{\"marker\":{\"colorbar\":{\"outlinewidth\":0,\"ticks\":\"\"}},\"type\":\"scattercarpet\"}],\"scattergeo\":[{\"marker\":{\"colorbar\":{\"outlinewidth\":0,\"ticks\":\"\"}},\"type\":\"scattergeo\"}],\"scattergl\":[{\"marker\":{\"colorbar\":{\"outlinewidth\":0,\"ticks\":\"\"}},\"type\":\"scattergl\"}],\"scattermapbox\":[{\"marker\":{\"colorbar\":{\"outlinewidth\":0,\"ticks\":\"\"}},\"type\":\"scattermapbox\"}],\"scatterpolargl\":[{\"marker\":{\"colorbar\":{\"outlinewidth\":0,\"ticks\":\"\"}},\"type\":\"scatterpolargl\"}],\"scatterpolar\":[{\"marker\":{\"colorbar\":{\"outlinewidth\":0,\"ticks\":\"\"}},\"type\":\"scatterpolar\"}],\"scatter\":[{\"fillpattern\":{\"fillmode\":\"overlay\",\"size\":10,\"solidity\":0.2},\"type\":\"scatter\"}],\"scatterternary\":[{\"marker\":{\"colorbar\":{\"outlinewidth\":0,\"ticks\":\"\"}},\"type\":\"scatterternary\"}],\"surface\":[{\"colorbar\":{\"outlinewidth\":0,\"ticks\":\"\"},\"colorscale\":[[0.0,\"#0d0887\"],[0.1111111111111111,\"#46039f\"],[0.2222222222222222,\"#7201a8\"],[0.3333333333333333,\"#9c179e\"],[0.4444444444444444,\"#bd3786\"],[0.5555555555555556,\"#d8576b\"],[0.6666666666666666,\"#ed7953\"],[0.7777777777777778,\"#fb9f3a\"],[0.8888888888888888,\"#fdca26\"],[1.0,\"#f0f921\"]],\"type\":\"surface\"}],\"table\":[{\"cells\":{\"fill\":{\"color\":\"#EBF0F8\"},\"line\":{\"color\":\"white\"}},\"header\":{\"fill\":{\"color\":\"#C8D4E3\"},\"line\":{\"color\":\"white\"}},\"type\":\"table\"}]},\"layout\":{\"annotationdefaults\":{\"arrowcolor\":\"#2a3f5f\",\"arrowhead\":0,\"arrowwidth\":1},\"autotypenumbers\":\"strict\",\"coloraxis\":{\"colorbar\":{\"outlinewidth\":0,\"ticks\":\"\"}},\"colorscale\":{\"diverging\":[[0,\"#8e0152\"],[0.1,\"#c51b7d\"],[0.2,\"#de77ae\"],[0.3,\"#f1b6da\"],[0.4,\"#fde0ef\"],[0.5,\"#f7f7f7\"],[0.6,\"#e6f5d0\"],[0.7,\"#b8e186\"],[0.8,\"#7fbc41\"],[0.9,\"#4d9221\"],[1,\"#276419\"]],\"sequential\":[[0.0,\"#0d0887\"],[0.1111111111111111,\"#46039f\"],[0.2222222222222222,\"#7201a8\"],[0.3333333333333333,\"#9c179e\"],[0.4444444444444444,\"#bd3786\"],[0.5555555555555556,\"#d8576b\"],[0.6666666666666666,\"#ed7953\"],[0.7777777777777778,\"#fb9f3a\"],[0.8888888888888888,\"#fdca26\"],[1.0,\"#f0f921\"]],\"sequentialminus\":[[0.0,\"#0d0887\"],[0.1111111111111111,\"#46039f\"],[0.2222222222222222,\"#7201a8\"],[0.3333333333333333,\"#9c179e\"],[0.4444444444444444,\"#bd3786\"],[0.5555555555555556,\"#d8576b\"],[0.6666666666666666,\"#ed7953\"],[0.7777777777777778,\"#fb9f3a\"],[0.8888888888888888,\"#fdca26\"],[1.0,\"#f0f921\"]]},\"colorway\":[\"#636efa\",\"#EF553B\",\"#00cc96\",\"#ab63fa\",\"#FFA15A\",\"#19d3f3\",\"#FF6692\",\"#B6E880\",\"#FF97FF\",\"#FECB52\"],\"font\":{\"color\":\"#2a3f5f\"},\"geo\":{\"bgcolor\":\"white\",\"lakecolor\":\"white\",\"landcolor\":\"#E5ECF6\",\"showlakes\":true,\"showland\":true,\"subunitcolor\":\"white\"},\"hoverlabel\":{\"align\":\"left\"},\"hovermode\":\"closest\",\"mapbox\":{\"style\":\"light\"},\"paper_bgcolor\":\"white\",\"plot_bgcolor\":\"#E5ECF6\",\"polar\":{\"angularaxis\":{\"gridcolor\":\"white\",\"linecolor\":\"white\",\"ticks\":\"\"},\"bgcolor\":\"#E5ECF6\",\"radialaxis\":{\"gridcolor\":\"white\",\"linecolor\":\"white\",\"ticks\":\"\"}},\"scene\":{\"xaxis\":{\"backgroundcolor\":\"#E5ECF6\",\"gridcolor\":\"white\",\"gridwidth\":2,\"linecolor\":\"white\",\"showbackground\":true,\"ticks\":\"\",\"zerolinecolor\":\"white\"},\"yaxis\":{\"backgroundcolor\":\"#E5ECF6\",\"gridcolor\":\"white\",\"gridwidth\":2,\"linecolor\":\"white\",\"showbackground\":true,\"ticks\":\"\",\"zerolinecolor\":\"white\"},\"zaxis\":{\"backgroundcolor\":\"#E5ECF6\",\"gridcolor\":\"white\",\"gridwidth\":2,\"linecolor\":\"white\",\"showbackground\":true,\"ticks\":\"\",\"zerolinecolor\":\"white\"}},\"shapedefaults\":{\"line\":{\"color\":\"#2a3f5f\"}},\"ternary\":{\"aaxis\":{\"gridcolor\":\"white\",\"linecolor\":\"white\",\"ticks\":\"\"},\"baxis\":{\"gridcolor\":\"white\",\"linecolor\":\"white\",\"ticks\":\"\"},\"bgcolor\":\"#E5ECF6\",\"caxis\":{\"gridcolor\":\"white\",\"linecolor\":\"white\",\"ticks\":\"\"}},\"title\":{\"x\":0.05},\"xaxis\":{\"automargin\":true,\"gridcolor\":\"white\",\"linecolor\":\"white\",\"ticks\":\"\",\"title\":{\"standoff\":15},\"zerolinecolor\":\"white\",\"zerolinewidth\":2},\"yaxis\":{\"automargin\":true,\"gridcolor\":\"white\",\"linecolor\":\"white\",\"ticks\":\"\",\"title\":{\"standoff\":15},\"zerolinecolor\":\"white\",\"zerolinewidth\":2}}}},                        {\"responsive\": true}                    ).then(function(){\n",
       "                            \n",
       "var gd = document.getElementById('1869e625-79df-401f-853b-92ffe400dd2e');\n",
       "var x = new MutationObserver(function (mutations, observer) {{\n",
       "        var display = window.getComputedStyle(gd).display;\n",
       "        if (!display || display === 'none') {{\n",
       "            console.log([gd, 'removed!']);\n",
       "            Plotly.purge(gd);\n",
       "            observer.disconnect();\n",
       "        }}\n",
       "}});\n",
       "\n",
       "// Listen for the removal of the full notebook cells\n",
       "var notebookContainer = gd.closest('#notebook-container');\n",
       "if (notebookContainer) {{\n",
       "    x.observe(notebookContainer, {childList: true});\n",
       "}}\n",
       "\n",
       "// Listen for the clearing of the current output cell\n",
       "var outputEl = gd.closest('.output');\n",
       "if (outputEl) {{\n",
       "    x.observe(outputEl, {childList: true});\n",
       "}}\n",
       "\n",
       "                        })                };                });            </script>        </div>"
      ]
     },
     "metadata": {},
     "output_type": "display_data"
    }
   ],
   "source": [
    "plot_x_time_series(\n",
    "    10.0,\n",
    "    0.1,\n",
    "    np.zeros((2, 3)), \n",
    "    np.zeros((2, 3)), \n",
    "    lambda X_prime, t, delta_t: (\n",
    "        X_prime[0] - delta_t * np.asarray([1.0, 2.0, 3.0]) * (\n",
    "            X_prime[0] - np.asarray([3.0, 5.0, 2.0])\n",
    "        )\n",
    "    ), \n",
    "    lambda X_prime, S_prime, t, delta_t, other: (\n",
    "        np.sqrt(delta_t) * X_prime[0] * np.random.normal(\n",
    "            np.zeros(3), \n",
    "            np.asarray([0.5, 1.0, 0.5]), \n",
    "            size=3,\n",
    "        )\n",
    "    ), \n",
    "    \"images/gbm_noise.html\",\n",
    "    [\n",
    "        \"GBM with drift (1.0, 3.0, 0.5)\",\n",
    "        \"GBM with drift (2.0, 5.0, 1.0)\",\n",
    "        \"GBM with drift (3.0, 2.0, 0.5)\",\n",
    "    ]\n",
    ")"
   ]
  },
  {
   "cell_type": "markdown",
   "metadata": {},
   "source": [
    "And say, e.g., **fractional Brownian motion noise**, where $B^i_{t}({H_i})$ is a sample from a fractional Brownian motion process with Hurst exponent $H_i$ for each of the state dimensions indexed by $i$, we simply substitute again\n",
    "\n",
    "$$\n",
    "\\begin{align}\n",
    "& X^i_{t+\\delta t} = F^i_{t+\\delta t}(X', t) + \\textcolor{red}{B^i_{t+\\delta t}({H_i})-B^i_{t}({H_i})}.\n",
    "\\end{align}\n",
    "$$"
   ]
  },
  {
   "cell_type": "code",
   "execution_count": 42,
   "metadata": {
    "tags": []
   },
   "outputs": [
    {
     "name": "stderr",
     "output_type": "stream",
     "text": [
      "/tmp/ipykernel_5870/1983031594.py:8: RuntimeWarning:\n",
      "\n",
      "divide by zero encountered in true_divide\n",
      "\n"
     ]
    },
    {
     "data": {
      "application/vnd.plotly.v1+json": {
       "config": {
        "linkText": "Export to plot.ly",
        "plotlyServerURL": "https://plot.ly",
        "showLink": false
       },
       "data": [
        {
         "name": "fBM with drift (1.0, 3.0, 0.5, H=0.8)",
         "type": "scatter",
         "x": [
          0,
          0.1,
          0.2,
          0.30000000000000004,
          0.4,
          0.5,
          0.6000000000000001,
          0.7000000000000001,
          0.8,
          0.9,
          1,
          1.1,
          1.2000000000000002,
          1.3,
          1.4000000000000001,
          1.5,
          1.6,
          1.7000000000000002,
          1.8,
          1.9000000000000001,
          2,
          2.1,
          2.2,
          2.3000000000000003,
          2.4000000000000004,
          2.5,
          2.6,
          2.7,
          2.8000000000000003,
          2.9000000000000004,
          3,
          3.1,
          3.2,
          3.3000000000000003,
          3.4000000000000004,
          3.5,
          3.6,
          3.7,
          3.8000000000000003,
          3.9000000000000004,
          4,
          4.1000000000000005,
          4.2,
          4.3,
          4.4,
          4.5,
          4.6000000000000005,
          4.7,
          4.800000000000001,
          4.9,
          5,
          5.1000000000000005,
          5.2,
          5.300000000000001,
          5.4,
          5.5,
          5.6000000000000005,
          5.7,
          5.800000000000001,
          5.9,
          6,
          6.1000000000000005,
          6.2,
          6.300000000000001,
          6.4,
          6.5,
          6.6000000000000005,
          6.7,
          6.800000000000001,
          6.9,
          7,
          7.1000000000000005,
          7.2,
          7.300000000000001,
          7.4,
          7.5,
          7.6000000000000005,
          7.7,
          7.800000000000001,
          7.9,
          8,
          8.1,
          8.200000000000001,
          8.3,
          8.4,
          8.5,
          8.6,
          8.700000000000001,
          8.8,
          8.9,
          9,
          9.1,
          9.200000000000001,
          9.3,
          9.4,
          9.5,
          9.600000000000001,
          9.700000000000001,
          9.8,
          9.9
         ],
         "y": [
          0.26883333219030703,
          0.7963781559616053,
          0.8585169937884041,
          1.3288471451058588,
          1.5748597828484017,
          1.495833485750044,
          1.9688014824041142,
          1.7768673243700213,
          2.2513406556886784,
          1.9109867550005952,
          2.4208963910855736,
          2.130731015999314,
          2.4933555026108,
          2.601367237003612,
          2.7346895408594967,
          2.539112943758889,
          2.6713823296508985,
          2.7923161693610865,
          2.561401293730258,
          2.6857568759743202,
          2.573844947279086,
          2.7182530830903815,
          2.6768962982360107,
          2.6443125718559384,
          2.808273477476723,
          2.6664059637299675,
          3.048426019879087,
          2.844289609157753,
          3.0061043045570406,
          3.0412279110842984,
          3.0231899229271693,
          2.975997614520554,
          3.063246208757826,
          3.2519726230380104,
          3.203802192934101,
          3.0687415073464446,
          3.109455461615068,
          3.0264355492566755,
          3.2919102700239247,
          2.893647317018382,
          3.375946256233098,
          3.011924419632889,
          3.3427841266200042,
          2.8599902528272345,
          3.5230854956872895,
          2.679170235265734,
          3.6567649893586616,
          2.554589709861035,
          3.587997770048435,
          2.6682027988127306,
          3.2912437164104347,
          2.6339556286357855,
          2.950024822289572,
          2.629471079867729,
          2.9722600359892852,
          2.68335434368351,
          3.1707526278153355,
          2.452571410005266,
          2.8137658360050404,
          2.504703163673175,
          2.979270578522181,
          2.4594559099900137,
          3.088623134526693,
          2.4739984387490193,
          3.15934967345692,
          2.702465489008297,
          3.249992621021604,
          2.718811884585847,
          3.2061862694962384,
          2.6218682820965196,
          3.2689817539775152,
          2.6644620164364388,
          3.5556849546171367,
          2.735618000750647,
          3.5224028419939133,
          2.424097113827723,
          3.6198121364524605,
          2.7688954239001826,
          3.5253753230547913,
          2.828257120804385,
          3.4167581301876946,
          2.6846247148003997,
          3.5098054893049824,
          2.725631541103025,
          3.260946120290255,
          2.892587295636892,
          3.3328694509784405,
          2.9691706750812994,
          3.214308395112571,
          2.877931571521056,
          3.256643622857711,
          2.9978234946308144,
          3.177626998607249,
          2.9613748968496356,
          3.0111116726294638,
          2.881743041951903,
          2.941851789749928,
          2.899943824359848,
          3.3276815237081347,
          2.9302943802855004,
          3.3164116615001746
         ]
        },
        {
         "name": "fBM with drift (2.0, 5.0, 1.0, H=0.7)",
         "type": "scatter",
         "x": [
          0,
          0.1,
          0.2,
          0.30000000000000004,
          0.4,
          0.5,
          0.6000000000000001,
          0.7000000000000001,
          0.8,
          0.9,
          1,
          1.1,
          1.2000000000000002,
          1.3,
          1.4000000000000001,
          1.5,
          1.6,
          1.7000000000000002,
          1.8,
          1.9000000000000001,
          2,
          2.1,
          2.2,
          2.3000000000000003,
          2.4000000000000004,
          2.5,
          2.6,
          2.7,
          2.8000000000000003,
          2.9000000000000004,
          3,
          3.1,
          3.2,
          3.3000000000000003,
          3.4000000000000004,
          3.5,
          3.6,
          3.7,
          3.8000000000000003,
          3.9000000000000004,
          4,
          4.1000000000000005,
          4.2,
          4.3,
          4.4,
          4.5,
          4.6000000000000005,
          4.7,
          4.800000000000001,
          4.9,
          5,
          5.1000000000000005,
          5.2,
          5.300000000000001,
          5.4,
          5.5,
          5.6000000000000005,
          5.7,
          5.800000000000001,
          5.9,
          6,
          6.1000000000000005,
          6.2,
          6.300000000000001,
          6.4,
          6.5,
          6.6000000000000005,
          6.7,
          6.800000000000001,
          6.9,
          7,
          7.1000000000000005,
          7.2,
          7.300000000000001,
          7.4,
          7.5,
          7.6000000000000005,
          7.7,
          7.800000000000001,
          7.9,
          8,
          8.1,
          8.200000000000001,
          8.3,
          8.4,
          8.5,
          8.6,
          8.700000000000001,
          8.8,
          8.9,
          9,
          9.1,
          9.200000000000001,
          9.3,
          9.4,
          9.5,
          9.600000000000001,
          9.700000000000001,
          9.8,
          9.9
         ],
         "y": [
          1.1099369300948907,
          1.70003700066271,
          2.3453320581539048,
          2.829833217199017,
          3.6295174311875362,
          3.641446673322186,
          4.384813292012046,
          4.233978162296766,
          4.458288686390095,
          4.42271946242685,
          4.50994938426984,
          4.412544559189956,
          4.447248976407532,
          5.247574845499254,
          4.261381312170878,
          5.415778617559507,
          4.94459166058989,
          5.394002855661869,
          5.145506958848098,
          4.687089170686214,
          5.309560052763672,
          5.005075692838777,
          4.854857138436127,
          5.181251005325311,
          5.281004354716834,
          4.839043949451684,
          5.564817602133416,
          4.996005281560219,
          5.5448883881321125,
          4.430866075575318,
          5.476587903958087,
          4.215104663551187,
          5.254045106730135,
          4.123411419978522,
          5.769479527016445,
          3.654931713053533,
          5.89936558698605,
          3.76427588496387,
          5.954383570085309,
          3.4763774168814985,
          5.264208450116769,
          3.958950506387461,
          5.342978813108421,
          3.83501398863655,
          5.024864909535173,
          3.6325974668908363,
          4.971884809798261,
          3.966792583030421,
          4.818817520760161,
          3.7451599332314083,
          5.190581724223669,
          4.477774011038649,
          5.798104897881917,
          4.419050656479662,
          5.892788564306836,
          4.815353652699589,
          5.6432513892911125,
          4.677335248552553,
          5.788595907180174,
          4.143911940333915,
          6.126720795600896,
          4.7039877983781775,
          6.089653763698287,
          4.572162679238625,
          6.185817656534963,
          4.150275384095566,
          6.119495965665578,
          4.107452833824225,
          6.187224236945811,
          3.5490146632805333,
          6.339647228288769,
          3.8728436399384867,
          5.9698029111721365,
          4.063402439960864,
          5.875854360559178,
          4.100074970989988,
          6.10417581407,
          3.9237117469395453,
          5.860327848296232,
          4.195858799205071,
          6.090711171937904,
          4.427046464332506,
          5.950682850075067,
          4.158122234875201,
          5.8284264439777544,
          4.2792681773280545,
          5.770309586789605,
          4.441085362274579,
          5.371081853088505,
          4.561544954346949,
          5.234884408117631,
          4.027773138158658,
          6.011607798714735,
          4.136936847896018,
          6.401291946611845,
          3.416156275322868,
          6.417517551275938,
          3.8449184619006074,
          6.859323316453996,
          4.0125799213084274,
          6.1945717454849065
         ]
        },
        {
         "name": "fBM with drift (3.0, 2.0, 0.5, H=0.3)",
         "type": "scatter",
         "x": [
          0,
          0.1,
          0.2,
          0.30000000000000004,
          0.4,
          0.5,
          0.6000000000000001,
          0.7000000000000001,
          0.8,
          0.9,
          1,
          1.1,
          1.2000000000000002,
          1.3,
          1.4000000000000001,
          1.5,
          1.6,
          1.7000000000000002,
          1.8,
          1.9000000000000001,
          2,
          2.1,
          2.2,
          2.3000000000000003,
          2.4000000000000004,
          2.5,
          2.6,
          2.7,
          2.8000000000000003,
          2.9000000000000004,
          3,
          3.1,
          3.2,
          3.3000000000000003,
          3.4000000000000004,
          3.5,
          3.6,
          3.7,
          3.8000000000000003,
          3.9000000000000004,
          4,
          4.1000000000000005,
          4.2,
          4.3,
          4.4,
          4.5,
          4.6000000000000005,
          4.7,
          4.800000000000001,
          4.9,
          5,
          5.1000000000000005,
          5.2,
          5.300000000000001,
          5.4,
          5.5,
          5.6000000000000005,
          5.7,
          5.800000000000001,
          5.9,
          6,
          6.1000000000000005,
          6.2,
          6.300000000000001,
          6.4,
          6.5,
          6.6000000000000005,
          6.7,
          6.800000000000001,
          6.9,
          7,
          7.1000000000000005,
          7.2,
          7.300000000000001,
          7.4,
          7.5,
          7.6000000000000005,
          7.7,
          7.800000000000001,
          7.9,
          8,
          8.1,
          8.200000000000001,
          8.3,
          8.4,
          8.5,
          8.6,
          8.700000000000001,
          8.8,
          8.9,
          9,
          9.1,
          9.200000000000001,
          9.3,
          9.4,
          9.5,
          9.600000000000001,
          9.700000000000001,
          9.8,
          9.9
         ],
         "y": [
          0.7917621675518012,
          1.0481537618067127,
          1.220698016692962,
          1.1956501082948114,
          1.9365670760401112,
          1.3915936711651269,
          2.299236283570627,
          1.5756446333877792,
          2.23988202720982,
          1.6154844845174297,
          1.9722813332855043,
          1.820750541758375,
          1.7485863295795359,
          1.881508943710603,
          1.5829415052517959,
          1.90785403833613,
          1.8070809799799117,
          1.989939121657334,
          1.7990002717909235,
          2.188177802390886,
          1.8588299569066495,
          2.133129328201899,
          1.8002986537384498,
          1.9491469949912918,
          1.8688126526267064,
          2.0857336714095562,
          1.602128489055201,
          2.052687468425505,
          1.7822904134795066,
          2.166537657246564,
          1.8427785312117868,
          2.3458314762159516,
          1.9470739633318375,
          2.2499386237590326,
          2.213707715873847,
          2.1963950912608587,
          2.2352883554597804,
          1.8634316251981566,
          2.0998281761619007,
          1.627161700660347,
          2.3153355891005676,
          1.706430118056668,
          2.0758674376466963,
          1.9464188492738186,
          2.1959043577359063,
          1.9118903513369412,
          2.2237293537875824,
          1.5887663654444302,
          2.246592103094417,
          1.7513104185531907,
          2.1507774047974433,
          1.8451814143179044,
          2.220674500636465,
          1.9210547641482179,
          2.3053027435952047,
          2.0701747294479684,
          2.0131673038514184,
          1.8934507048365263,
          1.9022160782023363,
          2.1856746594343877,
          1.7795588836354082,
          1.9512347988020542,
          1.6633249003727466,
          2.172562587918934,
          1.5647815632752913,
          2.2315616975527965,
          1.801326360941543,
          2.416820599770557,
          2.0121952691639855,
          2.5275066857915207,
          1.6480319304793243,
          2.5842191458307866,
          1.6259419548485203,
          2.3028443745003093,
          1.489974784005522,
          2.421035897449168,
          1.5659233874413068,
          2.2864854376000583,
          1.5614012769175716,
          2.4269175831100283,
          1.757744220891846,
          2.6750771317565185,
          1.555420886368431,
          2.7079180002673695,
          1.6228405069132938,
          2.9298820189290207,
          1.5752157623045266,
          2.730159747967428,
          1.5110562021591596,
          2.551639832395984,
          1.687505512228271,
          2.556263421525525,
          1.4376503185275507,
          2.6400643769220866,
          1.5709045927356344,
          2.890752967346128,
          1.6317824474036606,
          2.6594321358699613,
          1.4505442454553452,
          2.660859400539379,
          1.3456676990946628
         ]
        }
       ],
       "layout": {
        "showlegend": false,
        "template": {
         "data": {
          "bar": [
           {
            "error_x": {
             "color": "#2a3f5f"
            },
            "error_y": {
             "color": "#2a3f5f"
            },
            "marker": {
             "line": {
              "color": "#E5ECF6",
              "width": 0.5
             },
             "pattern": {
              "fillmode": "overlay",
              "size": 10,
              "solidity": 0.2
             }
            },
            "type": "bar"
           }
          ],
          "barpolar": [
           {
            "marker": {
             "line": {
              "color": "#E5ECF6",
              "width": 0.5
             },
             "pattern": {
              "fillmode": "overlay",
              "size": 10,
              "solidity": 0.2
             }
            },
            "type": "barpolar"
           }
          ],
          "carpet": [
           {
            "aaxis": {
             "endlinecolor": "#2a3f5f",
             "gridcolor": "white",
             "linecolor": "white",
             "minorgridcolor": "white",
             "startlinecolor": "#2a3f5f"
            },
            "baxis": {
             "endlinecolor": "#2a3f5f",
             "gridcolor": "white",
             "linecolor": "white",
             "minorgridcolor": "white",
             "startlinecolor": "#2a3f5f"
            },
            "type": "carpet"
           }
          ],
          "choropleth": [
           {
            "colorbar": {
             "outlinewidth": 0,
             "ticks": ""
            },
            "type": "choropleth"
           }
          ],
          "contour": [
           {
            "colorbar": {
             "outlinewidth": 0,
             "ticks": ""
            },
            "colorscale": [
             [
              0,
              "#0d0887"
             ],
             [
              0.1111111111111111,
              "#46039f"
             ],
             [
              0.2222222222222222,
              "#7201a8"
             ],
             [
              0.3333333333333333,
              "#9c179e"
             ],
             [
              0.4444444444444444,
              "#bd3786"
             ],
             [
              0.5555555555555556,
              "#d8576b"
             ],
             [
              0.6666666666666666,
              "#ed7953"
             ],
             [
              0.7777777777777778,
              "#fb9f3a"
             ],
             [
              0.8888888888888888,
              "#fdca26"
             ],
             [
              1,
              "#f0f921"
             ]
            ],
            "type": "contour"
           }
          ],
          "contourcarpet": [
           {
            "colorbar": {
             "outlinewidth": 0,
             "ticks": ""
            },
            "type": "contourcarpet"
           }
          ],
          "heatmap": [
           {
            "colorbar": {
             "outlinewidth": 0,
             "ticks": ""
            },
            "colorscale": [
             [
              0,
              "#0d0887"
             ],
             [
              0.1111111111111111,
              "#46039f"
             ],
             [
              0.2222222222222222,
              "#7201a8"
             ],
             [
              0.3333333333333333,
              "#9c179e"
             ],
             [
              0.4444444444444444,
              "#bd3786"
             ],
             [
              0.5555555555555556,
              "#d8576b"
             ],
             [
              0.6666666666666666,
              "#ed7953"
             ],
             [
              0.7777777777777778,
              "#fb9f3a"
             ],
             [
              0.8888888888888888,
              "#fdca26"
             ],
             [
              1,
              "#f0f921"
             ]
            ],
            "type": "heatmap"
           }
          ],
          "heatmapgl": [
           {
            "colorbar": {
             "outlinewidth": 0,
             "ticks": ""
            },
            "colorscale": [
             [
              0,
              "#0d0887"
             ],
             [
              0.1111111111111111,
              "#46039f"
             ],
             [
              0.2222222222222222,
              "#7201a8"
             ],
             [
              0.3333333333333333,
              "#9c179e"
             ],
             [
              0.4444444444444444,
              "#bd3786"
             ],
             [
              0.5555555555555556,
              "#d8576b"
             ],
             [
              0.6666666666666666,
              "#ed7953"
             ],
             [
              0.7777777777777778,
              "#fb9f3a"
             ],
             [
              0.8888888888888888,
              "#fdca26"
             ],
             [
              1,
              "#f0f921"
             ]
            ],
            "type": "heatmapgl"
           }
          ],
          "histogram": [
           {
            "marker": {
             "pattern": {
              "fillmode": "overlay",
              "size": 10,
              "solidity": 0.2
             }
            },
            "type": "histogram"
           }
          ],
          "histogram2d": [
           {
            "colorbar": {
             "outlinewidth": 0,
             "ticks": ""
            },
            "colorscale": [
             [
              0,
              "#0d0887"
             ],
             [
              0.1111111111111111,
              "#46039f"
             ],
             [
              0.2222222222222222,
              "#7201a8"
             ],
             [
              0.3333333333333333,
              "#9c179e"
             ],
             [
              0.4444444444444444,
              "#bd3786"
             ],
             [
              0.5555555555555556,
              "#d8576b"
             ],
             [
              0.6666666666666666,
              "#ed7953"
             ],
             [
              0.7777777777777778,
              "#fb9f3a"
             ],
             [
              0.8888888888888888,
              "#fdca26"
             ],
             [
              1,
              "#f0f921"
             ]
            ],
            "type": "histogram2d"
           }
          ],
          "histogram2dcontour": [
           {
            "colorbar": {
             "outlinewidth": 0,
             "ticks": ""
            },
            "colorscale": [
             [
              0,
              "#0d0887"
             ],
             [
              0.1111111111111111,
              "#46039f"
             ],
             [
              0.2222222222222222,
              "#7201a8"
             ],
             [
              0.3333333333333333,
              "#9c179e"
             ],
             [
              0.4444444444444444,
              "#bd3786"
             ],
             [
              0.5555555555555556,
              "#d8576b"
             ],
             [
              0.6666666666666666,
              "#ed7953"
             ],
             [
              0.7777777777777778,
              "#fb9f3a"
             ],
             [
              0.8888888888888888,
              "#fdca26"
             ],
             [
              1,
              "#f0f921"
             ]
            ],
            "type": "histogram2dcontour"
           }
          ],
          "mesh3d": [
           {
            "colorbar": {
             "outlinewidth": 0,
             "ticks": ""
            },
            "type": "mesh3d"
           }
          ],
          "parcoords": [
           {
            "line": {
             "colorbar": {
              "outlinewidth": 0,
              "ticks": ""
             }
            },
            "type": "parcoords"
           }
          ],
          "pie": [
           {
            "automargin": true,
            "type": "pie"
           }
          ],
          "scatter": [
           {
            "fillpattern": {
             "fillmode": "overlay",
             "size": 10,
             "solidity": 0.2
            },
            "type": "scatter"
           }
          ],
          "scatter3d": [
           {
            "line": {
             "colorbar": {
              "outlinewidth": 0,
              "ticks": ""
             }
            },
            "marker": {
             "colorbar": {
              "outlinewidth": 0,
              "ticks": ""
             }
            },
            "type": "scatter3d"
           }
          ],
          "scattercarpet": [
           {
            "marker": {
             "colorbar": {
              "outlinewidth": 0,
              "ticks": ""
             }
            },
            "type": "scattercarpet"
           }
          ],
          "scattergeo": [
           {
            "marker": {
             "colorbar": {
              "outlinewidth": 0,
              "ticks": ""
             }
            },
            "type": "scattergeo"
           }
          ],
          "scattergl": [
           {
            "marker": {
             "colorbar": {
              "outlinewidth": 0,
              "ticks": ""
             }
            },
            "type": "scattergl"
           }
          ],
          "scattermapbox": [
           {
            "marker": {
             "colorbar": {
              "outlinewidth": 0,
              "ticks": ""
             }
            },
            "type": "scattermapbox"
           }
          ],
          "scatterpolar": [
           {
            "marker": {
             "colorbar": {
              "outlinewidth": 0,
              "ticks": ""
             }
            },
            "type": "scatterpolar"
           }
          ],
          "scatterpolargl": [
           {
            "marker": {
             "colorbar": {
              "outlinewidth": 0,
              "ticks": ""
             }
            },
            "type": "scatterpolargl"
           }
          ],
          "scatterternary": [
           {
            "marker": {
             "colorbar": {
              "outlinewidth": 0,
              "ticks": ""
             }
            },
            "type": "scatterternary"
           }
          ],
          "surface": [
           {
            "colorbar": {
             "outlinewidth": 0,
             "ticks": ""
            },
            "colorscale": [
             [
              0,
              "#0d0887"
             ],
             [
              0.1111111111111111,
              "#46039f"
             ],
             [
              0.2222222222222222,
              "#7201a8"
             ],
             [
              0.3333333333333333,
              "#9c179e"
             ],
             [
              0.4444444444444444,
              "#bd3786"
             ],
             [
              0.5555555555555556,
              "#d8576b"
             ],
             [
              0.6666666666666666,
              "#ed7953"
             ],
             [
              0.7777777777777778,
              "#fb9f3a"
             ],
             [
              0.8888888888888888,
              "#fdca26"
             ],
             [
              1,
              "#f0f921"
             ]
            ],
            "type": "surface"
           }
          ],
          "table": [
           {
            "cells": {
             "fill": {
              "color": "#EBF0F8"
             },
             "line": {
              "color": "white"
             }
            },
            "header": {
             "fill": {
              "color": "#C8D4E3"
             },
             "line": {
              "color": "white"
             }
            },
            "type": "table"
           }
          ]
         },
         "layout": {
          "annotationdefaults": {
           "arrowcolor": "#2a3f5f",
           "arrowhead": 0,
           "arrowwidth": 1
          },
          "autotypenumbers": "strict",
          "coloraxis": {
           "colorbar": {
            "outlinewidth": 0,
            "ticks": ""
           }
          },
          "colorscale": {
           "diverging": [
            [
             0,
             "#8e0152"
            ],
            [
             0.1,
             "#c51b7d"
            ],
            [
             0.2,
             "#de77ae"
            ],
            [
             0.3,
             "#f1b6da"
            ],
            [
             0.4,
             "#fde0ef"
            ],
            [
             0.5,
             "#f7f7f7"
            ],
            [
             0.6,
             "#e6f5d0"
            ],
            [
             0.7,
             "#b8e186"
            ],
            [
             0.8,
             "#7fbc41"
            ],
            [
             0.9,
             "#4d9221"
            ],
            [
             1,
             "#276419"
            ]
           ],
           "sequential": [
            [
             0,
             "#0d0887"
            ],
            [
             0.1111111111111111,
             "#46039f"
            ],
            [
             0.2222222222222222,
             "#7201a8"
            ],
            [
             0.3333333333333333,
             "#9c179e"
            ],
            [
             0.4444444444444444,
             "#bd3786"
            ],
            [
             0.5555555555555556,
             "#d8576b"
            ],
            [
             0.6666666666666666,
             "#ed7953"
            ],
            [
             0.7777777777777778,
             "#fb9f3a"
            ],
            [
             0.8888888888888888,
             "#fdca26"
            ],
            [
             1,
             "#f0f921"
            ]
           ],
           "sequentialminus": [
            [
             0,
             "#0d0887"
            ],
            [
             0.1111111111111111,
             "#46039f"
            ],
            [
             0.2222222222222222,
             "#7201a8"
            ],
            [
             0.3333333333333333,
             "#9c179e"
            ],
            [
             0.4444444444444444,
             "#bd3786"
            ],
            [
             0.5555555555555556,
             "#d8576b"
            ],
            [
             0.6666666666666666,
             "#ed7953"
            ],
            [
             0.7777777777777778,
             "#fb9f3a"
            ],
            [
             0.8888888888888888,
             "#fdca26"
            ],
            [
             1,
             "#f0f921"
            ]
           ]
          },
          "colorway": [
           "#636efa",
           "#EF553B",
           "#00cc96",
           "#ab63fa",
           "#FFA15A",
           "#19d3f3",
           "#FF6692",
           "#B6E880",
           "#FF97FF",
           "#FECB52"
          ],
          "font": {
           "color": "#2a3f5f"
          },
          "geo": {
           "bgcolor": "white",
           "lakecolor": "white",
           "landcolor": "#E5ECF6",
           "showlakes": true,
           "showland": true,
           "subunitcolor": "white"
          },
          "hoverlabel": {
           "align": "left"
          },
          "hovermode": "closest",
          "mapbox": {
           "style": "light"
          },
          "paper_bgcolor": "white",
          "plot_bgcolor": "#E5ECF6",
          "polar": {
           "angularaxis": {
            "gridcolor": "white",
            "linecolor": "white",
            "ticks": ""
           },
           "bgcolor": "#E5ECF6",
           "radialaxis": {
            "gridcolor": "white",
            "linecolor": "white",
            "ticks": ""
           }
          },
          "scene": {
           "xaxis": {
            "backgroundcolor": "#E5ECF6",
            "gridcolor": "white",
            "gridwidth": 2,
            "linecolor": "white",
            "showbackground": true,
            "ticks": "",
            "zerolinecolor": "white"
           },
           "yaxis": {
            "backgroundcolor": "#E5ECF6",
            "gridcolor": "white",
            "gridwidth": 2,
            "linecolor": "white",
            "showbackground": true,
            "ticks": "",
            "zerolinecolor": "white"
           },
           "zaxis": {
            "backgroundcolor": "#E5ECF6",
            "gridcolor": "white",
            "gridwidth": 2,
            "linecolor": "white",
            "showbackground": true,
            "ticks": "",
            "zerolinecolor": "white"
           }
          },
          "shapedefaults": {
           "line": {
            "color": "#2a3f5f"
           }
          },
          "ternary": {
           "aaxis": {
            "gridcolor": "white",
            "linecolor": "white",
            "ticks": ""
           },
           "baxis": {
            "gridcolor": "white",
            "linecolor": "white",
            "ticks": ""
           },
           "bgcolor": "#E5ECF6",
           "caxis": {
            "gridcolor": "white",
            "linecolor": "white",
            "ticks": ""
           }
          },
          "title": {
           "x": 0.05
          },
          "xaxis": {
           "automargin": true,
           "gridcolor": "white",
           "linecolor": "white",
           "ticks": "",
           "title": {
            "standoff": 15
           },
           "zerolinecolor": "white",
           "zerolinewidth": 2
          },
          "yaxis": {
           "automargin": true,
           "gridcolor": "white",
           "linecolor": "white",
           "ticks": "",
           "title": {
            "standoff": 15
           },
           "zerolinecolor": "white",
           "zerolinewidth": 2
          }
         }
        }
       }
      },
      "text/html": [
       "<div>                            <div id=\"f9fe0016-c4c5-4dda-b399-e9f435a6713a\" class=\"plotly-graph-div\" style=\"height:525px; width:100%;\"></div>            <script type=\"text/javascript\">                require([\"plotly\"], function(Plotly) {                    window.PLOTLYENV=window.PLOTLYENV || {};                                    if (document.getElementById(\"f9fe0016-c4c5-4dda-b399-e9f435a6713a\")) {                    Plotly.newPlot(                        \"f9fe0016-c4c5-4dda-b399-e9f435a6713a\",                        [{\"name\":\"fBM with drift (1.0, 3.0, 0.5, H=0.8)\",\"x\":[0.0,0.1,0.2,0.30000000000000004,0.4,0.5,0.6000000000000001,0.7000000000000001,0.8,0.9,1.0,1.1,1.2000000000000002,1.3,1.4000000000000001,1.5,1.6,1.7000000000000002,1.8,1.9000000000000001,2.0,2.1,2.2,2.3000000000000003,2.4000000000000004,2.5,2.6,2.7,2.8000000000000003,2.9000000000000004,3.0,3.1,3.2,3.3000000000000003,3.4000000000000004,3.5,3.6,3.7,3.8000000000000003,3.9000000000000004,4.0,4.1000000000000005,4.2,4.3,4.4,4.5,4.6000000000000005,4.7,4.800000000000001,4.9,5.0,5.1000000000000005,5.2,5.300000000000001,5.4,5.5,5.6000000000000005,5.7,5.800000000000001,5.9,6.0,6.1000000000000005,6.2,6.300000000000001,6.4,6.5,6.6000000000000005,6.7,6.800000000000001,6.9,7.0,7.1000000000000005,7.2,7.300000000000001,7.4,7.5,7.6000000000000005,7.7,7.800000000000001,7.9,8.0,8.1,8.200000000000001,8.3,8.4,8.5,8.6,8.700000000000001,8.8,8.9,9.0,9.1,9.200000000000001,9.3,9.4,9.5,9.600000000000001,9.700000000000001,9.8,9.9],\"y\":[0.26883333219030703,0.7963781559616053,0.8585169937884041,1.3288471451058588,1.5748597828484017,1.495833485750044,1.9688014824041142,1.7768673243700213,2.2513406556886784,1.9109867550005952,2.4208963910855736,2.130731015999314,2.4933555026108,2.601367237003612,2.7346895408594967,2.539112943758889,2.6713823296508985,2.7923161693610865,2.561401293730258,2.6857568759743202,2.573844947279086,2.7182530830903815,2.6768962982360107,2.6443125718559384,2.808273477476723,2.6664059637299675,3.048426019879087,2.844289609157753,3.0061043045570406,3.0412279110842984,3.0231899229271693,2.975997614520554,3.063246208757826,3.2519726230380104,3.203802192934101,3.0687415073464446,3.109455461615068,3.0264355492566755,3.2919102700239247,2.893647317018382,3.375946256233098,3.011924419632889,3.3427841266200042,2.8599902528272345,3.5230854956872895,2.679170235265734,3.6567649893586616,2.554589709861035,3.587997770048435,2.6682027988127306,3.2912437164104347,2.6339556286357855,2.950024822289572,2.629471079867729,2.9722600359892852,2.68335434368351,3.1707526278153355,2.452571410005266,2.8137658360050404,2.504703163673175,2.979270578522181,2.4594559099900137,3.088623134526693,2.4739984387490193,3.15934967345692,2.702465489008297,3.249992621021604,2.718811884585847,3.2061862694962384,2.6218682820965196,3.2689817539775152,2.6644620164364388,3.5556849546171367,2.735618000750647,3.5224028419939133,2.424097113827723,3.6198121364524605,2.7688954239001826,3.5253753230547913,2.828257120804385,3.4167581301876946,2.6846247148003997,3.5098054893049824,2.725631541103025,3.260946120290255,2.892587295636892,3.3328694509784405,2.9691706750812994,3.214308395112571,2.877931571521056,3.256643622857711,2.9978234946308144,3.177626998607249,2.9613748968496356,3.0111116726294638,2.881743041951903,2.941851789749928,2.899943824359848,3.3276815237081347,2.9302943802855004,3.3164116615001746],\"type\":\"scatter\"},{\"name\":\"fBM with drift (2.0, 5.0, 1.0, H=0.7)\",\"x\":[0.0,0.1,0.2,0.30000000000000004,0.4,0.5,0.6000000000000001,0.7000000000000001,0.8,0.9,1.0,1.1,1.2000000000000002,1.3,1.4000000000000001,1.5,1.6,1.7000000000000002,1.8,1.9000000000000001,2.0,2.1,2.2,2.3000000000000003,2.4000000000000004,2.5,2.6,2.7,2.8000000000000003,2.9000000000000004,3.0,3.1,3.2,3.3000000000000003,3.4000000000000004,3.5,3.6,3.7,3.8000000000000003,3.9000000000000004,4.0,4.1000000000000005,4.2,4.3,4.4,4.5,4.6000000000000005,4.7,4.800000000000001,4.9,5.0,5.1000000000000005,5.2,5.300000000000001,5.4,5.5,5.6000000000000005,5.7,5.800000000000001,5.9,6.0,6.1000000000000005,6.2,6.300000000000001,6.4,6.5,6.6000000000000005,6.7,6.800000000000001,6.9,7.0,7.1000000000000005,7.2,7.300000000000001,7.4,7.5,7.6000000000000005,7.7,7.800000000000001,7.9,8.0,8.1,8.200000000000001,8.3,8.4,8.5,8.6,8.700000000000001,8.8,8.9,9.0,9.1,9.200000000000001,9.3,9.4,9.5,9.600000000000001,9.700000000000001,9.8,9.9],\"y\":[1.1099369300948907,1.70003700066271,2.3453320581539048,2.829833217199017,3.6295174311875362,3.641446673322186,4.384813292012046,4.233978162296766,4.458288686390095,4.42271946242685,4.50994938426984,4.412544559189956,4.447248976407532,5.247574845499254,4.261381312170878,5.415778617559507,4.94459166058989,5.394002855661869,5.145506958848098,4.687089170686214,5.309560052763672,5.005075692838777,4.854857138436127,5.181251005325311,5.281004354716834,4.839043949451684,5.564817602133416,4.996005281560219,5.5448883881321125,4.430866075575318,5.476587903958087,4.215104663551187,5.254045106730135,4.123411419978522,5.769479527016445,3.654931713053533,5.89936558698605,3.76427588496387,5.954383570085309,3.4763774168814985,5.264208450116769,3.958950506387461,5.342978813108421,3.83501398863655,5.024864909535173,3.6325974668908363,4.971884809798261,3.966792583030421,4.818817520760161,3.7451599332314083,5.190581724223669,4.477774011038649,5.798104897881917,4.419050656479662,5.892788564306836,4.815353652699589,5.6432513892911125,4.677335248552553,5.788595907180174,4.143911940333915,6.126720795600896,4.7039877983781775,6.089653763698287,4.572162679238625,6.185817656534963,4.150275384095566,6.119495965665578,4.107452833824225,6.187224236945811,3.5490146632805333,6.339647228288769,3.8728436399384867,5.9698029111721365,4.063402439960864,5.875854360559178,4.100074970989988,6.10417581407,3.9237117469395453,5.860327848296232,4.195858799205071,6.090711171937904,4.427046464332506,5.950682850075067,4.158122234875201,5.8284264439777544,4.2792681773280545,5.770309586789605,4.441085362274579,5.371081853088505,4.561544954346949,5.234884408117631,4.027773138158658,6.011607798714735,4.136936847896018,6.401291946611845,3.416156275322868,6.417517551275938,3.8449184619006074,6.859323316453996,4.0125799213084274,6.1945717454849065],\"type\":\"scatter\"},{\"name\":\"fBM with drift (3.0, 2.0, 0.5, H=0.3)\",\"x\":[0.0,0.1,0.2,0.30000000000000004,0.4,0.5,0.6000000000000001,0.7000000000000001,0.8,0.9,1.0,1.1,1.2000000000000002,1.3,1.4000000000000001,1.5,1.6,1.7000000000000002,1.8,1.9000000000000001,2.0,2.1,2.2,2.3000000000000003,2.4000000000000004,2.5,2.6,2.7,2.8000000000000003,2.9000000000000004,3.0,3.1,3.2,3.3000000000000003,3.4000000000000004,3.5,3.6,3.7,3.8000000000000003,3.9000000000000004,4.0,4.1000000000000005,4.2,4.3,4.4,4.5,4.6000000000000005,4.7,4.800000000000001,4.9,5.0,5.1000000000000005,5.2,5.300000000000001,5.4,5.5,5.6000000000000005,5.7,5.800000000000001,5.9,6.0,6.1000000000000005,6.2,6.300000000000001,6.4,6.5,6.6000000000000005,6.7,6.800000000000001,6.9,7.0,7.1000000000000005,7.2,7.300000000000001,7.4,7.5,7.6000000000000005,7.7,7.800000000000001,7.9,8.0,8.1,8.200000000000001,8.3,8.4,8.5,8.6,8.700000000000001,8.8,8.9,9.0,9.1,9.200000000000001,9.3,9.4,9.5,9.600000000000001,9.700000000000001,9.8,9.9],\"y\":[0.7917621675518012,1.0481537618067127,1.220698016692962,1.1956501082948114,1.9365670760401112,1.3915936711651269,2.299236283570627,1.5756446333877792,2.23988202720982,1.6154844845174297,1.9722813332855043,1.820750541758375,1.7485863295795359,1.881508943710603,1.5829415052517959,1.90785403833613,1.8070809799799117,1.989939121657334,1.7990002717909235,2.188177802390886,1.8588299569066495,2.133129328201899,1.8002986537384498,1.9491469949912918,1.8688126526267064,2.0857336714095562,1.602128489055201,2.052687468425505,1.7822904134795066,2.166537657246564,1.8427785312117868,2.3458314762159516,1.9470739633318375,2.2499386237590326,2.213707715873847,2.1963950912608587,2.2352883554597804,1.8634316251981566,2.0998281761619007,1.627161700660347,2.3153355891005676,1.706430118056668,2.0758674376466963,1.9464188492738186,2.1959043577359063,1.9118903513369412,2.2237293537875824,1.5887663654444302,2.246592103094417,1.7513104185531907,2.1507774047974433,1.8451814143179044,2.220674500636465,1.9210547641482179,2.3053027435952047,2.0701747294479684,2.0131673038514184,1.8934507048365263,1.9022160782023363,2.1856746594343877,1.7795588836354082,1.9512347988020542,1.6633249003727466,2.172562587918934,1.5647815632752913,2.2315616975527965,1.801326360941543,2.416820599770557,2.0121952691639855,2.5275066857915207,1.6480319304793243,2.5842191458307866,1.6259419548485203,2.3028443745003093,1.489974784005522,2.421035897449168,1.5659233874413068,2.2864854376000583,1.5614012769175716,2.4269175831100283,1.757744220891846,2.6750771317565185,1.555420886368431,2.7079180002673695,1.6228405069132938,2.9298820189290207,1.5752157623045266,2.730159747967428,1.5110562021591596,2.551639832395984,1.687505512228271,2.556263421525525,1.4376503185275507,2.6400643769220866,1.5709045927356344,2.890752967346128,1.6317824474036606,2.6594321358699613,1.4505442454553452,2.660859400539379,1.3456676990946628],\"type\":\"scatter\"}],                        {\"showlegend\":false,\"template\":{\"data\":{\"barpolar\":[{\"marker\":{\"line\":{\"color\":\"#E5ECF6\",\"width\":0.5},\"pattern\":{\"fillmode\":\"overlay\",\"size\":10,\"solidity\":0.2}},\"type\":\"barpolar\"}],\"bar\":[{\"error_x\":{\"color\":\"#2a3f5f\"},\"error_y\":{\"color\":\"#2a3f5f\"},\"marker\":{\"line\":{\"color\":\"#E5ECF6\",\"width\":0.5},\"pattern\":{\"fillmode\":\"overlay\",\"size\":10,\"solidity\":0.2}},\"type\":\"bar\"}],\"carpet\":[{\"aaxis\":{\"endlinecolor\":\"#2a3f5f\",\"gridcolor\":\"white\",\"linecolor\":\"white\",\"minorgridcolor\":\"white\",\"startlinecolor\":\"#2a3f5f\"},\"baxis\":{\"endlinecolor\":\"#2a3f5f\",\"gridcolor\":\"white\",\"linecolor\":\"white\",\"minorgridcolor\":\"white\",\"startlinecolor\":\"#2a3f5f\"},\"type\":\"carpet\"}],\"choropleth\":[{\"colorbar\":{\"outlinewidth\":0,\"ticks\":\"\"},\"type\":\"choropleth\"}],\"contourcarpet\":[{\"colorbar\":{\"outlinewidth\":0,\"ticks\":\"\"},\"type\":\"contourcarpet\"}],\"contour\":[{\"colorbar\":{\"outlinewidth\":0,\"ticks\":\"\"},\"colorscale\":[[0.0,\"#0d0887\"],[0.1111111111111111,\"#46039f\"],[0.2222222222222222,\"#7201a8\"],[0.3333333333333333,\"#9c179e\"],[0.4444444444444444,\"#bd3786\"],[0.5555555555555556,\"#d8576b\"],[0.6666666666666666,\"#ed7953\"],[0.7777777777777778,\"#fb9f3a\"],[0.8888888888888888,\"#fdca26\"],[1.0,\"#f0f921\"]],\"type\":\"contour\"}],\"heatmapgl\":[{\"colorbar\":{\"outlinewidth\":0,\"ticks\":\"\"},\"colorscale\":[[0.0,\"#0d0887\"],[0.1111111111111111,\"#46039f\"],[0.2222222222222222,\"#7201a8\"],[0.3333333333333333,\"#9c179e\"],[0.4444444444444444,\"#bd3786\"],[0.5555555555555556,\"#d8576b\"],[0.6666666666666666,\"#ed7953\"],[0.7777777777777778,\"#fb9f3a\"],[0.8888888888888888,\"#fdca26\"],[1.0,\"#f0f921\"]],\"type\":\"heatmapgl\"}],\"heatmap\":[{\"colorbar\":{\"outlinewidth\":0,\"ticks\":\"\"},\"colorscale\":[[0.0,\"#0d0887\"],[0.1111111111111111,\"#46039f\"],[0.2222222222222222,\"#7201a8\"],[0.3333333333333333,\"#9c179e\"],[0.4444444444444444,\"#bd3786\"],[0.5555555555555556,\"#d8576b\"],[0.6666666666666666,\"#ed7953\"],[0.7777777777777778,\"#fb9f3a\"],[0.8888888888888888,\"#fdca26\"],[1.0,\"#f0f921\"]],\"type\":\"heatmap\"}],\"histogram2dcontour\":[{\"colorbar\":{\"outlinewidth\":0,\"ticks\":\"\"},\"colorscale\":[[0.0,\"#0d0887\"],[0.1111111111111111,\"#46039f\"],[0.2222222222222222,\"#7201a8\"],[0.3333333333333333,\"#9c179e\"],[0.4444444444444444,\"#bd3786\"],[0.5555555555555556,\"#d8576b\"],[0.6666666666666666,\"#ed7953\"],[0.7777777777777778,\"#fb9f3a\"],[0.8888888888888888,\"#fdca26\"],[1.0,\"#f0f921\"]],\"type\":\"histogram2dcontour\"}],\"histogram2d\":[{\"colorbar\":{\"outlinewidth\":0,\"ticks\":\"\"},\"colorscale\":[[0.0,\"#0d0887\"],[0.1111111111111111,\"#46039f\"],[0.2222222222222222,\"#7201a8\"],[0.3333333333333333,\"#9c179e\"],[0.4444444444444444,\"#bd3786\"],[0.5555555555555556,\"#d8576b\"],[0.6666666666666666,\"#ed7953\"],[0.7777777777777778,\"#fb9f3a\"],[0.8888888888888888,\"#fdca26\"],[1.0,\"#f0f921\"]],\"type\":\"histogram2d\"}],\"histogram\":[{\"marker\":{\"pattern\":{\"fillmode\":\"overlay\",\"size\":10,\"solidity\":0.2}},\"type\":\"histogram\"}],\"mesh3d\":[{\"colorbar\":{\"outlinewidth\":0,\"ticks\":\"\"},\"type\":\"mesh3d\"}],\"parcoords\":[{\"line\":{\"colorbar\":{\"outlinewidth\":0,\"ticks\":\"\"}},\"type\":\"parcoords\"}],\"pie\":[{\"automargin\":true,\"type\":\"pie\"}],\"scatter3d\":[{\"line\":{\"colorbar\":{\"outlinewidth\":0,\"ticks\":\"\"}},\"marker\":{\"colorbar\":{\"outlinewidth\":0,\"ticks\":\"\"}},\"type\":\"scatter3d\"}],\"scattercarpet\":[{\"marker\":{\"colorbar\":{\"outlinewidth\":0,\"ticks\":\"\"}},\"type\":\"scattercarpet\"}],\"scattergeo\":[{\"marker\":{\"colorbar\":{\"outlinewidth\":0,\"ticks\":\"\"}},\"type\":\"scattergeo\"}],\"scattergl\":[{\"marker\":{\"colorbar\":{\"outlinewidth\":0,\"ticks\":\"\"}},\"type\":\"scattergl\"}],\"scattermapbox\":[{\"marker\":{\"colorbar\":{\"outlinewidth\":0,\"ticks\":\"\"}},\"type\":\"scattermapbox\"}],\"scatterpolargl\":[{\"marker\":{\"colorbar\":{\"outlinewidth\":0,\"ticks\":\"\"}},\"type\":\"scatterpolargl\"}],\"scatterpolar\":[{\"marker\":{\"colorbar\":{\"outlinewidth\":0,\"ticks\":\"\"}},\"type\":\"scatterpolar\"}],\"scatter\":[{\"fillpattern\":{\"fillmode\":\"overlay\",\"size\":10,\"solidity\":0.2},\"type\":\"scatter\"}],\"scatterternary\":[{\"marker\":{\"colorbar\":{\"outlinewidth\":0,\"ticks\":\"\"}},\"type\":\"scatterternary\"}],\"surface\":[{\"colorbar\":{\"outlinewidth\":0,\"ticks\":\"\"},\"colorscale\":[[0.0,\"#0d0887\"],[0.1111111111111111,\"#46039f\"],[0.2222222222222222,\"#7201a8\"],[0.3333333333333333,\"#9c179e\"],[0.4444444444444444,\"#bd3786\"],[0.5555555555555556,\"#d8576b\"],[0.6666666666666666,\"#ed7953\"],[0.7777777777777778,\"#fb9f3a\"],[0.8888888888888888,\"#fdca26\"],[1.0,\"#f0f921\"]],\"type\":\"surface\"}],\"table\":[{\"cells\":{\"fill\":{\"color\":\"#EBF0F8\"},\"line\":{\"color\":\"white\"}},\"header\":{\"fill\":{\"color\":\"#C8D4E3\"},\"line\":{\"color\":\"white\"}},\"type\":\"table\"}]},\"layout\":{\"annotationdefaults\":{\"arrowcolor\":\"#2a3f5f\",\"arrowhead\":0,\"arrowwidth\":1},\"autotypenumbers\":\"strict\",\"coloraxis\":{\"colorbar\":{\"outlinewidth\":0,\"ticks\":\"\"}},\"colorscale\":{\"diverging\":[[0,\"#8e0152\"],[0.1,\"#c51b7d\"],[0.2,\"#de77ae\"],[0.3,\"#f1b6da\"],[0.4,\"#fde0ef\"],[0.5,\"#f7f7f7\"],[0.6,\"#e6f5d0\"],[0.7,\"#b8e186\"],[0.8,\"#7fbc41\"],[0.9,\"#4d9221\"],[1,\"#276419\"]],\"sequential\":[[0.0,\"#0d0887\"],[0.1111111111111111,\"#46039f\"],[0.2222222222222222,\"#7201a8\"],[0.3333333333333333,\"#9c179e\"],[0.4444444444444444,\"#bd3786\"],[0.5555555555555556,\"#d8576b\"],[0.6666666666666666,\"#ed7953\"],[0.7777777777777778,\"#fb9f3a\"],[0.8888888888888888,\"#fdca26\"],[1.0,\"#f0f921\"]],\"sequentialminus\":[[0.0,\"#0d0887\"],[0.1111111111111111,\"#46039f\"],[0.2222222222222222,\"#7201a8\"],[0.3333333333333333,\"#9c179e\"],[0.4444444444444444,\"#bd3786\"],[0.5555555555555556,\"#d8576b\"],[0.6666666666666666,\"#ed7953\"],[0.7777777777777778,\"#fb9f3a\"],[0.8888888888888888,\"#fdca26\"],[1.0,\"#f0f921\"]]},\"colorway\":[\"#636efa\",\"#EF553B\",\"#00cc96\",\"#ab63fa\",\"#FFA15A\",\"#19d3f3\",\"#FF6692\",\"#B6E880\",\"#FF97FF\",\"#FECB52\"],\"font\":{\"color\":\"#2a3f5f\"},\"geo\":{\"bgcolor\":\"white\",\"lakecolor\":\"white\",\"landcolor\":\"#E5ECF6\",\"showlakes\":true,\"showland\":true,\"subunitcolor\":\"white\"},\"hoverlabel\":{\"align\":\"left\"},\"hovermode\":\"closest\",\"mapbox\":{\"style\":\"light\"},\"paper_bgcolor\":\"white\",\"plot_bgcolor\":\"#E5ECF6\",\"polar\":{\"angularaxis\":{\"gridcolor\":\"white\",\"linecolor\":\"white\",\"ticks\":\"\"},\"bgcolor\":\"#E5ECF6\",\"radialaxis\":{\"gridcolor\":\"white\",\"linecolor\":\"white\",\"ticks\":\"\"}},\"scene\":{\"xaxis\":{\"backgroundcolor\":\"#E5ECF6\",\"gridcolor\":\"white\",\"gridwidth\":2,\"linecolor\":\"white\",\"showbackground\":true,\"ticks\":\"\",\"zerolinecolor\":\"white\"},\"yaxis\":{\"backgroundcolor\":\"#E5ECF6\",\"gridcolor\":\"white\",\"gridwidth\":2,\"linecolor\":\"white\",\"showbackground\":true,\"ticks\":\"\",\"zerolinecolor\":\"white\"},\"zaxis\":{\"backgroundcolor\":\"#E5ECF6\",\"gridcolor\":\"white\",\"gridwidth\":2,\"linecolor\":\"white\",\"showbackground\":true,\"ticks\":\"\",\"zerolinecolor\":\"white\"}},\"shapedefaults\":{\"line\":{\"color\":\"#2a3f5f\"}},\"ternary\":{\"aaxis\":{\"gridcolor\":\"white\",\"linecolor\":\"white\",\"ticks\":\"\"},\"baxis\":{\"gridcolor\":\"white\",\"linecolor\":\"white\",\"ticks\":\"\"},\"bgcolor\":\"#E5ECF6\",\"caxis\":{\"gridcolor\":\"white\",\"linecolor\":\"white\",\"ticks\":\"\"}},\"title\":{\"x\":0.05},\"xaxis\":{\"automargin\":true,\"gridcolor\":\"white\",\"linecolor\":\"white\",\"ticks\":\"\",\"title\":{\"standoff\":15},\"zerolinecolor\":\"white\",\"zerolinewidth\":2},\"yaxis\":{\"automargin\":true,\"gridcolor\":\"white\",\"linecolor\":\"white\",\"ticks\":\"\",\"title\":{\"standoff\":15},\"zerolinecolor\":\"white\",\"zerolinewidth\":2}}}},                        {\"responsive\": true}                    ).then(function(){\n",
       "                            \n",
       "var gd = document.getElementById('f9fe0016-c4c5-4dda-b399-e9f435a6713a');\n",
       "var x = new MutationObserver(function (mutations, observer) {{\n",
       "        var display = window.getComputedStyle(gd).display;\n",
       "        if (!display || display === 'none') {{\n",
       "            console.log([gd, 'removed!']);\n",
       "            Plotly.purge(gd);\n",
       "            observer.disconnect();\n",
       "        }}\n",
       "}});\n",
       "\n",
       "// Listen for the removal of the full notebook cells\n",
       "var notebookContainer = gd.closest('#notebook-container');\n",
       "if (notebookContainer) {{\n",
       "    x.observe(notebookContainer, {childList: true});\n",
       "}}\n",
       "\n",
       "// Listen for the clearing of the current output cell\n",
       "var outputEl = gd.closest('.output');\n",
       "if (outputEl) {{\n",
       "    x.observe(outputEl, {childList: true});\n",
       "}}\n",
       "\n",
       "                        })                };                });            </script>        </div>"
      ]
     },
     "metadata": {},
     "output_type": "display_data"
    }
   ],
   "source": [
    "# note method 2 of simulation here: https://en.wikipedia.org/wiki/Fractional_Brownian_motion\n",
    "t_period = 10.0\n",
    "t_step = 0.1\n",
    "\n",
    "def K(H: float, t: np.ndarray, s: np.ndarray) -> np.ndarray:\n",
    "    output = (\n",
    "        ((t-s) ** (H - 0.5)) \n",
    "        * sps.hyp2f1(H - 0.5, 0.5 - H, H + 0.5, 1.0 - t/s)\n",
    "        / sps.gamma(H + 0.5)\n",
    "    )\n",
    "    output[s==0] = 1.0\n",
    "    return output\n",
    "\n",
    "def brownian_motion_iterate(previous: np.ndarray) -> np.ndarray:\n",
    "    new = np.roll(previous, 1, axis=0)\n",
    "    new[0] = np.sqrt(t_step) * np.random.normal(\n",
    "        np.zeros(3), \n",
    "        np.asarray([0.5, 1.0, 0.5]), \n",
    "        size=3,\n",
    "    )\n",
    "    return new\n",
    "\n",
    "def fractional_brownian_motion( \n",
    "    X_prime: np.ndarray, \n",
    "    S_prime: np.ndarray,\n",
    "    t: float, \n",
    "    delta_t: float,\n",
    "    other: np.ndarray,\n",
    ") -> np.ndarray:\n",
    "    fBm_vector = -S_prime[0]\n",
    "    n = int(np.round(t / delta_t, 1))\n",
    "    H_values = [0.8, 0.7, 0.3]\n",
    "    for i in range(3):\n",
    "        if t == 0:\n",
    "            fBm_vector[i] = other[0, i]\n",
    "            continue\n",
    "        fBm_vector[i] += np.sum(\n",
    "            K(H_values[i], t, delta_t * np.arange(0, n)) * other[:n, i]\n",
    "        ) # 'other' is the Brownian motion current windowed history\n",
    "    return fBm_vector\n",
    "\n",
    "plot_x_time_series(\n",
    "    t_period,\n",
    "    t_step, \n",
    "    np.zeros((2, 3)),\n",
    "    np.zeros((2, 3)), \n",
    "    lambda X_prime, t, delta_t: (\n",
    "        X_prime[0] - delta_t * np.asarray([1.0, 2.0, 3.0]) * (\n",
    "            X_prime[0] - np.asarray([3.0, 5.0, 2.0])\n",
    "        )\n",
    "    ),\n",
    "    fractional_brownian_motion, \n",
    "    \"images/fbm_noise.html\",\n",
    "    [\n",
    "        \"fBM with drift (1.0, 3.0, 0.5, H=0.8)\",\n",
    "        \"fBM with drift (2.0, 5.0, 1.0, H=0.7)\",\n",
    "        \"fBM with drift (3.0, 2.0, 0.5, H=0.3)\",\n",
    "    ],\n",
    "    other_noise_init=np.zeros((int(t_period / t_step) + 1, 3)),\n",
    "    other_noise_iterate=brownian_motion_iterate,\n",
    ")"
   ]
  },
  {
   "cell_type": "markdown",
   "metadata": {},
   "source": [
    "**Generalised continuous noises** would take the form\n",
    "\n",
    "$$\n",
    "\\begin{align}\n",
    "& X^i_{t+\\delta t} = F^i_{t+\\delta t}(X', t) + \\textcolor{red}{g^i_{t+\\delta t}(X', W^i_{t+\\delta t}-W^i_t, \\dots)},\n",
    "\\end{align}\n",
    "$$\n",
    "\n",
    "where $g^i_{t+\\delta t}(X', W^i_{t+\\delta t}-W^i_t, \\dots)$ is some continuous function of its arguments which can be expanded out with [Itôs Lemma](https://en.wikipedia.org/wiki/It%C3%B4%27s_lemma)."
   ]
  },
  {
   "cell_type": "code",
   "execution_count": null,
   "metadata": {},
   "outputs": [],
   "source": []
  },
  {
   "cell_type": "markdown",
   "metadata": {},
   "source": [
    "**Flavours of noise with discontinuous sample paths**\n",
    "\n",
    "**Jump process noises** generally could take the form\n",
    "\n",
    "$$\n",
    "\\begin{align}\n",
    "& X^i_{t+\\delta t} = F^i_{t+\\delta t}(X', t) + \\textcolor{red}{J^i_{t+\\delta t}(X', \\dots )},\n",
    "\\end{align}\n",
    "$$\n",
    "\n",
    "where $J^i_{t+\\delta t}(X', \\dots )$ are samples from some arbitrary jump process (e.g., compound Poisson) which could generally depend on a variety of inputs, including $X'$. "
   ]
  },
  {
   "cell_type": "code",
   "execution_count": null,
   "metadata": {},
   "outputs": [],
   "source": []
  },
  {
   "cell_type": "markdown",
   "metadata": {},
   "source": [
    "**Poisson process noises** would generally take the form\n",
    "\n",
    "$$\n",
    "\\begin{align}\n",
    "& X^i_{t+\\delta t} = F^i_{t+\\delta t}(X', t) + \\textcolor{red}{N^i_{t+\\delta t}({\\lambda_i})-N^i_{t}({\\lambda_i})},\n",
    "\\end{align}\n",
    "$$\n",
    "\n",
    "where $N^i_{t}({\\lambda_i})$ is a sample from a Poisson process with rate $\\lambda_i$ for each of the state dimensions indexed by $i$. Note that we may also allow for correlations between the noises in different dimensions."
   ]
  },
  {
   "cell_type": "code",
   "execution_count": null,
   "metadata": {},
   "outputs": [],
   "source": []
  },
  {
   "cell_type": "markdown",
   "metadata": {},
   "source": [
    "**Time-inhomogeneous Poisson process noises** would generally take the form\n",
    "\n",
    "$$\n",
    "\\begin{align}\n",
    "& X^i_{t+\\delta t} = F^i_{t+\\delta t}(X', t) + \\textcolor{red}{N^i_{t+\\delta t}({\\lambda^i_{t+\\delta t}})-N^i_{t}({\\lambda^i_t})},\n",
    "\\end{align}\n",
    "$$\n",
    "\n",
    "where $\\lambda^i_{t}$ is a deterministically-varying rate for each of the state dimensions indexed by $i$."
   ]
  },
  {
   "cell_type": "code",
   "execution_count": null,
   "metadata": {},
   "outputs": [],
   "source": []
  },
  {
   "cell_type": "markdown",
   "metadata": {},
   "source": [
    "**Cox (doubly-stochastic) process noises** would generally take the form\n",
    "\n",
    "$$\n",
    "\\begin{align}\n",
    "& X^i_{t+\\delta t} = F^i_{t+\\delta t}(X', t) + \\textcolor{red}{N^i_{t+\\delta t}({\\Lambda^i_{t+\\delta t}})-N^i_{t}({\\Lambda^i_{t}})},\n",
    "\\end{align}\n",
    "$$\n",
    "\n",
    "where the rate $\\Lambda^i_{t}$ is now a sample from some continuous-time stochastic process (in the positive-only domain) for each of the state dimensions indexed by $i$."
   ]
  },
  {
   "cell_type": "code",
   "execution_count": null,
   "metadata": {},
   "outputs": [],
   "source": []
  },
  {
   "cell_type": "markdown",
   "metadata": {},
   "source": [
    "**Self-exciting process noises** would generally take the form\n",
    "\n",
    "$$\n",
    "\\begin{align}\n",
    "& X^i_{t+\\delta t} = F^i_{t+\\delta t}(X', t) + \\textcolor{red}{N^i_{t+\\delta t}[{\\cal I}^i_{t+\\delta t}(N', \\dots)]-N^i_{t}[{\\cal I}^i_{t}(N'', \\dots)]},\n",
    "\\end{align}\n",
    "$$\n",
    "\n",
    "where the stochastic rate ${\\cal I}^i_{t}(N', \\dots)$ now depends on the history of $N'$ explicitly (amongst other potential inputs - see, e.g., [Hawkes processes](https://en.wikipedia.org/wiki/Hawkes_process)) for each of the state dimensions indexed by $i$."
   ]
  },
  {
   "cell_type": "code",
   "execution_count": null,
   "metadata": {},
   "outputs": [],
   "source": []
  },
  {
   "cell_type": "markdown",
   "metadata": {},
   "source": [
    "**Generalised probabilistic discrete state transitions** would take the form\n",
    "\n",
    "$$\n",
    "\\begin{align}\n",
    "& X^i_{t+\\delta t} = \\cancel{F^i_{t+\\delta t}(X', t)} + \\textcolor{red}{T^i_{t+\\delta t}(X')},\n",
    "\\end{align}\n",
    "$$\n",
    "\n",
    "where $T^i_{t+\\delta t}(X')$ is a generator of the next state to occupy. This generator uses the current state transition probabilities (which are generally conditional on $X'$) at each new step."
   ]
  },
  {
   "cell_type": "code",
   "execution_count": null,
   "metadata": {},
   "outputs": [],
   "source": []
  },
  {
   "cell_type": "markdown",
   "metadata": {},
   "source": [
    "**Summary of desirable features**\n",
    "\n",
    "- using the learnings from the previous sections looking at specific example processes\n",
    "- above formalism is so general that it can do anything - so while it shall serve as a useful guide and reference point, it would be good here to go through more of the specific desirable components we want to have access to in the software itself\n",
    "- it might not always be convenient to have the windowed histories stored as S but some other varying quantity which can be used to construct S? take fractional brownian motion as an example of this!\n",
    "- want the timestep to have either exponentially-sampled lengths or fixed lengths in time\n",
    "- formalism already isn't explicit about the choice of deterministic integrator in time\n",
    "- but also want to be able to choose the stochastic integrator in continuous processes (Itô or Stratonovich?)\n",
    "- enable correlated noise terms at the sample generator level"
   ]
  },
  {
   "cell_type": "markdown",
   "metadata": {},
   "source": [
    "**Design choices for the stochadex**"
   ]
  },
  {
   "cell_type": "markdown",
   "metadata": {},
   "source": []
  }
 ],
 "metadata": {
  "celltoolbar": "Tags",
  "kernelspec": {
   "display_name": "Python 3.10.6 ('venv': venv)",
   "language": "python",
   "name": "python3"
  },
  "language_info": {
   "codemirror_mode": {
    "name": "ipython",
    "version": 3
   },
   "file_extension": ".py",
   "mimetype": "text/x-python",
   "name": "python",
   "nbconvert_exporter": "python",
   "pygments_lexer": "ipython3",
   "version": "3.10.6"
  },
  "vscode": {
   "interpreter": {
    "hash": "9b30f953c95ec07fb8b8ad0e6eca76b4aa32174626ca0c995f823cd3fc2eb87e"
   }
  }
 },
 "nbformat": 4,
 "nbformat_minor": 2
}
