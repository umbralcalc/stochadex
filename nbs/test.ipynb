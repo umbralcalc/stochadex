{
 "cells": [
  {
   "cell_type": "code",
   "execution_count": null,
   "metadata": {},
   "outputs": [
    {
     "name": "stderr",
     "output_type": "stream",
     "text": [
      "panic: runtime error: index out of range [1] with length 1\n",
      "\n",
      "goroutine 1 [running]:\n",
      "github.com/umbralcalc/stochadex/pkg/analysis.NewScatterPlotFromPartition.WithYAxisOpts.func2(0xc0001f8c08)\n",
      "\t/home/robert/Code/go/pkg/mod/github.com/go-echarts/go-echarts/v2@v2.4.4/charts/rectangle.go:51 +0x13f\n",
      "github.com/go-echarts/go-echarts/v2/charts.(*BaseConfiguration).setBaseGlobalOptions(...)\n",
      "\t/home/robert/Code/go/pkg/mod/github.com/go-echarts/go-echarts/v2@v2.4.4/charts/base.go:243\n",
      "github.com/go-echarts/go-echarts/v2/charts.(*RectConfiguration).setRectGlobalOptions(...)\n",
      "\t/home/robert/Code/go/pkg/mod/github.com/go-echarts/go-echarts/v2@v2.4.4/charts/rectangle.go:62\n",
      "github.com/go-echarts/go-echarts/v2/charts.(*RectChart).SetGlobalOptions(...)\n",
      "\t/home/robert/Code/go/pkg/mod/github.com/go-echarts/go-echarts/v2@v2.4.4/charts/rectangle.go:78\n",
      "github.com/umbralcalc/stochadex/pkg/analysis.NewScatterPlotFromPartition(0xc000139ac0, 0xc000165e20)\n",
      "\t/home/robert/Code/go/stochadex/pkg/analysis/display.go:94 +0x82a\n",
      "main.main()\n",
      "\t \u001b[7m[[ Cell [15] Line 24 ]]\u001b[0m /tmp/gonb_81357acd/main.go:27 +0x2c8\n",
      "exit status 2\n"
     ]
    }
   ],
   "source": [
    "!*go mod edit -replace \"github.com/umbralcalc/stochadex=/home/robert/Code/go/stochadex\"\n",
    "\n",
    "import (\n",
    "\t\"strconv\"\n",
    "\t\n",
    "\t\"github.com/umbralcalc/stochadex/pkg/analysis\"\n",
    "\t\"github.com/go-echarts/go-echarts/v2/opts\"\n",
    "\tgonb_echarts \"github.com/janpfeifer/gonb-echarts\"\n",
    ")\n",
    "\n",
    "%%\n",
    "storage, err := analysis.NewStateTimeStorageFromJsonLogEntries(\"/home/robert/Code/go/stochadex/log/test.log\")\n",
    "yRefs := make([]analysis.PlotDataRef, 0)\n",
    "for i := 0; i < 4; i++ {\n",
    "\tyRefs = append(yRefs, analysis.PlotDataRef{\n",
    "\t\tPartitionName: \"first_wiener_process\",\n",
    "\t\tValueIndex: i,\n",
    "\t})\n",
    "}\n",
    "err = gonb_echarts.Display(\n",
    "\tanalysis.NewScatterPlotFromPartition(\n",
    "        storage,\n",
    "\t\t&analysis.ScatterPlotConfig{\n",
    "\t\t\tXRefs: []analysis.PlotDataRef{{\n",
    "\t\t\t\tPartitionName: \"first_wiener_process\",\n",
    "\t\t\t\tIsTime: true,\n",
    "\t\t\t}},\n",
    "\t\t\tYRefs: yRefs,\n",
    "\t\t},\n",
    "\t), \n",
    "\t\"width: 1024px; height:400px; background: white;\",\n",
    ")\n",
    "if err != nil {\n",
    "\tfmt.Printf(\"Error: %+v\\n\", err)\n",
    "}"
   ]
  },
  {
   "cell_type": "code",
   "execution_count": null,
   "metadata": {},
   "outputs": [],
   "source": [
    "\n"
   ]
  }
 ],
 "metadata": {
  "kernelspec": {
   "display_name": "Go (gonb)",
   "language": "go",
   "name": "gonb"
  },
  "language_info": {
   "codemirror_mode": "",
   "file_extension": ".go",
   "mimetype": "",
   "name": "go",
   "nbconvert_exporter": "",
   "pygments_lexer": "",
   "version": "go1.23.2"
  }
 },
 "nbformat": 4,
 "nbformat_minor": 2
}
