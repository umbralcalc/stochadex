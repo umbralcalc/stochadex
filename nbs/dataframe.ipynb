{
 "cells": [
  {
   "cell_type": "markdown",
   "metadata": {},
   "source": [
    "# Examples with Dataframes\n",
    "\n",
    "> **These are Go notebooks**: In order to use the GoNB Jupyter Kernel, please install GoNB from here: [https://github.com/janpfeifer/gonb](https://github.com/janpfeifer/gonb)\n",
    "\n",
    "Note also that for local package development, you can put: `!*go mod edit -replace \"github.com/umbralcalc/stochadex=/path/to/stochadex\"` at the top of any cell."
   ]
  },
  {
   "cell_type": "markdown",
   "metadata": {},
   "source": [
    "## Simulation inference\n",
    "\n",
    "WIP - how do we get convenient Poisson data here?"
   ]
  },
  {
   "cell_type": "code",
   "execution_count": null,
   "metadata": {},
   "outputs": [],
   "source": [
    "import (\n",
    "\t\"github.com/umbralcalc/stochadex/pkg/simulator\"\n",
    "\t\"github.com/umbralcalc/stochadex/pkg/analysis\"\n",
    "\t\"github.com/umbralcalc/stochadex/pkg/discrete\"\n",
    "\n",
    "\t\"github.com/go-echarts/go-echarts/v2/opts\"\n",
    "\t\"github.com/go-echarts/go-echarts/v2/charts\"\n",
    "\tgonb_echarts \"github.com/janpfeifer/gonb-echarts\"\n",
    ")\n",
    "\n",
    "%%\n",
    "\n",
    "storage := analysis.NewStateTimeStorageFromPartitions(\n",
    "\t[]*simulator.PartitionConfig{{\n",
    "\t\tName:              \"poisson_data\",\n",
    "\t\tIteration:         &discrete.PoissonProcessIteration{},\n",
    "\t\tParams:            simulator.NewParams(map[string][]float64{\n",
    "\t\t    \"rates\": {0.002, 0.001, 0.004, 0.001},\n",
    "\t\t}),\n",
    "\t\tInitStateValues:   []float64{0.0, 0.0, 0.0, 0.0},\n",
    "\t\tStateHistoryDepth: 1,\n",
    "\t\tSeed:              123,\n",
    "\t}},\n",
    "\t&simulator.NumberOfStepsTerminationCondition{\n",
    "\t\tMaxNumberOfSteps: 100,\n",
    "\t},\n",
    "\t&simulator.ConstantTimestepFunction{\n",
    "\t\tStepsize: 1000.0,\n",
    "\t},\n",
    "\t1667980544.0,\n",
    ")\n",
    "xRef := analysis.DataRef{PartitionName: \"poisson_data\", IsTime: true}\n",
    "yRefs := analysis.DataRef{{\n",
    "\tPartitionName: \"poisson_data\",\n",
    "\tValueIndices: []int{0, 1, 2, 3},\n",
    "}}\n",
    "scatter := analysis.NewScatterPlotFromPartition(storage, xRef, yRefs)\n",
    "scatter.SetGlobalOptions(charts.WithXAxisOpts(opts.XAxis{Type: \"time\"}))\n",
    "gonb_echarts.Display(scatter, \"width: 1024px; height:400px; background: white;\")"
   ]
  },
  {
   "cell_type": "code",
   "execution_count": null,
   "metadata": {},
   "outputs": [],
   "source": []
  }
 ],
 "metadata": {
  "kernelspec": {
   "display_name": "Go (gonb)",
   "language": "go",
   "name": "gonb"
  },
  "language_info": {
   "codemirror_mode": "",
   "file_extension": ".go",
   "mimetype": "",
   "name": "go",
   "nbconvert_exporter": "",
   "pygments_lexer": "",
   "version": "go1.23.2"
  }
 },
 "nbformat": 4,
 "nbformat_minor": 2
}
