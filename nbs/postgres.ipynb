{
 "cells": [
  {
   "cell_type": "markdown",
   "metadata": {},
   "source": [
    "# Examples with a Postgres DB\n",
    "\n",
    "> **These are Go notebooks**: In order to use the GoNB Jupyter Kernel, please install GoNB from here: [https://github.com/janpfeifer/gonb](https://github.com/janpfeifer/gonb)\n",
    "\n",
    "Note also that for local package development, you can put: `!*go mod edit -replace \"github.com/umbralcalc/stochadex=/path/to/stochadex\"` at the top of any cell."
   ]
  },
  {
   "cell_type": "markdown",
   "metadata": {},
   "source": [
    "## Postgres writing"
   ]
  },
  {
   "cell_type": "code",
   "execution_count": null,
   "metadata": {},
   "outputs": [],
   "source": [
    "db := &analysis.PostgresDb{\n",
    "\tUser: \"\",\n",
    "\tPassword: \"\",\n",
    "\tDbname: \"\",\n",
    "\tTableName: \"\",\n",
    "}\n",
    "\n",
    "analysis.WriteStateTimeStorageToPostgresDb(db, storage)"
   ]
  },
  {
   "cell_type": "markdown",
   "metadata": {},
   "source": [
    "## Postgres querying"
   ]
  },
  {
   "cell_type": "code",
   "execution_count": null,
   "metadata": {},
   "outputs": [],
   "source": [
    "db := &analysis.PostgresDb{\n",
    "\tUser: \"\",\n",
    "\tPassword: \"\",\n",
    "\tDbname: \"\",\n",
    "\tTableName: \"\",\n",
    "}\n",
    "\n",
    "storage := analysis.NewStateTimeStorageFromPostgresDb(\n",
    "\tdb,\n",
    "\t[]string{\"partition_1\", \"partition_2\"},\n",
    "\t0.0,\n",
    "\t100.0,\n",
    ")"
   ]
  },
  {
   "cell_type": "markdown",
   "metadata": {},
   "source": [
    "## Grouped aggregations"
   ]
  },
  {
   "cell_type": "code",
   "execution_count": null,
   "metadata": {},
   "outputs": [],
   "source": [
    "db := &analysis.PostgresDb{\n",
    "\tUser: \"\",\n",
    "\tPassword: \"\",\n",
    "\tDbname: \"\",\n",
    "\tTableName: \"\",\n",
    "}\n",
    "\n",
    "storage := analysis.NewStateTimeStorageFromPostgresDb(\n",
    "\tdb,\n",
    "\t[]string{\"partition_1\", \"partition_2\"},\n",
    "\t0.0,\n",
    "\t100.0,\n",
    ")\n",
    "\n",
    "groupedStorage := analysis.NewGroupedStateTimeStorage(\n",
    "\tanalysis.AppliedGrouping{\n",
    "\t\tGroupBy: []analysis.DataRef{},\n",
    "\t\tDefault: 0.0,\n",
    "\t\tPrecision: 4,\n",
    "\t},\n",
    "\tstorage,\n",
    ")\n",
    "\n",
    "groupedSumPartition := analysis.NewGroupedAggregationPartition(\n",
    "\tgeneral.SumAggregation,\n",
    "\tanalysis.AppliedAggregation{\n",
    "\t\tName: \"grouped_sum\",\n",
    "\t\tData: analysis.DataRef{PartitionName: \"partition_1\"},\n",
    "\t},\n",
    "\tgroupedStorage,\n",
    ")\n",
    "\n",
    "// Run and add the grouped sum partition to storage\n",
    "storage = analysis.AddPartitionToStateTimeStorage(\n",
    "\tstorage,\n",
    "\tgroupedSumPartition,\n",
    "\tmap[string]int{\"partition_1\": 1},\n",
    ")\n",
    "\n",
    "// Reference the plotting data for the x-axis\n",
    "xRef := analysis.DataRef{IsTime: true}\n",
    "\n",
    "// Reference the plotting data for the y-axis\n",
    "yRefs := []analysis.DataRef{{PartitionName: \"diffs_mean\"}}\n",
    "\n",
    "// Create a line plot from partitions in a simulator.StateTimeStorage\n",
    "line := analysis.NewLinePlotFromPartition(storage, xRef, yRefs, nil)\n",
    "\n",
    "// Display the plot in a Go notebook\n",
    "gonb_echarts.Display(line, \"width: 1024px; height:400px; background: white;\")\n"
   ]
  },
  {
   "cell_type": "code",
   "execution_count": null,
   "metadata": {},
   "outputs": [],
   "source": []
  }
 ],
 "metadata": {
  "kernelspec": {
   "display_name": "Go (gonb)",
   "language": "go",
   "name": "gonb"
  },
  "language_info": {
   "name": "go"
  }
 },
 "nbformat": 4,
 "nbformat_minor": 2
}
